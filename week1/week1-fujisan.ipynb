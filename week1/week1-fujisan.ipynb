{
 "cells": [
  {
   "cell_type": "markdown",
   "metadata": {},
   "source": [
    "# 何回折ったら富士山を超えるか問題"
   ]
  },
  {
   "cell_type": "markdown",
   "metadata": {},
   "source": [
    "## 【課題】富士山を超える最小の折る回数"
   ]
  },
  {
   "cell_type": "code",
   "execution_count": 1,
   "metadata": {
    "scrolled": true
   },
   "outputs": [
    {
     "name": "stdout",
     "output_type": "stream",
     "text": [
      "富士山を超える最小の折る回数: 26回\n"
     ]
    }
   ],
   "source": [
    "fold_time = [] # 折った紙の厚さを格納したリスト\n",
    "t = 0.00008    # 一枚の紙の厚さ　\n",
    "fold_time.append(t) # fold_timeにtを格納\n",
    "\n",
    "while True:\n",
    "    t *= 2\n",
    "    fold_time.append(t)\n",
    "    if t > 3776:\n",
    "        break\n",
    "\n",
    "max_fold_time = (fold_time.index(max(fold_time))) # 紙を折った回数\n",
    "\n",
    "# print(max_fold_time)\n",
    "# print(fold_time)\n",
    "# print(len(fold_time))\n",
    "\n",
    "print(\"富士山を超える最小の折る回数: {}回\".format(max_fold_time))"
   ]
  },
  {
   "cell_type": "markdown",
   "metadata": {},
   "source": [
    "## 【課題】任意の厚さに対応した関数を作成"
   ]
  },
  {
   "cell_type": "code",
   "execution_count": 2,
   "metadata": {},
   "outputs": [
    {
     "name": "stdout",
     "output_type": "stream",
     "text": [
      "最も近い太陽以外の恒星までは紙を67回折れば到達する\n"
     ]
    }
   ],
   "source": [
    "def cross_over(dist):\n",
    "    \n",
    "    fold_time = [] # 折った紙の厚さを格納するのリスト\n",
    "    t = 0.00008 # 一枚の紙の厚さ\n",
    "    fold_time.append(t) # fold_timeにtを格納\n",
    "    \n",
    "    while True:\n",
    "        t *= 2\n",
    "        fold_time.append(t)\n",
    "        \n",
    "        if dist < fold_time[-1]:\n",
    "            break\n",
    "            \n",
    "    #print(fold_time)\n",
    "    return fold_time.index(max(fold_time))\n",
    "\n",
    "print(\"最も近い太陽以外の恒星までは紙を{}回折れば到達する\".format(cross_over(9.461e+15)))"
   ]
  },
  {
   "cell_type": "markdown",
   "metadata": {},
   "source": [
    "## 【課題】必要な紙の長さ"
   ]
  },
  {
   "cell_type": "code",
   "execution_count": 3,
   "metadata": {},
   "outputs": [
    {
     "name": "stdout",
     "output_type": "stream",
     "text": [
      "紙を折った厚さが月に到達するために必要な紙の長さは2.0731369191233386e+23メートル\n"
     ]
    }
   ],
   "source": [
    "#l = ((3.14 * t) / 6)(2**n + 4)(2**n - 1)：紙の長さを求める公式\n",
    "\n",
    "dist = 3.8444e+9 # 月までの距離(メートル)\n",
    "\n",
    "def paper_lengs():\n",
    "    \n",
    "    t = 0.00008 # 一枚の紙の厚さ\n",
    "    n = cross_over(dist) # 紙を折った回数\n",
    "    #print(n)\n",
    "    return ((3.14 * t) / 6) * (2**n + 4) * (2**n - 1) # 紙の長さ\n",
    "\n",
    "print(\"紙を折った厚さが月に到達するために必要な紙の長さは{}メートル\".format(paper_lengs()))"
   ]
  },
  {
   "cell_type": "code",
   "execution_count": 4,
   "metadata": {},
   "outputs": [
    {
     "name": "stdout",
     "output_type": "stream",
     "text": [
      "紙を折った厚さが富士山の高さに到達するために必要な紙の長さは188550712828.11795メートル\n"
     ]
    }
   ],
   "source": [
    "dist = 3776 # 富士山の高さ(メートル）\n",
    "\n",
    "print(\"紙を折った厚さが富士山の高さに到達するために必要な紙の長さは{}メートル\".format(paper_lengs()))"
   ]
  },
  {
   "cell_type": "code",
   "execution_count": 5,
   "metadata": {},
   "outputs": [
    {
     "name": "stdout",
     "output_type": "stream",
     "text": [
      "紙を折った厚さが最も近い太陽以外の恒星に到達するために必要な紙の長さは9.117752594190907e+35メートル\n"
     ]
    }
   ],
   "source": [
    "dist = 9.461e+15 #最も近い太陽以外の恒星\n",
    "\n",
    "print(\"紙を折った厚さが最も近い太陽以外の恒星に到達するために必要な紙の長さは{}メートル\".format(paper_lengs()))"
   ]
  }
 ],
 "metadata": {
  "kernelspec": {
   "display_name": "Python 3",
   "language": "python",
   "name": "python3"
  },
  "language_info": {
   "codemirror_mode": {
    "name": "ipython",
    "version": 3
   },
   "file_extension": ".py",
   "mimetype": "text/x-python",
   "name": "python",
   "nbconvert_exporter": "python",
   "pygments_lexer": "ipython3",
   "version": "3.7.3"
  }
 },
 "nbformat": 4,
 "nbformat_minor": 2
}
