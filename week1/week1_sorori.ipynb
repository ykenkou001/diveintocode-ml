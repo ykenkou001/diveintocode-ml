{
 "cells": [
  {
   "cell_type": "markdown",
   "metadata": {},
   "source": [
    "# 問題1　100日後の米粒の数"
   ]
  },
  {
   "cell_type": "code",
   "execution_count": 1,
   "metadata": {},
   "outputs": [
    {
     "name": "stdout",
     "output_type": "stream",
     "text": [
      "100日後にもらえる米粒の合計: 2535301200456458802993406410650個\n"
     ]
    }
   ],
   "source": [
    "\n",
    "kome = 1\n",
    "\n",
    "#ある日にもらう米の数のリスト\n",
    "list_n_grains = []\n",
    "list_n_grains.append(kome)\n",
    "\n",
    "#　100日後\n",
    "n = 100\n",
    "\n",
    "#ある日までに累計で貰う米の数のリスト\n",
    "list_total_grains = []\n",
    "list_total_grains.append(kome)\n",
    "\n",
    "for i in range(n - 1):\n",
    "    kome *= 2\n",
    "    list_n_grains.append(kome)\n",
    "    total = sum(list_n_grains)\n",
    "    list_total_grains.append(total)\n",
    "\n",
    "print(\"{0}日後にもらえる米粒の合計: {1}個\".format(n, sum(list_total_grains)))"
   ]
  },
  {
   "cell_type": "code",
   "execution_count": 2,
   "metadata": {},
   "outputs": [
    {
     "data": {
      "image/png": "[encoded data removed]",
      "text/plain": [
       "<Figure size 432x288 with 1 Axes>"
      ]
     },
     "metadata": {
      "needs_background": "light"
     },
     "output_type": "display_data"
    }
   ],
   "source": [
    "from matplotlib import rcParams\n",
    "rcParams['font.family'] = 'sans-serif'\n",
    "rcParams['font.sans-serif'] = ['Hiragino Maru Gothic Pro', 'Yu Gothic', 'Meirio', 'Takao', 'IPAexGothic', 'IPAPGothic', 'Noto Sans CJK JP']\n",
    "\n",
    "import matplotlib.pyplot as plt\n",
    "%matplotlib inline\n",
    "\n",
    "plt.title(\"その日にもらうコメの数\")\n",
    "plt.xlabel(\"日数\")\n",
    "plt.ylabel(\"米の数\")\n",
    "plt.plot(list_n_grains)\n",
    "plt.show()"
   ]
  },
  {
   "cell_type": "code",
   "execution_count": 3,
   "metadata": {},
   "outputs": [
    {
     "data": {
      "image/png": "[encoded data removed]",
      "text/plain": [
       "<Figure size 432x288 with 1 Axes>"
      ]
     },
     "metadata": {
      "needs_background": "light"
     },
     "output_type": "display_data"
    }
   ],
   "source": [
    "import matplotlib.pyplot as plt\n",
    "%matplotlib inline\n",
    "\n",
    "plt.title(\"その日にもらう累計のコメの数\")\n",
    "plt.xlabel(\"日数\")\n",
    "plt.ylabel(\"累計の米の数\")\n",
    "plt.plot(list_total_grains)\n",
    "plt.show()"
   ]
  },
  {
   "cell_type": "markdown",
   "metadata": {},
   "source": [
    "# 問題2　100日後以外の米粒の数"
   ]
  },
  {
   "cell_type": "code",
   "execution_count": 4,
   "metadata": {},
   "outputs": [
    {
     "name": "stdout",
     "output_type": "stream",
     "text": [
      "([1, 2, 4, 8, 16, 32, 64, 128, 256, 512], [1, 3, 7, 15, 31, 63, 127, 255, 511, 1023])\n",
      "10日後にもらえる米の数: 1023個\n"
     ]
    }
   ],
   "source": [
    "#コースを受講する日数＝71日間（7月:5日間、8月：22日間、9月：21日間、10月：23日間とする。）\n",
    "\n",
    "def compute_sorori_shinzaemon(day):\n",
    "    \"\"\"\n",
    "    曽呂利新左衛門の米の逸話を検証する関数。日にちごとの米の粒の数を計算する。\n",
    "\n",
    "    Parameteres\n",
    "    --------------\n",
    "    day: int\n",
    "        米を貰う日数 (default : 100)\n",
    "\n",
    "    Returns\n",
    "    --------------\n",
    "    list_n_grains : list\n",
    "        ある日に貰う米の数のリスト（リストの長さはdayに等しくなる）\n",
    "    list_total_grains : list\n",
    "        ある日までに累計で貰う米の数のリスト（リストの長さはdayに等しくなる）\n",
    "    \"\"\"\n",
    "    # ここにコードを書く。passは何もしないことを意味する命令である。\n",
    "    kome = 1\n",
    "    \n",
    "\n",
    "    #ある日にもらう米の数のリスト\n",
    "    list_n_grains = []\n",
    "    list_n_grains.append(kome)\n",
    "\n",
    "    #ある日までに累計で貰う米の数のリスト\n",
    "    list_total_grains = []\n",
    "    list_total_grains.append(kome)\n",
    "    \n",
    "    \n",
    "    for i in range(day - 1):\n",
    "        kome *= 2\n",
    "        list_n_grains.append(kome)\n",
    "        total = sum(list_n_grains)\n",
    "        list_total_grains.append(total)\n",
    "\n",
    "    \n",
    "\n",
    "    return list_n_grains, list_total_grains\n",
    "\n",
    "n_day = compute_sorori_shinzaemon(10)\n",
    "\n",
    "print(n_day)\n",
    "print(\"{}日後にもらえる米の数: {}個\".format(len(n_day[0]), n_day[1][-1]))"
   ]
  },
  {
   "cell_type": "markdown",
   "metadata": {},
   "source": [
    "# 受講期間にもらえる米の数"
   ]
  },
  {
   "cell_type": "code",
   "execution_count": 5,
   "metadata": {},
   "outputs": [
    {
     "name": "stdout",
     "output_type": "stream",
     "text": [
      "120\n",
      "120日後にもらえる米の数: 1329227995784915872903807060280344575個\n"
     ]
    }
   ],
   "source": [
    "#受講期間は4か月=120日間とする。\n",
    "\n",
    "day_120 = compute_sorori_shinzaemon(120)\n",
    "\n",
    "print(len(day_120[0]))\n",
    "print(\"{}日後にもらえる米の数: {}個\".format(len(day_120[0]), day_120[1][-1]))"
   ]
  },
  {
   "cell_type": "code",
   "execution_count": 6,
   "metadata": {},
   "outputs": [
    {
     "data": {
      "image/png": "[encoded data removed]",
      "text/plain": [
       "<Figure size 432x288 with 1 Axes>"
      ]
     },
     "metadata": {
      "needs_background": "light"
     },
     "output_type": "display_data"
    }
   ],
   "source": [
    "plt.title(\"コース受講期間中にもらえる米の数\")\n",
    "plt.xlabel(\"日数\")\n",
    "plt.ylabel(\"累計のコメの数\")\n",
    "plt.plot(day_120[1])\n",
    "plt.show()\n"
   ]
  },
  {
   "cell_type": "markdown",
   "metadata": {},
   "source": [
    "# 問題3 何人が何日生活できる米か"
   ]
  },
  {
   "cell_type": "code",
   "execution_count": 7,
   "metadata": {},
   "outputs": [
    {
     "name": "stdout",
     "output_type": "stream",
     "text": [
      "10人が5.654768643505541e+30日生活できる。\n"
     ]
    }
   ],
   "source": [
    "# クラスの人数\n",
    "# お茶碗一杯：160ｇ\n",
    "# お茶碗一杯のカロリー：269kcal\n",
    "# お茶碗一杯の米粒の数：3200粒\n",
    "# 成人男性一日当たりの平均消費カロリー:　1976kcal\n",
    "# 基礎代謝計算参照　https://motivated.jp/modules/calom/\n",
    "# 一膳分のカロリー　https://calorie.slism.jp/101088/\n",
    "# お茶碗一杯の米粒の数\n",
    "\n",
    "\n",
    "def kome_save_people(kome_num, num_of_people):\n",
    "    kome_num = day_120[1][-1] #今ある米粒の数\n",
    "    num_of_people = 10 #クラスの人数\n",
    "    kcal_day = 1976 * num_of_people #10人で一日に必要なカロリー数\n",
    "    kome_day = kcal_day / 269 #一日何杯必要か？\n",
    "    num_kome = kome_day * 3200 #10人で一日に必要な米粒の数\n",
    "    \n",
    "    return kome_num / num_kome\n",
    "print(\"{}人が{}日生活できる。\".format(10, kome_save_people(day_120[1][-1], 10)))"
   ]
  },
  {
   "cell_type": "code",
   "execution_count": null,
   "metadata": {},
   "outputs": [],
   "source": []
  }
 ],
 "metadata": {
  "kernelspec": {
   "display_name": "Python 3",
   "language": "python",
   "name": "python3"
  },
  "language_info": {
   "codemirror_mode": {
    "name": "ipython",
    "version": 3
   },
   "file_extension": ".py",
   "mimetype": "text/x-python",
   "name": "python",
   "nbconvert_exporter": "python",
   "pygments_lexer": "ipython3",
   "version": "3.7.3"
  }
 },
 "nbformat": 4,
 "nbformat_minor": 2
}
