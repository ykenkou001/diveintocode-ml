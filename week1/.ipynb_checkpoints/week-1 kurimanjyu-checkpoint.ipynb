{
 "cells": [
  {
   "cell_type": "markdown",
   "metadata": {},
   "source": [
    "# 【問題】栗まんじゅうが太陽系を覆う日"
   ]
  },
  {
   "cell_type": "markdown",
   "metadata": {},
   "source": [
    "栗饅頭の半径＝2.5cm（2.5e-5km）とする。  \n",
    "太陽系の中心の太陽から太陽系の一番外側の星の冥王星までの距離の平均を59億5400万㎞（5.954e+9km）とする。  \n",
    "参照：https://detail.chiebukuro.yahoo.co.jp/qa/question_detail/q1131299206"
   ]
  },
  {
   "cell_type": "code",
   "execution_count": 4,
   "metadata": {},
   "outputs": [
    {
     "name": "stdout",
     "output_type": "stream",
     "text": [
      "720分後に太陽系が栗饅頭で埋まる\n"
     ]
    }
   ],
   "source": [
    "#(4 * π * r**3) / 3 = V(体積を求める公式)\n",
    "# 円周率π=3.14とする。\n",
    "\n",
    "# 体積を求める関数を定義する。\n",
    "def ask_v(r):\n",
    "    return ((4 * 3.14 * r**3) / 3)\n",
    "\n",
    "\n",
    "\n",
    "# 関数定義\n",
    "def n_bibin(kuri_v, solar_sys_v):\n",
    "        \n",
    "    n_kuri_v = [] # n回バイバインを振りかけたときの栗饅頭の体積のリスト\n",
    "\n",
    "    for i in range(1000):\n",
    "        kuri_v *= 2\n",
    "        n_kuri_v.append(kuri_v)\n",
    "    \n",
    "        if n_kuri_v[-1] > solar_sys_v:\n",
    "            break\n",
    "    n_times = len(n_kuri_v) #バイバインを振りかけた回数       \n",
    "    \n",
    "    return n_times\n",
    "\n",
    "kuri_v = ask_v(2.5e-5) # 栗饅頭の体積(km***3)\n",
    "solar_sys_v = ask_v(5.954e+9)# 太陽系の体積(km***3)\n",
    "\n",
    "\n",
    "\n",
    "print(\"{}分後に太陽系が栗饅頭で埋まる\".format(5 * (n_bibin(kuri_v, solar_sys_v))))"
   ]
  },
  {
   "cell_type": "code",
   "execution_count": 5,
   "metadata": {},
   "outputs": [],
   "source": [
    "n_kuri_v = [] # n回バイバインを振りかけたときの栗饅頭の体積のリスト\n",
    "\n",
    "for i in range(1000):\n",
    "    kuri_v *= 2\n",
    "    n_kuri_v.append(kuri_v)\n",
    "    \n",
    "    if n_kuri_v[-1] > solar_sys_v:\n",
    "        break\n",
    "n_times = len(n_kuri_v) #バイバインを振りかけた回数       "
   ]
  },
  {
   "cell_type": "code",
   "execution_count": 6,
   "metadata": {},
   "outputs": [
    {
     "data": {
      "image/png": "[encoded data removed]",
      "text/plain": [
       "<Figure size 432x288 with 1 Axes>"
      ]
     },
     "metadata": {
      "needs_background": "light"
     },
     "output_type": "display_data"
    }
   ],
   "source": [
    "from matplotlib import rcParams\n",
    "rcParams['font.family'] = 'sans-serif'\n",
    "rcParams['font.sans-serif'] = ['Hiragino Maru Gothic Pro', 'Yu Gothic', 'Meirio', 'Takao', 'IPAexGothic', 'IPAPGothic', 'Noto Sans CJK JP']\n",
    "\n",
    "import matplotlib.pyplot as plt\n",
    "%matplotlib inline\n",
    "\n",
    "plt.title(\"バイバインを振りかけた栗饅頭の体積の変化\")\n",
    "plt.xlabel(\"振りかけた回数\")\n",
    "plt.ylabel(\"栗饅頭の体積\")\n",
    "plt.plot(n_kuri_v)\n",
    "plt.show()"
   ]
  },
  {
   "cell_type": "code",
   "execution_count": null,
   "metadata": {},
   "outputs": [],
   "source": []
  }
 ],
 "metadata": {
  "kernelspec": {
   "display_name": "Python 3",
   "language": "python",
   "name": "python3"
  },
  "language_info": {
   "codemirror_mode": {
    "name": "ipython",
    "version": 3
   },
   "file_extension": ".py",
   "mimetype": "text/x-python",
   "name": "python",
   "nbconvert_exporter": "python",
   "pygments_lexer": "ipython3",
   "version": "3.7.3"
  }
 },
 "nbformat": 4,
 "nbformat_minor": 2
}
