{
 "cells": [
  {
   "cell_type": "markdown",
   "metadata": {},
   "source": [
    "# Sprint 深層学習スクラッチ ディープニューラルネ"
   ]
  },
  {
   "cell_type": "code",
   "execution_count": 1,
   "metadata": {
    "ExecuteTime": {
     "end_time": "2019-10-26T08:48:59.643132Z",
     "start_time": "2019-10-26T08:48:49.718028Z"
    }
   },
   "outputs": [
    {
     "name": "stderr",
     "output_type": "stream",
     "text": [
      "Using TensorFlow backend.\n",
      "C:\\Users\\ykenk\\Anaconda3\\envs\\tf_keras\\lib\\importlib\\_bootstrap.py:219: RuntimeWarning: numpy.ufunc size changed, may indicate binary incompatibility. Expected 192 from C header, got 216 from PyObject\n",
      "  return f(*args, **kwds)\n",
      "C:\\Users\\ykenk\\Anaconda3\\envs\\tf_keras\\lib\\importlib\\_bootstrap.py:219: RuntimeWarning: numpy.ufunc size changed, may indicate binary incompatibility. Expected 192 from C header, got 216 from PyObject\n",
      "  return f(*args, **kwds)\n"
     ]
    }
   ],
   "source": [
    "import numpy as np\n",
    "\n",
    "import matplotlib.pyplot as plt\n",
    "%matplotlib inline\n",
    "\n",
    "from keras.datasets import mnist\n",
    "\n",
    "from sklearn.preprocessing import OneHotEncoder\n",
    "from sklearn.model_selection import train_test_split\n",
    "from sklearn.metrics import accuracy_score"
   ]
  },
  {
   "cell_type": "markdown",
   "metadata": {},
   "source": [
    "# データ取り込み"
   ]
  },
  {
   "cell_type": "code",
   "execution_count": 2,
   "metadata": {
    "ExecuteTime": {
     "end_time": "2019-10-26T08:49:54.405883Z",
     "start_time": "2019-10-26T08:49:54.121641Z"
    }
   },
   "outputs": [],
   "source": [
    "(X_train, t_train), (X_test, t_test) = mnist.load_data()"
   ]
  },
  {
   "cell_type": "code",
   "execution_count": 3,
   "metadata": {
    "ExecuteTime": {
     "end_time": "2019-10-26T08:50:08.057783Z",
     "start_time": "2019-10-26T08:50:07.756234Z"
    }
   },
   "outputs": [],
   "source": [
    "X_train  = X_train.reshape(-1, 784)\n",
    "X_test = X_test.reshape(-1, 784)\n",
    "X_train = X_train.astype(np.float)\n",
    "X_test = X_test.astype(np.float)\n",
    "X_train /= 255\n",
    "X_test /= 255\n",
    "enc = OneHotEncoder(handle_unknown=\"ignore\", sparse=False)\n",
    "t_train_one_hot = enc.fit_transform(t_train[:, np.newaxis])\n",
    "t_test_one_hot = enc.fit_transform(t_test[:,  np.newaxis])"
   ]
  },
  {
   "cell_type": "markdown",
   "metadata": {},
   "source": [
    "# クラス作成"
   ]
  },
  {
   "cell_type": "markdown",
   "metadata": {},
   "source": [
    "## ミニバッチ"
   ]
  },
  {
   "cell_type": "code",
   "execution_count": 4,
   "metadata": {
    "ExecuteTime": {
     "end_time": "2019-10-26T08:50:47.967565Z",
     "start_time": "2019-10-26T08:50:47.885765Z"
    }
   },
   "outputs": [],
   "source": [
    "class GetMiniBatch:\n",
    "    \"\"\"\n",
    "    ミニバッチを取得するイテレータ\n",
    "\n",
    "    Parameters\n",
    "    ----------\n",
    "    X : 次の形のndarray, shape (n_samples, n_features)\n",
    "      訓練用データ\n",
    "    y : 次の形のndarray, shape (n_samples, 1)\n",
    "      正解値\n",
    "    batch_size : int\n",
    "      バッチサイズ\n",
    "    seed : int\n",
    "      NumPyの乱数のシード\n",
    "    \"\"\"\n",
    "    def __init__(self, X, y, batch_size = 20, seed=0):\n",
    "        self.batch_size = batch_size\n",
    "        np.random.seed(seed)\n",
    "        shuffle_index = np.random.permutation(np.arange(X.shape[0]))\n",
    "        self._X = X[shuffle_index]\n",
    "        self._y = y[shuffle_index]\n",
    "        self._stop = np.ceil(X.shape[0]/self.batch_size).astype(np.int)\n",
    "\n",
    "    def __len__(self):\n",
    "        return self._stop\n",
    "\n",
    "    def __getitem__(self,item):\n",
    "        p0 = item*self.batch_size\n",
    "        p1 = item*self.batch_size + self.batch_size\n",
    "        return self._X[p0:p1], self._y[p0:p1]        \n",
    "\n",
    "    def __iter__(self):\n",
    "        self._counter = 0\n",
    "        return self\n",
    "\n",
    "    def __next__(self):\n",
    "        if self._counter >= self._stop:\n",
    "            raise StopIteration()\n",
    "        p0 = self._counter*self.batch_size\n",
    "        p1 = self._counter*self.batch_size + self.batch_size\n",
    "        self._counter += 1\n",
    "        return self._X[p0:p1], self._y[p0:p1]"
   ]
  },
  {
   "cell_type": "markdown",
   "metadata": {},
   "source": [
    "# 【問題1】全結合層のクラス化"
   ]
  },
  {
   "cell_type": "code",
   "execution_count": 5,
   "metadata": {
    "ExecuteTime": {
     "end_time": "2019-10-26T08:52:20.851419Z",
     "start_time": "2019-10-26T08:52:20.843431Z"
    }
   },
   "outputs": [],
   "source": [
    "class FC:\n",
    "    \"\"\"\n",
    "    ノード数n_nodes1からn_nodes2への全結合層\n",
    "    Parameters\n",
    "    ----------\n",
    "    n_nodes1 : int\n",
    "      前の層のノード数\n",
    "    n_nodes2 : int\n",
    "      後の層のノード数\n",
    "    initializer : 初期化方法のインスタンス\n",
    "    optimizer : 最適化手法のインスタンス\n",
    "    \"\"\"\n",
    "    def __init__(self, n_nodes1, n_nodes2, initializer, optimizer):\n",
    "        self.optimizer = optimizer\n",
    "        # 初期化\n",
    "        # initializerのメソッドを使い、self.Wとself.Bを初期化する\n",
    "        init = initializer\n",
    "        self.n_nodes1 = n_nodes1\n",
    "        self.W = init.W(n_nodes1, n_nodes2)\n",
    "        self.B = init.B(n_nodes2)\n",
    "    \n",
    "\n",
    "    \n",
    "    def forward(self, X):\n",
    "        \"\"\"\n",
    "        フォワード\n",
    "        Parameters\n",
    "        ----------\n",
    "        X : 次の形のndarray, shape (batch_size, n_nodes1)\n",
    "            入力\n",
    "        Returns\n",
    "        ----------\n",
    "        A : 次の形のndarray, shape (batch_size, n_nodes2)\n",
    "            出力\n",
    "        \"\"\"\n",
    "        self.z = X\n",
    "        self.a = X@self.W + self.B\n",
    "        \n",
    "        return self.a\n",
    "\n",
    "    \n",
    "    def backward(self, dA):\n",
    "        \"\"\"\n",
    "        バックワード\n",
    "        Parameters\n",
    "        ----------\n",
    "        dA : 次の形のndarray, shape (batch_size, n_nodes2)\n",
    "            後ろから流れてきた勾配\n",
    "        Returns\n",
    "        ----------\n",
    "        dZ : 次の形のndarray, shape (batch_size, n_nodes1)\n",
    "            前に流す勾配\n",
    "        \"\"\"\n",
    "        dZ = dA @ self.W.T\n",
    "        self.L_W = self.z.T @ dA\n",
    "        self.L_B = np.sum(dA, axis=0)\n",
    "        \n",
    "        \n",
    "        # 更新\n",
    "        self = self.optimizer.update(self)\n",
    "        return dZ"
   ]
  },
  {
   "cell_type": "markdown",
   "metadata": {},
   "source": [
    "# 【問題2】初期化方法のクラス化"
   ]
  },
  {
   "cell_type": "code",
   "execution_count": 6,
   "metadata": {
    "ExecuteTime": {
     "end_time": "2019-10-26T08:52:45.514962Z",
     "start_time": "2019-10-26T08:52:45.509975Z"
    }
   },
   "outputs": [],
   "source": [
    "class SimpleInitializer:\n",
    "    \"\"\"\n",
    "    ガウス分布によるシンプルな初期化\n",
    "    Parameters\n",
    "    ----------\n",
    "    sigma : float\n",
    "      ガウス分布の標準偏差\n",
    "    \"\"\"\n",
    "    def __init__(self, sigma):\n",
    "        self.sigma = sigma\n",
    "    def W(self, n_nodes1, n_nodes2):\n",
    "        \"\"\"\n",
    "        重みの初期化\n",
    "        Parameters\n",
    "        ----------\n",
    "        n_nodes1 : int\n",
    "          前の層のノード数\n",
    "        n_nodes2 : int\n",
    "          後の層のノード数\n",
    "\n",
    "        Returns\n",
    "        ----------\n",
    "        W :\n",
    "        \"\"\"\n",
    "        W = self.sigma * np.random.randn(n_nodes1, n_nodes2)\n",
    "        \n",
    "        return W\n",
    "    \n",
    "    def B(self, n_nodes2):\n",
    "        \"\"\"\n",
    "        バイアスの初期化\n",
    "        Parameters\n",
    "        ----------\n",
    "        n_nodes2 : int\n",
    "          後の層のノード数\n",
    "\n",
    "        Returns\n",
    "        ----------\n",
    "        B :\n",
    "        \"\"\"\n",
    "        B  = self.sigma * np.random.randn(n_nodes2)\n",
    "        return B"
   ]
  },
  {
   "cell_type": "markdown",
   "metadata": {},
   "source": [
    "# 【問題3】最適化手法のクラス化"
   ]
  },
  {
   "cell_type": "code",
   "execution_count": 7,
   "metadata": {
    "ExecuteTime": {
     "end_time": "2019-10-26T08:54:29.771103Z",
     "start_time": "2019-10-26T08:54:29.765150Z"
    }
   },
   "outputs": [],
   "source": [
    "class SGD:\n",
    "    \"\"\"\n",
    "    確率的勾配降下法\n",
    "    Parameters\n",
    "    ----------\n",
    "    lr : 学習率\n",
    "    \"\"\"\n",
    "    def __init__(self, lr):\n",
    "        self.lr = lr\n",
    "    def update(self, layer):\n",
    "        \"\"\"\n",
    "        ある層の重みやバイアスの更新\n",
    "        Parameters\n",
    "        ----------\n",
    "        layer : 更新前の層のインスタンス\n",
    "\n",
    "        Returns\n",
    "        ----------\n",
    "        layer : 更新後の層のインスタンス\n",
    "        \"\"\"\n",
    "        #layer.L_W = np.average(layer.L_W, axis=0)\n",
    "        #layer.L_B = np.average(layer.L_B, axis=0)\n",
    "        \n",
    "        layer.W = layer.W -  self.lr * layer.L_W\n",
    "        \n",
    "        layer.B = layer.B - self.lr*layer.L_B\n",
    "\n",
    "        \n",
    "        \n",
    "        \n",
    "        return layer"
   ]
  },
  {
   "cell_type": "markdown",
   "metadata": {},
   "source": [
    "# 【問題4】活性化関数のクラス化"
   ]
  },
  {
   "cell_type": "code",
   "execution_count": 8,
   "metadata": {
    "ExecuteTime": {
     "end_time": "2019-10-26T08:54:52.620967Z",
     "start_time": "2019-10-26T08:54:52.612991Z"
    }
   },
   "outputs": [],
   "source": [
    "class Tanh:\n",
    "    \n",
    "    def forward(self, X):\n",
    "        self.A = X\n",
    "        \n",
    "        return (np.exp(X) - np.exp(-X)) / (np.exp(X) + np.exp(-X))\n",
    "    \n",
    "    def backward(self, Z):\n",
    "        \n",
    "        tanh = Tanh()\n",
    "        a = tanh.forward(self.A)\n",
    "        a = a**2\n",
    "        a = 1- a\n",
    "        L_A = Z * a\n",
    "    \n",
    "        \n",
    "        return L_A"
   ]
  },
  {
   "cell_type": "markdown",
   "metadata": {},
   "source": [
    "# 【問題4】活性化関数のクラス化"
   ]
  },
  {
   "cell_type": "code",
   "execution_count": 9,
   "metadata": {
    "ExecuteTime": {
     "end_time": "2019-10-26T08:55:23.621649Z",
     "start_time": "2019-10-26T08:55:23.614667Z"
    }
   },
   "outputs": [],
   "source": [
    "class Softmax:\n",
    "    def forward(self, A):\n",
    "        softmax_result = np.empty((A.shape[0], A.shape[1]))\n",
    "        exp_a = np.exp(A)\n",
    "        exp_sum = np.sum(exp_a, axis=1)\n",
    "        for i in range(A.shape[0]):\n",
    "            softmax_result[i] = exp_a[i] / exp_sum[i]\n",
    "            \n",
    "        return softmax_result\n",
    "    \n",
    "    def backward(self, Z, Y):\n",
    "        \n",
    "        L_A = Z - Y\n",
    "        self.cross_entropy = -np.average(np.sum(Y*np.log(Z), axis=1))\n",
    "        \n",
    "        \n",
    "        return L_A"
   ]
  },
  {
   "cell_type": "markdown",
   "metadata": {},
   "source": [
    " # 【問題5】ReLUクラスの作成"
   ]
  },
  {
   "cell_type": "code",
   "execution_count": 10,
   "metadata": {
    "ExecuteTime": {
     "end_time": "2019-10-26T08:55:49.853631Z",
     "start_time": "2019-10-26T08:55:49.847650Z"
    }
   },
   "outputs": [],
   "source": [
    "class Relu:\n",
    "    def forward(self, X):\n",
    "        self.A = X\n",
    "        return np.maximum(0, X)\n",
    "    \n",
    "    def backward(self, Z):\n",
    "        \n",
    "        return Z * np.maximum(np.sign(self.A), 0)"
   ]
  },
  {
   "cell_type": "markdown",
   "metadata": {},
   "source": [
    "# 【問題6】重みの初期値"
   ]
  },
  {
   "cell_type": "code",
   "execution_count": 11,
   "metadata": {
    "ExecuteTime": {
     "end_time": "2019-10-26T08:56:44.537006Z",
     "start_time": "2019-10-26T08:56:44.526998Z"
    }
   },
   "outputs": [],
   "source": [
    "class Xaver_Initilizer:\n",
    "    \n",
    "    def __init__(self, n_node1):\n",
    "        self.sigma =  1 / np.sqrt(n_node1)\n",
    "        \n",
    "    def W(self, n_nodes1, n_nodes2):\n",
    "        W = self.sigma * np.random.randn(n_nodes1, n_nodes2)\n",
    "        return W\n",
    "    \n",
    "    def B(self, n_nodes2):\n",
    "        B  = self.sigma * np.random.randn(n_nodes2)\n",
    "        return B"
   ]
  },
  {
   "cell_type": "markdown",
   "metadata": {},
   "source": [
    "# 【問題6】重みの初期値"
   ]
  },
  {
   "cell_type": "code",
   "execution_count": 12,
   "metadata": {
    "ExecuteTime": {
     "end_time": "2019-10-26T08:57:27.827754Z",
     "start_time": "2019-10-26T08:57:27.818779Z"
    }
   },
   "outputs": [],
   "source": [
    "class He_Initilizer:\n",
    "    \n",
    "    def __init__(self, n_node1):\n",
    "        self.sigma = np.sqrt(2/n_node1)\n",
    "        \n",
    "    def W(self, n_nodes1, n_nodes2):\n",
    "        W = self.sigma * np.random.randn(n_nodes1, n_nodes2)\n",
    "        return W\n",
    "    \n",
    "    def B(self, n_nodes2):\n",
    "        B  = self.sigma * np.random.randn(n_nodes2)\n",
    "        return B"
   ]
  },
  {
   "cell_type": "markdown",
   "metadata": {},
   "source": [
    "# 【問題7】最適化手法"
   ]
  },
  {
   "cell_type": "code",
   "execution_count": 13,
   "metadata": {
    "ExecuteTime": {
     "end_time": "2019-10-26T08:58:02.208587Z",
     "start_time": "2019-10-26T08:58:02.198614Z"
    }
   },
   "outputs": [],
   "source": [
    "class AdaGrad:\n",
    "    \n",
    "    def __init__(self, lr):\n",
    "        self.lr = lr\n",
    "        self.H_W = 1\n",
    "        self.H_B = 1\n",
    "\n",
    "    def update(self, layer):\n",
    "        \"\"\"\n",
    "        ある層の重みやバイアスの更新\n",
    "        Parameters\n",
    "        ----------\n",
    "        layer : 更新前の層のインスタンス\n",
    "\n",
    "        Returns\n",
    "        ----------\n",
    "        layer : 更新後の層のインスタンス\n",
    "        \"\"\"\n",
    "        self.H_W = self.H_W + (layer.L_W**2)\n",
    "        self.H_B = self.H_B + (layer.L_B**2)\n",
    "        layer.W = layer.W -  self.lr * 1 / np.sqrt(self.H_W) * layer.L_W\n",
    "        layer.B = layer.B - self.lr * 1 / np.sqrt(self.H_B) * layer.L_B\n",
    "\n",
    "        \n",
    "        \n",
    "        \n",
    "        return layer"
   ]
  },
  {
   "cell_type": "markdown",
   "metadata": {},
   "source": [
    "# AdaGrad_Sum"
   ]
  },
  {
   "cell_type": "code",
   "execution_count": 14,
   "metadata": {
    "ExecuteTime": {
     "end_time": "2019-10-26T08:58:28.582453Z",
     "start_time": "2019-10-26T08:58:28.574474Z"
    }
   },
   "outputs": [],
   "source": [
    "class AdaGrad_Sum:\n",
    "    \n",
    "    def __init__(self, lr):\n",
    "        self.lr = lr\n",
    "        self.H_W = 0\n",
    "        self.H_B = 0\n",
    "    def update(self, layer):\n",
    "        \"\"\"\n",
    "        ある層の重みやバイアスの更新\n",
    "        Parameters\n",
    "        ----------\n",
    "        layer : 更新前の層のインスタンス\n",
    "\n",
    "        Returns\n",
    "        ----------\n",
    "        layer : 更新後の層のインスタンス\n",
    "        \"\"\"\n",
    "        \n",
    "        self.H_W = self.H_W + np.sum(layer.L_W**2)\n",
    "        self.H_B = self.H_B + np.sum(layer.L_B**2)\n",
    "        layer.W = layer.W -  self.lr * 1 / np.sqrt(self.H_W) * layer.L_W\n",
    "        layer.B = layer.B - self.lr * 1 / np.sqrt(self.H_B) * layer.L_B\n",
    "        \n",
    "        \n",
    "        return layer"
   ]
  },
  {
   "cell_type": "markdown",
   "metadata": {},
   "source": [
    "# 【問題8】クラスの完成"
   ]
  },
  {
   "cell_type": "code",
   "execution_count": 15,
   "metadata": {
    "ExecuteTime": {
     "end_time": "2019-10-26T08:59:01.085730Z",
     "start_time": "2019-10-26T08:59:01.070768Z"
    }
   },
   "outputs": [],
   "source": [
    "class ScratchDeepNeuralNetrowkClassifier:\n",
    "    \"\"\"\n",
    "    スクラッチで実装したディープニューラルネットワーク\n",
    "    \"\"\"\n",
    "    def __init__(self,epochs, optimizer, lr=0.01, sigma=0.01):\n",
    "        \n",
    "        self.epochs = epochs\n",
    "        self.lr = lr\n",
    "        self.sigma = sigma\n",
    "        self.loss = []\n",
    "        self.optimizer = optimizer\n",
    "        \n",
    "    def fit(self, X, Y, node_list, act_list, initializer):\n",
    "        \"\"\"\n",
    "        学習を行うメソッド\n",
    "        Params\n",
    "        -----------------\n",
    "        X:訓練データ　                                           array\n",
    "        Y:訓練データの正解ラベル(one_hot)     　array\n",
    "        node_list:入力層から出力層までのノード数を格納したリスト\n",
    "        act_list:活性化関数を格納したリスト\n",
    "        initializer:重みの初期値を決定するクラス\n",
    "        optimizer:最適化手法のクラス\n",
    "        \n",
    "        \"\"\"\n",
    "        #全結合層を保存するリスト\n",
    "        self.FC_list = []\n",
    "        if initializer == SimpleInitializer:\n",
    "            initializer = SimpleInitializer(self.lr)\n",
    "            for i in range(len(node_list) - 1):\n",
    "                self.FC_list.append(FC(node_list[i], node_list[i+1], initializer, self.optimizer(self.lr)))\n",
    "        else:\n",
    "            for i in range(len(node_list) - 1):\n",
    "                self.FC_list.append(FC(node_list[i], node_list[i+1], initializer(node_list[i]), self.optimizer(self.lr)))\n",
    "            \n",
    "                \n",
    "                \n",
    "        #活性化関数を保存するリスト\n",
    "        self.activation_list = []\n",
    "        for i in range(len(act_list)):\n",
    "            self.activation_list.append(act_list[i])\n",
    "            \n",
    "        #エポック回数分学習    \n",
    "        for i in range(self.epochs):\n",
    "            get_mini_batch = GetMiniBatch(X  , Y , batch_size=20)\n",
    "            for X_train_min, t_train_min in get_mini_batch:\n",
    "                #forward処理\n",
    "                Z = X_train_min\n",
    "                for i in range(len(self.activation_list)):\n",
    "                    A = self.FC_list[i].forward(Z)\n",
    "                    Z =  self.activation_list[i].forward(A)\n",
    "                    \n",
    "                #backward処理\n",
    "                dA = self.activation_list[-1].backward(Z, t_train_min)\n",
    "                dZ = self.FC_list[-1].backward(dA)\n",
    "                for i in range(len(self.activation_list)-1):\n",
    "                    dA = self.activation_list[-i-2].backward(dZ)\n",
    "                    dZ = self.FC_list[-i-2].backward(dA)\n",
    "                    \n",
    "            #lossを保存する処理    \n",
    "            Z = X\n",
    "            for i in range(len(self.activation_list)):\n",
    "                A = self.FC_list[i].forward(Z)\n",
    "                Z =  self.activation_list[i].forward(A)\n",
    "            self.activation_list[-1].backward(Z, Y)\n",
    "            self.loss.append(self.activation_list[-1].cross_entropy)\n",
    "            \n",
    "            \n",
    "    def predict(self, X):\n",
    "        Z = X\n",
    "        for i in range(len(self.activation_list)):\n",
    "            A = self.FC_list[i].forward(Z)\n",
    "            Z =  self.activation_list[i].forward(A)\n",
    "            \n",
    "        y = np.argmax(Z, axis=1)\n",
    "        return y"
   ]
  },
  {
   "cell_type": "markdown",
   "metadata": {},
   "source": [
    "# 【問題9】学習と推定"
   ]
  },
  {
   "cell_type": "markdown",
   "metadata": {},
   "source": [
    "# 1回目"
   ]
  },
  {
   "cell_type": "code",
   "execution_count": 16,
   "metadata": {
    "ExecuteTime": {
     "end_time": "2019-10-26T08:59:39.213236Z",
     "start_time": "2019-10-26T08:59:39.208214Z"
    }
   },
   "outputs": [],
   "source": [
    "node_list = [784, 400, 200, 10]\n",
    "act_list = [Tanh(), Tanh(), Softmax()]"
   ]
  },
  {
   "cell_type": "code",
   "execution_count": 17,
   "metadata": {
    "ExecuteTime": {
     "end_time": "2019-10-26T08:59:45.884745Z",
     "start_time": "2019-10-26T08:59:45.878761Z"
    }
   },
   "outputs": [],
   "source": [
    "sdnnc = ScratchDeepNeuralNetrowkClassifier(epochs=3, optimizer = SGD)"
   ]
  },
  {
   "cell_type": "code",
   "execution_count": 18,
   "metadata": {
    "ExecuteTime": {
     "end_time": "2019-10-26T09:00:59.917196Z",
     "start_time": "2019-10-26T08:59:53.514644Z"
    }
   },
   "outputs": [],
   "source": [
    "sdnnc.fit(X_train, t_train_one_hot, node_list, act_list, SimpleInitializer)"
   ]
  },
  {
   "cell_type": "code",
   "execution_count": 19,
   "metadata": {
    "ExecuteTime": {
     "end_time": "2019-10-26T09:01:00.473673Z",
     "start_time": "2019-10-26T09:00:59.919157Z"
    }
   },
   "outputs": [
    {
     "name": "stdout",
     "output_type": "stream",
     "text": [
      "0.971\n"
     ]
    }
   ],
   "source": [
    "y = sdnnc.predict(X_test)\n",
    "print(accuracy_score(t_test, y))"
   ]
  },
  {
   "cell_type": "code",
   "execution_count": 20,
   "metadata": {
    "ExecuteTime": {
     "end_time": "2019-10-26T09:01:00.791824Z",
     "start_time": "2019-10-26T09:01:00.476665Z"
    }
   },
   "outputs": [
    {
     "data": {
      "text/plain": [
       "[<matplotlib.lines.Line2D at 0x14500671348>]"
      ]
     },
     "execution_count": 20,
     "metadata": {},
     "output_type": "execute_result"
    },
    {
     "data": {
      "image/png": "[encoded data removed]",
      "text/plain": [
       "<Figure size 432x288 with 1 Axes>"
      ]
     },
     "metadata": {
      "needs_background": "light"
     },
     "output_type": "display_data"
    }
   ],
   "source": [
    "plt.plot(sdnnc.loss)"
   ]
  },
  {
   "cell_type": "markdown",
   "metadata": {},
   "source": [
    "# 2回目"
   ]
  },
  {
   "cell_type": "code",
   "execution_count": 21,
   "metadata": {
    "ExecuteTime": {
     "end_time": "2019-10-26T09:01:13.276571Z",
     "start_time": "2019-10-26T09:01:13.271582Z"
    }
   },
   "outputs": [],
   "source": [
    "node_list = [784, 400, 200, 10]\n",
    "act_list = [Tanh(), Tanh(), Softmax()]"
   ]
  },
  {
   "cell_type": "code",
   "execution_count": 22,
   "metadata": {
    "ExecuteTime": {
     "end_time": "2019-10-26T09:01:13.828550Z",
     "start_time": "2019-10-26T09:01:13.822563Z"
    }
   },
   "outputs": [],
   "source": [
    "sdnnc_2 = ScratchDeepNeuralNetrowkClassifier(epochs=3, optimizer = AdaGrad)"
   ]
  },
  {
   "cell_type": "code",
   "execution_count": 23,
   "metadata": {
    "ExecuteTime": {
     "end_time": "2019-10-26T09:03:24.829302Z",
     "start_time": "2019-10-26T09:01:14.393933Z"
    }
   },
   "outputs": [],
   "source": [
    "sdnnc_2.fit(X_train, t_train_one_hot, node_list, act_list, Xaver_Initilizer)"
   ]
  },
  {
   "cell_type": "code",
   "execution_count": 24,
   "metadata": {
    "ExecuteTime": {
     "end_time": "2019-10-26T09:03:25.398779Z",
     "start_time": "2019-10-26T09:03:24.832293Z"
    }
   },
   "outputs": [
    {
     "name": "stdout",
     "output_type": "stream",
     "text": [
      "0.9655\n"
     ]
    }
   ],
   "source": [
    "y = sdnnc_2.predict(X_test)\n",
    "print(accuracy_score(t_test, y))"
   ]
  },
  {
   "cell_type": "code",
   "execution_count": 25,
   "metadata": {
    "ExecuteTime": {
     "end_time": "2019-10-26T09:03:25.634208Z",
     "start_time": "2019-10-26T09:03:25.401770Z"
    }
   },
   "outputs": [
    {
     "data": {
      "text/plain": [
       "[<matplotlib.lines.Line2D at 0x14500ae39c8>]"
      ]
     },
     "execution_count": 25,
     "metadata": {},
     "output_type": "execute_result"
    },
    {
     "data": {
      "image/png": "[encoded data removed]",
      "text/plain": [
       "<Figure size 432x288 with 1 Axes>"
      ]
     },
     "metadata": {
      "needs_background": "light"
     },
     "output_type": "display_data"
    }
   ],
   "source": [
    "plt.plot(sdnnc_2.loss)"
   ]
  },
  {
   "cell_type": "markdown",
   "metadata": {},
   "source": [
    "# 3回目"
   ]
  },
  {
   "cell_type": "code",
   "execution_count": 26,
   "metadata": {
    "ExecuteTime": {
     "end_time": "2019-10-26T09:03:25.640135Z",
     "start_time": "2019-10-26T09:03:25.636145Z"
    }
   },
   "outputs": [],
   "source": [
    "node_list = [784, 400, 200, 200, 10]\n",
    "act_list = [Relu(), Relu(),Relu(),  Softmax()]"
   ]
  },
  {
   "cell_type": "code",
   "execution_count": 27,
   "metadata": {
    "ExecuteTime": {
     "end_time": "2019-10-26T09:03:25.648112Z",
     "start_time": "2019-10-26T09:03:25.642128Z"
    }
   },
   "outputs": [],
   "source": [
    "sdnnc_3 = ScratchDeepNeuralNetrowkClassifier(epochs=3, optimizer=SGD)"
   ]
  },
  {
   "cell_type": "code",
   "execution_count": 28,
   "metadata": {
    "ExecuteTime": {
     "end_time": "2019-10-26T09:04:27.341217Z",
     "start_time": "2019-10-26T09:03:25.650107Z"
    }
   },
   "outputs": [],
   "source": [
    "sdnnc_3.fit(X_train, t_train_one_hot, node_list, act_list, He_Initilizer)"
   ]
  },
  {
   "cell_type": "code",
   "execution_count": 29,
   "metadata": {
    "ExecuteTime": {
     "end_time": "2019-10-26T09:04:27.775058Z",
     "start_time": "2019-10-26T09:04:27.343212Z"
    }
   },
   "outputs": [
    {
     "name": "stdout",
     "output_type": "stream",
     "text": [
      "0.9733\n"
     ]
    }
   ],
   "source": [
    "y = sdnnc_3.predict(X_test)\n",
    "print(accuracy_score(t_test, y))"
   ]
  },
  {
   "cell_type": "code",
   "execution_count": 30,
   "metadata": {
    "ExecuteTime": {
     "end_time": "2019-10-26T09:04:28.002453Z",
     "start_time": "2019-10-26T09:04:27.779049Z"
    }
   },
   "outputs": [
    {
     "data": {
      "text/plain": [
       "[<matplotlib.lines.Line2D at 0x145007c3688>]"
      ]
     },
     "execution_count": 30,
     "metadata": {},
     "output_type": "execute_result"
    },
    {
     "data": {
      "image/png": "[encoded data removed]",
      "text/plain": [
       "<Figure size 432x288 with 1 Axes>"
      ]
     },
     "metadata": {
      "needs_background": "light"
     },
     "output_type": "display_data"
    }
   ],
   "source": [
    "plt.plot(sdnnc_3.loss)"
   ]
  },
  {
   "cell_type": "markdown",
   "metadata": {},
   "source": [
    "# 4回目"
   ]
  },
  {
   "cell_type": "code",
   "execution_count": 31,
   "metadata": {
    "ExecuteTime": {
     "end_time": "2019-10-26T09:04:28.008435Z",
     "start_time": "2019-10-26T09:04:28.004445Z"
    }
   },
   "outputs": [],
   "source": [
    "node_list = [784, 400, 200, 10]\n",
    "act_list = [Tanh(), Tanh(), Softmax()]"
   ]
  },
  {
   "cell_type": "code",
   "execution_count": 32,
   "metadata": {
    "ExecuteTime": {
     "end_time": "2019-10-26T09:04:28.016414Z",
     "start_time": "2019-10-26T09:04:28.010429Z"
    }
   },
   "outputs": [],
   "source": [
    "sdnnc_4 = ScratchDeepNeuralNetrowkClassifier(epochs=3, optimizer = AdaGrad_Sum)"
   ]
  },
  {
   "cell_type": "code",
   "execution_count": 33,
   "metadata": {
    "ExecuteTime": {
     "end_time": "2019-10-26T09:05:59.888853Z",
     "start_time": "2019-10-26T09:04:28.018410Z"
    }
   },
   "outputs": [],
   "source": [
    "sdnnc_4.fit(X_train, t_train_one_hot, node_list, act_list, Xaver_Initilizer)"
   ]
  },
  {
   "cell_type": "code",
   "execution_count": 34,
   "metadata": {
    "ExecuteTime": {
     "end_time": "2019-10-26T09:06:00.366578Z",
     "start_time": "2019-10-26T09:05:59.890851Z"
    }
   },
   "outputs": [
    {
     "name": "stdout",
     "output_type": "stream",
     "text": [
      "0.7892\n"
     ]
    }
   ],
   "source": [
    "y = sdnnc_4.predict(X_test)\n",
    "print(accuracy_score(t_test, y))"
   ]
  },
  {
   "cell_type": "code",
   "execution_count": 35,
   "metadata": {
    "ExecuteTime": {
     "end_time": "2019-10-26T09:06:00.590011Z",
     "start_time": "2019-10-26T09:06:00.368573Z"
    }
   },
   "outputs": [
    {
     "data": {
      "text/plain": [
       "[<matplotlib.lines.Line2D at 0x14500fd3bc8>]"
      ]
     },
     "execution_count": 35,
     "metadata": {},
     "output_type": "execute_result"
    },
    {
     "data": {
      "image/png": "[encoded data removed]",
      "text/plain": [
       "<Figure size 432x288 with 1 Axes>"
      ]
     },
     "metadata": {
      "needs_background": "light"
     },
     "output_type": "display_data"
    }
   ],
   "source": [
    "plt.plot(sdnnc_4.loss)"
   ]
  },
  {
   "cell_type": "code",
   "execution_count": null,
   "metadata": {},
   "outputs": [],
   "source": []
  }
 ],
 "metadata": {
  "kernelspec": {
   "display_name": "Python 3",
   "language": "python",
   "name": "python3"
  },
  "language_info": {
   "codemirror_mode": {
    "name": "ipython",
    "version": 3
   },
   "file_extension": ".py",
   "mimetype": "text/x-python",
   "name": "python",
   "nbconvert_exporter": "python",
   "pygments_lexer": "ipython3",
   "version": "3.7.4"
  },
  "toc": {
   "base_numbering": 1,
   "nav_menu": {},
   "number_sections": true,
   "sideBar": true,
   "skip_h1_title": false,
   "title_cell": "Table of Contents",
   "title_sidebar": "Contents",
   "toc_cell": false,
   "toc_position": {},
   "toc_section_display": true,
   "toc_window_display": false
  }
 },
 "nbformat": 4,
 "nbformat_minor": 2
}
