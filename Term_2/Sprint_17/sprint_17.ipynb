{
 "cells": [
  {
   "cell_type": "markdown",
   "metadata": {},
   "source": [
    "# Sprint 公開されている実装を動かす"
   ]
  },
  {
   "cell_type": "markdown",
   "metadata": {},
   "source": [
    "# 【問題1】学習と推定\n",
    "READMEを参考に上記実装を動かしてください。"
   ]
  },
  {
   "cell_type": "markdown",
   "metadata": {
    "ExecuteTime": {
     "end_time": "2019-10-29T12:36:27.051328Z",
     "start_time": "2019-10-29T12:36:26.913446Z"
    }
   },
   "source": [
    "![result_charles_montgomery_burns_14.jpg.png](result_charles_montgomery_burns_14.jpg.png)"
   ]
  },
  {
   "cell_type": "markdown",
   "metadata": {},
   "source": [
    "![](result_krusty_the_clown_41.jpg.png)"
   ]
  },
  {
   "cell_type": "markdown",
   "metadata": {},
   "source": [
    "### 学習させた結果、ちゃんと推定できていた。"
   ]
  },
  {
   "cell_type": "markdown",
   "metadata": {},
   "source": [
    "# 【問題2】論文と実装の対応\n",
    "コードリーディングを行ってください。"
   ]
  },
  {
   "cell_type": "markdown",
   "metadata": {},
   "source": [
    "## Roipooling"
   ]
  },
  {
   "cell_type": "markdown",
   "metadata": {},
   "source": [
    "    def compute_output_shape(self, input_shape):\n",
    "        if self.dim_ordering == 'th':\n",
    "            return None, self.num_rois, self.nb_channels, self.pool_size, self.pool_size\n",
    "        else:\n",
    "            return None, self.num_rois, self.pool_size, self.pool_size, self.nb_channels\n",
    "def call(self, x, mask=None):\n",
    "\n",
    "\n",
    "\n",
    "    assert(len(x) == 2)\n",
    "\n",
    "    img = x[0]\n",
    "    rois = x[1]\n",
    "\n",
    "    input_shape = K.shape(img)\n",
    "\n",
    "    outputs = []\n",
    "\n",
    "    for roi_idx in range(self.num_rois):\n",
    "\n",
    "        x = rois[0, roi_idx, 0]\n",
    "        y = rois[0, roi_idx, 1]\n",
    "        w = rois[0, roi_idx, 2]\n",
    "        h = rois[0, roi_idx, 3]\n",
    "\n",
    "        row_length = w / float(self.pool_size)\n",
    "        col_length = h / float(self.pool_size)\n",
    "\n",
    "        num_pool_regions = self.pool_size\n",
    "\n",
    "        #NOTE: the RoiPooling implementation differs between theano and tensorflow due to the lack of a resize op\n",
    "        # in theano. The theano implementation is much less efficient and leads to long compile times\n",
    "\n",
    "        if self.dim_ordering == 'th':\n",
    "            for jy in range(num_pool_regions):\n",
    "                for ix in range(num_pool_regions):\n",
    "                    x1 = x + ix * row_length\n",
    "                    x2 = x1 + row_length\n",
    "                    y1 = y + jy * col_length\n",
    "                    y2 = y1 + col_length\n",
    "\n",
    "                    x1 = K.cast(x1, 'int32')\n",
    "                    x2 = K.cast(x2, 'int32')\n",
    "                    y1 = K.cast(y1, 'int32')\n",
    "                    y2 = K.cast(y2, 'int32')\n",
    "\n",
    "                    x2 = x1 + K.maximum(1,x2-x1)\n",
    "                    y2 = y1 + K.maximum(1,y2-y1)\n",
    "\n",
    "                    new_shape = [input_shape[0], input_shape[1],\n",
    "                                 y2 - y1, x2 - x1]\n",
    "\n",
    "                    x_crop = img[:, :, y1:y2, x1:x2]\n",
    "                    xm = K.reshape(x_crop, new_shape)\n",
    "                    pooled_val = K.max(xm, axis=(2, 3))\n",
    "                    outputs.append(pooled_val)\n",
    "\n",
    "        elif self.dim_ordering == 'tf':\n",
    "            x = K.cast(x, 'int32')\n",
    "            y = K.cast(y, 'int32')\n",
    "            w = K.cast(w, 'int32')\n",
    "            h = K.cast(h, 'int32')\n",
    "\n",
    "            rs = tf.image.resize_images(img[:, y:y+h, x:x+w, :], (self.pool_size, self.pool_size))\n",
    "            outputs.append(rs)\n",
    "\n",
    "    final_output = K.concatenate(outputs, axis=0)\n",
    "    final_output = K.reshape(final_output, (1, self.num_rois, self.pool_size, self.pool_size, self.nb_channels))\n",
    "\n",
    "    if self.dim_ordering == 'th':\n",
    "        final_output = K.permute_dimensions(final_output, (0, 1, 4, 2, 3))\n",
    "    else:\n",
    "        final_output = K.permute_dimensions(final_output, (0, 1, 2, 3, 4))\n",
    "\n",
    "    return final_output\n",
    "\n",
    "\n"
   ]
  },
  {
   "cell_type": "markdown",
   "metadata": {},
   "source": [
    "### RoiPoolingConv.pyでRoiプーリングを行なっている\n",
    "conpute_output_shapeで出力する形を作る\n",
    "callでpoolingを行なっている\n",
    "最後にreshapeして出力サイズに合わせている"
   ]
  },
  {
   "cell_type": "markdown",
   "metadata": {},
   "source": [
    "# RPN"
   ]
  },
  {
   "cell_type": "markdown",
   "metadata": {},
   "source": [
    "def main():\n",
    "    args = parser.parse_args()\n",
    "    time_stamp = \"{0:%Y%m%d-%H%M%S}\".format(datetime.now())\n",
    "    save_name = os.path.join(args.savedir, \"train{}\".format(time_stamp))\n",
    "\n",
    "省略\n",
    "\n",
    "\n",
    "model_rpn, model_classifier, model_all = faster_rcnn.get_model(C, classes_count)\n",
    "\n",
    "faster_rcnnからrpnを受け取っている\n",
    "\n",
    "\n",
    "def rpn(base_layers,num_anchors):\n",
    "\n",
    "x = Convolution2D(512, (3, 3), padding='same', activation='relu', kernel_initializer='normal', name='rpn_conv1')(base_layers)\n",
    "\n",
    "x_class = Convolution2D(num_anchors, (1, 1), activation='sigmoid', kernel_initializer='uniform', name='rpn_out_class')(x)\n",
    "x_regr = Convolution2D(num_anchors * 4, (1, 1), activation='linear', kernel_initializer='zero', name='rpn_out_regress')(x)\n",
    "\n",
    "return [x_class, x_regr, base_layers]\n",
    "\n",
    "faster_rcnnはresnetからrpnをうけとっている。\n",
    "元のrpnは上記のコードである\n",
    "\n",
    "畳み込み層を通して、分類と回帰問題のネットワークに送っている  \n",
    "num_anchorsはconfig.pyで指定している\n",
    "\n",
    "def get_model(C, classes_count):\n",
    "img_input = Input(shape=(None, None, 3)\n",
    "省略\n",
    "\n",
    " model_rpn.compile(optimizer=Adam(lr=1e-4), loss=[losses.rpn_loss_cls(num_anchors), losses.rpn_loss_regr(num_anchors)])\n",
    "model_classifier.compile(optimizer=Adam(lr=1e-4), loss=[losses.class_loss_cls, losses.class_loss_regr(len(classes_count)-1)], \n",
    "metrics={'dense_class_{}'.format(len(classes_count)): 'accuracy'})\n",
    "model_all.compile(optimizer='sgd', loss='mae')\n",
    "\n",
    "rpnから出力された値を用いてkerasのモデルを作り、lossとしてlossesから分類と回帰のロスを計算している\n",
    "\n",
    "def main():\n",
    "args = parser.parse_args()\n",
    "time_stamp = \"{0:%Y%m%d-%H%M%S}\".format(datetime.now())\n",
    "save_name = os.path.join(args.save_dir, \"train_{}\".format(time_stamp))\n",
    "省略\n",
    "\n",
    " while True:\n",
    "            try:\n",
    "                if len(rpn_accuracy_rpn_monitor) == args.n_iters and C.verbose:\n",
    "                    mean_overlapping_bboxes = float(sum(rpn_accuracy_rpn_monitor))/len(rpn_accuracy_rpn_monitor)\n",
    "                    rpn_accuracy_rpn_monitor = []\n",
    "                    print('Average number of overlapping bounding boxes from RPN = {} for {} previous \n",
    "                    iterations'.format(mean_overlapping_bboxes, args.n_iters))\n",
    "                    if mean_overlapping_bboxes == 0:\n",
    "                        print('RPN is not producing bounding boxes that overlap the ground truth boxes. Check RPN settings or keep\n",
    "                        training.')\n",
    "                X, Y, img_data = next(data_gen_train)\n",
    "\n",
    "                loss_rpn = model_rpn.train_on_batch(X, Y)\n",
    "                P_rpn = model_rpn.predict_on_batch(X)\n",
    "                R = roi_helpers.rpn_to_roi(P_rpn[0], P_rpn[1], C, K.image_dim_ordering(), use_regr=True, overlap_thresh=0.7, \n",
    "                max_boxes=300)\n",
    "\n",
    "                ここでrpnモデルの学習を行なっている\n",
    "                そして、推定を行いRoi poolingに送っている\n"
   ]
  },
  {
   "cell_type": "markdown",
   "metadata": {},
   "source": [
    "# model"
   ]
  },
  {
   "cell_type": "markdown",
   "metadata": {},
   "source": [
    "model_rpn, model_classifier, model_all = faster_rcnn.get_model(C, classes_count)\n",
    "model_allでrpnと分類を合わせたモデルを作成\n",
    "\n",
    "\n",
    "model_all.save_weights(C.model_path)\n",
    "                        break\n",
    "\n",
    "\n",
    "モデルを学習させ重みを保存した"
   ]
  },
  {
   "cell_type": "markdown",
   "metadata": {},
   "source": [
    "# 【問題3】学習済みの重みによる推定¶\n",
    "学習済みの重みを使い推定を行う方法がREADME.mdのQuick Startの項に記載されています。 まずはこの通りにして各自何かしらの画像や動画に対して検出を行ってください。 出力結果を課題の一部として提出してください。"
   ]
  },
  {
   "cell_type": "markdown",
   "metadata": {
    "ExecuteTime": {
     "end_time": "2019-10-30T08:06:51.142788Z",
     "start_time": "2019-10-30T08:06:51.078915Z"
    }
   },
   "source": [
    "![](new1.jpg)"
   ]
  },
  {
   "cell_type": "markdown",
   "metadata": {},
   "source": [
    "# 【問題4】学習のためのファイルを作成\n",
    "新しいデータ（シンプソンズデータセット）を学習します。README.mdのTrainingの項を読み、シンプソンズデータセットを学習するために必要なファイルを作成してください。\n",
    "\n",
    "アノテーションファイルの形式が問題1の実装とは異なるため変換する必要があります。"
   ]
  },
  {
   "cell_type": "markdown",
   "metadata": {},
   "source": [
    "以下のようにannotetionファイルを編集（置換）した。\n",
    "abraham_grampa_simpsonだけ学習させる。"
   ]
  },
  {
   "cell_type": "markdown",
   "metadata": {},
   "source": [
    "![](screenshot2.png)"
   ]
  },
  {
   "cell_type": "markdown",
   "metadata": {},
   "source": [
    "# 【問題5】学習が行えることの確認\n",
    "問題4で作成したファイルを使用して学習してください。実行環境で学習に時間がかかる場合は、学習が行えることを確認するのみで終えて構いません。"
   ]
  },
  {
   "cell_type": "markdown",
   "metadata": {},
   "source": [
    "![](screenshoot.png)"
   ]
  },
  {
   "cell_type": "code",
   "execution_count": 7,
   "metadata": {
    "ExecuteTime": {
     "end_time": "2019-10-30T10:28:59.241545Z",
     "start_time": "2019-10-30T10:28:59.036094Z"
    }
   },
   "outputs": [
    {
     "data": {
      "image/png": "[encoded data removed]",
      "text/plain": [
       "<Figure size 432x288 with 1 Axes>"
      ]
     },
     "metadata": {
      "needs_background": "light"
     },
     "output_type": "display_data"
    }
   ],
   "source": [
    "from PIL import Image\n",
    "import matplotlib.pyplot as plt\n",
    "import numpy as np\n",
    "%matplotlib inline\n",
    "#input_image\n",
    "im = Image.open('screenshoot.png')\n",
    "#画像をarrayに変換\n",
    "im_list = np.asarray(im)\n",
    "#貼り付け\n",
    "#plt.figure(figsize=(15,10))\n",
    "plt.imshow(im_list)\n",
    "#表示\n",
    "plt.show()"
   ]
  },
  {
   "cell_type": "code",
   "execution_count": null,
   "metadata": {},
   "outputs": [],
   "source": []
  }
 ],
 "metadata": {
  "kernelspec": {
   "display_name": "Python 3",
   "language": "python",
   "name": "python3"
  },
  "language_info": {
   "codemirror_mode": {
    "name": "ipython",
    "version": 3
   },
   "file_extension": ".py",
   "mimetype": "text/x-python",
   "name": "python",
   "nbconvert_exporter": "python",
   "pygments_lexer": "ipython3",
   "version": "3.7.4"
  },
  "toc": {
   "base_numbering": 1,
   "nav_menu": {},
   "number_sections": true,
   "sideBar": true,
   "skip_h1_title": false,
   "title_cell": "Table of Contents",
   "title_sidebar": "Contents",
   "toc_cell": false,
   "toc_position": {},
   "toc_section_display": true,
   "toc_window_display": false
  }
 },
 "nbformat": 4,
 "nbformat_minor": 2
}
