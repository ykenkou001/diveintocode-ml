{
 "cells": [
  {
   "cell_type": "code",
   "execution_count": 1,
   "metadata": {
    "ExecuteTime": {
     "end_time": "2019-10-25T08:16:56.830549Z",
     "start_time": "2019-10-25T08:16:53.685340Z"
    }
   },
   "outputs": [],
   "source": [
    "import os\n",
    "import pandas as pd\n",
    "import numpy as np\n",
    "\n",
    "import matplotlib.pyplot as plt\n",
    "\n",
    "from sklearn.model_selection import train_test_split\n",
    "from sklearn.ensemble import RandomForestClassifier\n",
    "from sklearn.preprocessing import LabelEncoder, StandardScaler, MinMaxScaler\n",
    "\n",
    "from sklearn.metrics import accuracy_score, recall_score, precision_score, f1_score, confusion_matrix, roc_curve, auc"
   ]
  },
  {
   "cell_type": "markdown",
   "metadata": {},
   "source": [
    "# week4 授業課題 信用情報の学習\n",
    "# 【問題1】コンペティション内容の確認\n",
    "### コンペティションのOverviewページ読み、「Home Credit Default Risk」について以下の観点について確認してください。  \n",
    "### 何を学習し、何を予測するのか どのようなファイルを作りKaggleに提出するか 提出されたものはどういった指標値で評価されるのか"
   ]
  },
  {
   "cell_type": "markdown",
   "metadata": {},
   "source": [
    "122個ある特徴量からその人が返済する確率を予測する\n",
    "IDとTARGETがカラムとして入っているcsvファイルを提出する\n",
    "TARGETにはその人が返済する確率が入っている\n",
    "\n",
    "\n",
    "提出された課題はAUCで評価される"
   ]
  },
  {
   "cell_type": "markdown",
   "metadata": {},
   "source": [
    "# 【問題2】学習と検証\n",
    "データを簡単に分析、前処理し、学習、検証するまでの一連の流れを作成・実行してください。\n",
    "検証にはこのコンペティションで使用される評価指標を用いるようにしてください。学習に用いる手法は指定しません。"
   ]
  },
  {
   "cell_type": "code",
   "execution_count": 2,
   "metadata": {
    "ExecuteTime": {
     "end_time": "2019-10-25T08:16:56.838068Z",
     "start_time": "2019-10-25T08:16:56.832084Z"
    }
   },
   "outputs": [
    {
     "data": {
      "text/plain": [
       "'C:\\\\Users\\\\ykenk\\\\dive\\\\diveintocode-ml\\\\week4'"
      ]
     },
     "execution_count": 2,
     "metadata": {},
     "output_type": "execute_result"
    }
   ],
   "source": [
    "os.getcwd()"
   ]
  },
  {
   "cell_type": "code",
   "execution_count": 3,
   "metadata": {
    "ExecuteTime": {
     "end_time": "2019-10-25T08:16:59.661561Z",
     "start_time": "2019-10-25T08:16:56.841067Z"
    }
   },
   "outputs": [],
   "source": [
    "test_data_raw = pd.read_csv(\"/Users\\\\ykenk\\\\dive\\\\diveintocode-ml\\\\week4/application_test.csv\")\n",
    "train_data_raw=pd.read_csv(\"/Users\\\\ykenk\\\\dive\\\\diveintocode-ml\\\\week4/application_train.csv\")"
   ]
  },
  {
   "cell_type": "code",
   "execution_count": 4,
   "metadata": {
    "ExecuteTime": {
     "end_time": "2019-10-25T08:16:59.758301Z",
     "start_time": "2019-10-25T08:16:59.662558Z"
    }
   },
   "outputs": [],
   "source": [
    "train_data = train_data_raw.copy(deep=True)\n",
    "test_data = test_data_raw.copy(deep=True)"
   ]
  },
  {
   "cell_type": "code",
   "execution_count": 5,
   "metadata": {
    "ExecuteTime": {
     "end_time": "2019-10-25T08:17:00.557163Z",
     "start_time": "2019-10-25T08:16:59.759298Z"
    }
   },
   "outputs": [],
   "source": [
    "#欠損値がある列を削除\n",
    "droped_train = train_data.dropna(axis=1)\n",
    "droped_test = test_data.dropna(axis=1)\n",
    "\n",
    "#train, testのデータで共通する列を抜きだす\n",
    "drop_column_intersection = droped_train.columns & droped_test.columns\n",
    "\n",
    "droped_train_inter = train_data[drop_column_intersection]\n",
    "droped_train_inter.insert(1, \"TARGET\", train_data.loc[:, \"TARGET\"])\n",
    "droped_test_inter = test_data[drop_column_intersection]\n",
    "\n",
    "#機械学習させる上で文字列を使えないので、objectタイプを削除する\n",
    "on_train = droped_train_inter.select_dtypes(include=\"number\")\n",
    "on_test = droped_test_inter.select_dtypes(include=\"number\")\n",
    "\n",
    "#機械学習用のtrain_test_splitのために説明変数と目的変数を分ける\n",
    "X = on_train.drop(columns=\"TARGET\")\n",
    "y = on_train[\"TARGET\"]"
   ]
  },
  {
   "cell_type": "code",
   "execution_count": 6,
   "metadata": {
    "ExecuteTime": {
     "end_time": "2019-10-25T08:17:00.685898Z",
     "start_time": "2019-10-25T08:17:00.558161Z"
    }
   },
   "outputs": [],
   "source": [
    "X_train, X_test, y_train, y_test = train_test_split(X, y, test_size=0.25, random_state=0)"
   ]
  },
  {
   "cell_type": "code",
   "execution_count": 7,
   "metadata": {
    "ExecuteTime": {
     "end_time": "2019-10-25T08:17:05.598742Z",
     "start_time": "2019-10-25T08:17:00.688812Z"
    }
   },
   "outputs": [
    {
     "data": {
      "text/plain": [
       "RandomForestClassifier(bootstrap=True, class_weight=None, criterion='gini',\n",
       "                       max_depth=None, max_features='auto', max_leaf_nodes=None,\n",
       "                       min_impurity_decrease=0.0, min_impurity_split=None,\n",
       "                       min_samples_leaf=1, min_samples_split=2,\n",
       "                       min_weight_fraction_leaf=0.0, n_estimators=10,\n",
       "                       n_jobs=None, oob_score=False, random_state=None,\n",
       "                       verbose=0, warm_start=False)"
      ]
     },
     "execution_count": 7,
     "metadata": {},
     "output_type": "execute_result"
    }
   ],
   "source": [
    "RFC = RandomForestClassifier(n_estimators=10)\n",
    "RFC.fit(X_train, y_train)"
   ]
  },
  {
   "cell_type": "markdown",
   "metadata": {},
   "source": [
    "# 【問題3】テストデータに対する推定\n",
    "テストデータ（application_test.csv）に対して推定を行い、Kaggleに提出を行ってください。\n",
    "\n",
    "正しく提出が行えていれば、精度は低くても構いません。"
   ]
  },
  {
   "cell_type": "code",
   "execution_count": 8,
   "metadata": {
    "ExecuteTime": {
     "end_time": "2019-10-25T08:17:05.983752Z",
     "start_time": "2019-10-25T08:17:05.600671Z"
    }
   },
   "outputs": [
    {
     "name": "stdout",
     "output_type": "stream",
     "text": [
      "accuracy： 0.920003121829392\n",
      "recall: 0.0016417665407978984\n",
      "precision: 0.12658227848101267\n",
      "f1: 0.0032414910858995136\n",
      "matrix:\n",
      " [[70718    69]\n",
      " [ 6081    10]]\n",
      "--------------------\n",
      "auc: 0.5003335056445637\n"
     ]
    }
   ],
   "source": [
    "\n",
    "y_pred_1 = RFC.predict(X_test)\n",
    "fpr_1, tpr_1, thresholds_1 = roc_curve(y_test, y_pred_1)\n",
    "auc_1 = auc(fpr_1, tpr_1)\n",
    "print(\"accuracy：\", accuracy_score(y_test, y_pred_1))\n",
    "print(\"recall:\", recall_score(y_test, y_pred_1))\n",
    "print(\"precision:\", precision_score(y_test, y_pred_1))\n",
    "print(\"f1:\",f1_score(y_test, y_pred_1))\n",
    "print(\"matrix:\\n\", confusion_matrix(y_test, y_pred_1))\n",
    "print(\"-\"*20)\n",
    "print(\"auc:\",auc_1)"
   ]
  },
  {
   "cell_type": "markdown",
   "metadata": {},
   "source": [
    "### kaggle提出　　public_score:0.49024¶"
   ]
  },
  {
   "cell_type": "markdown",
   "metadata": {},
   "source": [
    "# 【問題4】特徴量エンジニアリング\n",
    "精度を上げるために以下のような観点で 特徴量エンジニアリング（Feature Engineering） を行ってください。\n",
    "どの特徴量を使うか\n",
    "どう前処理をするか\n",
    "何をした時に検証データに対する評価指標がどのようになったかをまとめてください。最低5パターンの学習・検証を行ってください。\n",
    "\n",
    "\n",
    "精度が高かったものに関してはテストデータに対しても推定を行い、Kaggleに提出を行ってください。"
   ]
  },
  {
   "cell_type": "markdown",
   "metadata": {},
   "source": [
    "## パターン１：RandomForestの重要な特徴量でソートし、高い方から５つ選んで学習する"
   ]
  },
  {
   "cell_type": "code",
   "execution_count": 9,
   "metadata": {
    "ExecuteTime": {
     "end_time": "2019-10-25T08:17:06.001671Z",
     "start_time": "2019-10-25T08:17:05.984680Z"
    }
   },
   "outputs": [
    {
     "name": "stdout",
     "output_type": "stream",
     "text": [
      "重要度が高い特徴量順:\n",
      "[(0.12, 'DAYS_REGISTRATION'), (0.12, 'DAYS_ID_PUBLISH'), (0.12, 'DAYS_BIRTH'), (0.11, 'SK_ID_CURR'), (0.1, 'DAYS_EMPLOYED'), (0.1, 'AMT_CREDIT'), (0.08, 'REGION_POPULATION_RELATIVE'), (0.08, 'AMT_INCOME_TOTAL'), (0.07, 'HOUR_APPR_PROCESS_START'), (0.02, 'CNT_CHILDREN'), (0.01, 'REG_CITY_NOT_WORK_CITY'), (0.01, 'REGION_RATING_CLIENT_W_CITY'), (0.01, 'REGION_RATING_CLIENT'), (0.01, 'FLAG_WORK_PHONE'), (0.01, 'FLAG_PHONE'), (0.01, 'FLAG_EMAIL'), (0.01, 'FLAG_DOCUMENT_3'), (0.0, 'REG_REGION_NOT_WORK_REGION'), (0.0, 'REG_REGION_NOT_LIVE_REGION'), (0.0, 'REG_CITY_NOT_LIVE_CITY'), (0.0, 'LIVE_REGION_NOT_WORK_REGION'), (0.0, 'LIVE_CITY_NOT_WORK_CITY'), (0.0, 'FLAG_MOBIL'), (0.0, 'FLAG_EMP_PHONE'), (0.0, 'FLAG_DOCUMENT_9'), (0.0, 'FLAG_DOCUMENT_8'), (0.0, 'FLAG_DOCUMENT_7'), (0.0, 'FLAG_DOCUMENT_6'), (0.0, 'FLAG_DOCUMENT_5'), (0.0, 'FLAG_DOCUMENT_4'), (0.0, 'FLAG_DOCUMENT_21'), (0.0, 'FLAG_DOCUMENT_20'), (0.0, 'FLAG_DOCUMENT_2'), (0.0, 'FLAG_DOCUMENT_19'), (0.0, 'FLAG_DOCUMENT_18'), (0.0, 'FLAG_DOCUMENT_17'), (0.0, 'FLAG_DOCUMENT_16'), (0.0, 'FLAG_DOCUMENT_15'), (0.0, 'FLAG_DOCUMENT_14'), (0.0, 'FLAG_DOCUMENT_13'), (0.0, 'FLAG_DOCUMENT_12'), (0.0, 'FLAG_DOCUMENT_11'), (0.0, 'FLAG_DOCUMENT_10'), (0.0, 'FLAG_CONT_MOBILE')]\n"
     ]
    }
   ],
   "source": [
    "features = X_train.columns\n",
    "importances = RFC.feature_importances_\n",
    "\n",
    "print(\"重要度が高い特徴量順:\")\n",
    "print(sorted(zip(map(lambda x: round(x, 2), RFC.feature_importances_), features), \n",
    "             reverse=True))"
   ]
  },
  {
   "cell_type": "markdown",
   "metadata": {},
   "source": [
    "### 使う特徴量を5つにする  \n",
    "'DAYS_REGISTRATION'  \n",
    "'DAYS_BIRTH'  \n",
    "'DAYS_ID_PUBLISH'  \n",
    "'DAYS_EMPLOYED'  \n",
    "'AMT_CREDIT'  "
   ]
  },
  {
   "cell_type": "code",
   "execution_count": 10,
   "metadata": {
    "ExecuteTime": {
     "end_time": "2019-10-25T08:17:06.018589Z",
     "start_time": "2019-10-25T08:17:06.003631Z"
    }
   },
   "outputs": [],
   "source": [
    "importance_feature = [\"DAYS_REGISTRATION\", \"DAYS_BIRTH\", \"DAYS_ID_PUBLISH\", \"DAYS_EMPLOYED\", \"AMT_CREDIT\"]\n",
    "train_data_pattern1 = on_train[importance_feature]\n",
    "test_data_pattern1 = on_test[importance_feature]\n",
    "TARGET = on_train[\"TARGET\"]"
   ]
  },
  {
   "cell_type": "code",
   "execution_count": 11,
   "metadata": {
    "ExecuteTime": {
     "end_time": "2019-10-25T08:17:06.038540Z",
     "start_time": "2019-10-25T08:17:06.019587Z"
    }
   },
   "outputs": [],
   "source": [
    "X_pattern1 = train_data_pattern1\n",
    "y_pattern1 = TARGET"
   ]
  },
  {
   "cell_type": "code",
   "execution_count": 12,
   "metadata": {
    "ExecuteTime": {
     "end_time": "2019-10-25T08:17:06.085411Z",
     "start_time": "2019-10-25T08:17:06.042527Z"
    }
   },
   "outputs": [],
   "source": [
    "X_train_pattern1, X_test_pattern1, y_train_pattern1, y_test_pattern1 = train_test_split(X_pattern1, y_pattern1, test_size=0.25,\n",
    "                                                                                       random_state=42)"
   ]
  },
  {
   "cell_type": "code",
   "execution_count": 13,
   "metadata": {
    "ExecuteTime": {
     "end_time": "2019-10-25T08:17:06.090398Z",
     "start_time": "2019-10-25T08:17:06.086408Z"
    }
   },
   "outputs": [],
   "source": [
    "RFC_pattern1 = RandomForestClassifier(n_estimators=100)"
   ]
  },
  {
   "cell_type": "code",
   "execution_count": 16,
   "metadata": {
    "ExecuteTime": {
     "end_time": "2019-10-25T08:19:35.705470Z",
     "start_time": "2019-10-25T08:18:38.749900Z"
    }
   },
   "outputs": [
    {
     "data": {
      "text/plain": [
       "RandomForestClassifier(bootstrap=True, class_weight=None, criterion='gini',\n",
       "                       max_depth=None, max_features='auto', max_leaf_nodes=None,\n",
       "                       min_impurity_decrease=0.0, min_impurity_split=None,\n",
       "                       min_samples_leaf=1, min_samples_split=2,\n",
       "                       min_weight_fraction_leaf=0.0, n_estimators=100,\n",
       "                       n_jobs=None, oob_score=False, random_state=None,\n",
       "                       verbose=0, warm_start=False)"
      ]
     },
     "execution_count": 16,
     "metadata": {},
     "output_type": "execute_result"
    }
   ],
   "source": [
    "RFC_pattern1.fit(X_train_pattern1, y_train_pattern1)"
   ]
  },
  {
   "cell_type": "code",
   "execution_count": 17,
   "metadata": {
    "ExecuteTime": {
     "end_time": "2019-10-25T08:19:37.906971Z",
     "start_time": "2019-10-25T08:19:35.706493Z"
    }
   },
   "outputs": [],
   "source": [
    "y_pred_pattern1 = RFC_pattern1.predict(X_test_pattern1)"
   ]
  },
  {
   "cell_type": "code",
   "execution_count": 18,
   "metadata": {
    "ExecuteTime": {
     "end_time": "2019-10-25T08:19:38.050197Z",
     "start_time": "2019-10-25T08:19:37.908582Z"
    }
   },
   "outputs": [
    {
     "name": "stdout",
     "output_type": "stream",
     "text": [
      "accuracy： 0.92061448008533\n",
      "recall: 0.0\n",
      "precision: 0.0\n",
      "f1: 0.0\n",
      "matrix:\n",
      " [[70775    12]\n",
      " [ 6091     0]]\n",
      "--------------------\n",
      "auc: 0.5002664620967768\n"
     ]
    }
   ],
   "source": [
    "fpr_pattern1, tpr_pattern1, thresholds_pattern1 = roc_curve(y_test_pattern1, y_pred_pattern1)\n",
    "auc_pattern1 = auc(fpr_pattern1, tpr_pattern1)\n",
    "print(\"accuracy：\", accuracy_score(y_test, y_pred_pattern1))\n",
    "print(\"recall:\", recall_score(y_test, y_pred_pattern1))\n",
    "print(\"precision:\", precision_score(y_test, y_pred_pattern1))\n",
    "print(\"f1:\",f1_score(y_test, y_pred_pattern1))\n",
    "print(\"matrix:\\n\", confusion_matrix(y_test, y_pred_pattern1))\n",
    "print(\"-\"*20)\n",
    "print(\"auc:\",auc_pattern1)"
   ]
  },
  {
   "cell_type": "markdown",
   "metadata": {},
   "source": [
    "## ３つ抜き出して　学習させる¶"
   ]
  },
  {
   "cell_type": "code",
   "execution_count": 19,
   "metadata": {
    "ExecuteTime": {
     "end_time": "2019-10-25T08:19:38.056181Z",
     "start_time": "2019-10-25T08:19:38.052191Z"
    }
   },
   "outputs": [],
   "source": [
    "\n",
    "pattern2_selected_columns = [\"AMT_INCOME_TOTAL\", \"NAME_HOUSING_TYPE\", \"NAME_EDUCATION_TYPE\"]"
   ]
  },
  {
   "cell_type": "code",
   "execution_count": 20,
   "metadata": {
    "ExecuteTime": {
     "end_time": "2019-10-25T08:19:38.079119Z",
     "start_time": "2019-10-25T08:19:38.058176Z"
    }
   },
   "outputs": [],
   "source": [
    "train_data_pattern2 = train_data[pattern2_selected_columns].copy(deep=True)"
   ]
  },
  {
   "cell_type": "code",
   "execution_count": 21,
   "metadata": {
    "ExecuteTime": {
     "end_time": "2019-10-25T08:19:38.104053Z",
     "start_time": "2019-10-25T08:19:38.081114Z"
    }
   },
   "outputs": [],
   "source": [
    "train_data_pattern2 = train_data[pattern2_selected_columns].copy(deep=True)"
   ]
  },
  {
   "cell_type": "code",
   "execution_count": 22,
   "metadata": {
    "ExecuteTime": {
     "end_time": "2019-10-25T08:19:38.172868Z",
     "start_time": "2019-10-25T08:19:38.107045Z"
    }
   },
   "outputs": [],
   "source": [
    "X_train_pattern2, X_test_pattern2, y_train_pattern2, y_test_pattern2 = train_test_split(train_data_pattern2, TARGET, test_size=0.25,\n",
    "                                                                                       random_state=42)"
   ]
  },
  {
   "cell_type": "code",
   "execution_count": 23,
   "metadata": {
    "ExecuteTime": {
     "end_time": "2019-10-25T08:19:38.178852Z",
     "start_time": "2019-10-25T08:19:38.174863Z"
    }
   },
   "outputs": [],
   "source": [
    "RFC_pattern2 = RandomForestClassifier(n_estimators=100)"
   ]
  },
  {
   "cell_type": "code",
   "execution_count": 24,
   "metadata": {
    "ExecuteTime": {
     "end_time": "2019-10-25T08:19:38.245673Z",
     "start_time": "2019-10-25T08:19:38.180848Z"
    }
   },
   "outputs": [
    {
     "ename": "ValueError",
     "evalue": "could not convert string to float: 'House / apartment'",
     "output_type": "error",
     "traceback": [
      "\u001b[1;31m---------------------------------------------------------------------------\u001b[0m",
      "\u001b[1;31mValueError\u001b[0m                                Traceback (most recent call last)",
      "\u001b[1;32m<ipython-input-24-9b3afdafdfa0>\u001b[0m in \u001b[0;36m<module>\u001b[1;34m\u001b[0m\n\u001b[1;32m----> 1\u001b[1;33m \u001b[0mRFC_pattern2\u001b[0m\u001b[1;33m.\u001b[0m\u001b[0mfit\u001b[0m\u001b[1;33m(\u001b[0m\u001b[0mX_train_pattern2\u001b[0m\u001b[1;33m,\u001b[0m \u001b[0my_train_pattern2\u001b[0m\u001b[1;33m)\u001b[0m\u001b[1;33m\u001b[0m\u001b[1;33m\u001b[0m\u001b[0m\n\u001b[0m",
      "\u001b[1;32m~\\Anaconda3\\envs\\tf_keras\\lib\\site-packages\\sklearn\\ensemble\\forest.py\u001b[0m in \u001b[0;36mfit\u001b[1;34m(self, X, y, sample_weight)\u001b[0m\n\u001b[0;32m    247\u001b[0m \u001b[1;33m\u001b[0m\u001b[0m\n\u001b[0;32m    248\u001b[0m         \u001b[1;31m# Validate or convert input data\u001b[0m\u001b[1;33m\u001b[0m\u001b[1;33m\u001b[0m\u001b[1;33m\u001b[0m\u001b[0m\n\u001b[1;32m--> 249\u001b[1;33m         \u001b[0mX\u001b[0m \u001b[1;33m=\u001b[0m \u001b[0mcheck_array\u001b[0m\u001b[1;33m(\u001b[0m\u001b[0mX\u001b[0m\u001b[1;33m,\u001b[0m \u001b[0maccept_sparse\u001b[0m\u001b[1;33m=\u001b[0m\u001b[1;34m\"csc\"\u001b[0m\u001b[1;33m,\u001b[0m \u001b[0mdtype\u001b[0m\u001b[1;33m=\u001b[0m\u001b[0mDTYPE\u001b[0m\u001b[1;33m)\u001b[0m\u001b[1;33m\u001b[0m\u001b[1;33m\u001b[0m\u001b[0m\n\u001b[0m\u001b[0;32m    250\u001b[0m         \u001b[0my\u001b[0m \u001b[1;33m=\u001b[0m \u001b[0mcheck_array\u001b[0m\u001b[1;33m(\u001b[0m\u001b[0my\u001b[0m\u001b[1;33m,\u001b[0m \u001b[0maccept_sparse\u001b[0m\u001b[1;33m=\u001b[0m\u001b[1;34m'csc'\u001b[0m\u001b[1;33m,\u001b[0m \u001b[0mensure_2d\u001b[0m\u001b[1;33m=\u001b[0m\u001b[1;32mFalse\u001b[0m\u001b[1;33m,\u001b[0m \u001b[0mdtype\u001b[0m\u001b[1;33m=\u001b[0m\u001b[1;32mNone\u001b[0m\u001b[1;33m)\u001b[0m\u001b[1;33m\u001b[0m\u001b[1;33m\u001b[0m\u001b[0m\n\u001b[0;32m    251\u001b[0m         \u001b[1;32mif\u001b[0m \u001b[0msample_weight\u001b[0m \u001b[1;32mis\u001b[0m \u001b[1;32mnot\u001b[0m \u001b[1;32mNone\u001b[0m\u001b[1;33m:\u001b[0m\u001b[1;33m\u001b[0m\u001b[1;33m\u001b[0m\u001b[0m\n",
      "\u001b[1;32m~\\Anaconda3\\envs\\tf_keras\\lib\\site-packages\\sklearn\\utils\\validation.py\u001b[0m in \u001b[0;36mcheck_array\u001b[1;34m(array, accept_sparse, accept_large_sparse, dtype, order, copy, force_all_finite, ensure_2d, allow_nd, ensure_min_samples, ensure_min_features, warn_on_dtype, estimator)\u001b[0m\n\u001b[0;32m    494\u001b[0m             \u001b[1;32mtry\u001b[0m\u001b[1;33m:\u001b[0m\u001b[1;33m\u001b[0m\u001b[1;33m\u001b[0m\u001b[0m\n\u001b[0;32m    495\u001b[0m                 \u001b[0mwarnings\u001b[0m\u001b[1;33m.\u001b[0m\u001b[0msimplefilter\u001b[0m\u001b[1;33m(\u001b[0m\u001b[1;34m'error'\u001b[0m\u001b[1;33m,\u001b[0m \u001b[0mComplexWarning\u001b[0m\u001b[1;33m)\u001b[0m\u001b[1;33m\u001b[0m\u001b[1;33m\u001b[0m\u001b[0m\n\u001b[1;32m--> 496\u001b[1;33m                 \u001b[0marray\u001b[0m \u001b[1;33m=\u001b[0m \u001b[0mnp\u001b[0m\u001b[1;33m.\u001b[0m\u001b[0masarray\u001b[0m\u001b[1;33m(\u001b[0m\u001b[0marray\u001b[0m\u001b[1;33m,\u001b[0m \u001b[0mdtype\u001b[0m\u001b[1;33m=\u001b[0m\u001b[0mdtype\u001b[0m\u001b[1;33m,\u001b[0m \u001b[0morder\u001b[0m\u001b[1;33m=\u001b[0m\u001b[0morder\u001b[0m\u001b[1;33m)\u001b[0m\u001b[1;33m\u001b[0m\u001b[1;33m\u001b[0m\u001b[0m\n\u001b[0m\u001b[0;32m    497\u001b[0m             \u001b[1;32mexcept\u001b[0m \u001b[0mComplexWarning\u001b[0m\u001b[1;33m:\u001b[0m\u001b[1;33m\u001b[0m\u001b[1;33m\u001b[0m\u001b[0m\n\u001b[0;32m    498\u001b[0m                 raise ValueError(\"Complex data not supported\\n\"\n",
      "\u001b[1;32m~\\Anaconda3\\envs\\tf_keras\\lib\\site-packages\\numpy\\core\\numeric.py\u001b[0m in \u001b[0;36masarray\u001b[1;34m(a, dtype, order)\u001b[0m\n\u001b[0;32m    536\u001b[0m \u001b[1;33m\u001b[0m\u001b[0m\n\u001b[0;32m    537\u001b[0m     \"\"\"\n\u001b[1;32m--> 538\u001b[1;33m     \u001b[1;32mreturn\u001b[0m \u001b[0marray\u001b[0m\u001b[1;33m(\u001b[0m\u001b[0ma\u001b[0m\u001b[1;33m,\u001b[0m \u001b[0mdtype\u001b[0m\u001b[1;33m,\u001b[0m \u001b[0mcopy\u001b[0m\u001b[1;33m=\u001b[0m\u001b[1;32mFalse\u001b[0m\u001b[1;33m,\u001b[0m \u001b[0morder\u001b[0m\u001b[1;33m=\u001b[0m\u001b[0morder\u001b[0m\u001b[1;33m)\u001b[0m\u001b[1;33m\u001b[0m\u001b[1;33m\u001b[0m\u001b[0m\n\u001b[0m\u001b[0;32m    539\u001b[0m \u001b[1;33m\u001b[0m\u001b[0m\n\u001b[0;32m    540\u001b[0m \u001b[1;33m\u001b[0m\u001b[0m\n",
      "\u001b[1;31mValueError\u001b[0m: could not convert string to float: 'House / apartment'"
     ]
    }
   ],
   "source": [
    "RFC_pattern2.fit(X_train_pattern2, y_train_pattern2)"
   ]
  },
  {
   "cell_type": "markdown",
   "metadata": {},
   "source": [
    "## ここまでしかやっていません。"
   ]
  },
  {
   "cell_type": "code",
   "execution_count": null,
   "metadata": {},
   "outputs": [],
   "source": []
  }
 ],
 "metadata": {
  "kernelspec": {
   "display_name": "Python 3",
   "language": "python",
   "name": "python3"
  },
  "language_info": {
   "codemirror_mode": {
    "name": "ipython",
    "version": 3
   },
   "file_extension": ".py",
   "mimetype": "text/x-python",
   "name": "python",
   "nbconvert_exporter": "python",
   "pygments_lexer": "ipython3",
   "version": "3.7.4"
  },
  "toc": {
   "base_numbering": 1,
   "nav_menu": {},
   "number_sections": true,
   "sideBar": true,
   "skip_h1_title": false,
   "title_cell": "Table of Contents",
   "title_sidebar": "Contents",
   "toc_cell": false,
   "toc_position": {},
   "toc_section_display": true,
   "toc_window_display": false
  },
  "varInspector": {
   "cols": {
    "lenName": 16,
    "lenType": 16,
    "lenVar": 40
   },
   "kernels_config": {
    "python": {
     "delete_cmd_postfix": "",
     "delete_cmd_prefix": "del ",
     "library": "var_list.py",
     "varRefreshCmd": "print(var_dic_list())"
    },
    "r": {
     "delete_cmd_postfix": ") ",
     "delete_cmd_prefix": "rm(",
     "library": "var_list.r",
     "varRefreshCmd": "cat(var_dic_list()) "
    }
   },
   "types_to_exclude": [
    "module",
    "function",
    "builtin_function_or_method",
    "instance",
    "_Feature"
   ],
   "window_display": false
  }
 },
 "nbformat": 4,
 "nbformat_minor": 2
}
