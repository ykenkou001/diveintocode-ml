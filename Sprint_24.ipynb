{
  "nbformat": 4,
  "nbformat_minor": 0,
  "metadata": {
    "colab": {
      "name": "Sprint_24.ipynb",
      "provenance": [],
      "include_colab_link": true
    },
    "kernelspec": {
      "name": "python3",
      "display_name": "Python 3"
    },
    "accelerator": "GPU"
  },
  "cells": [
    {
      "cell_type": "markdown",
      "metadata": {
        "id": "view-in-github",
        "colab_type": "text"
      },
      "source": [
        "<a href=\"https://colab.research.google.com/github/ykenkou001/diveintocode-ml/blob/master/Sprint_24.ipynb\" target=\"_parent\"><img src=\"https://colab.research.google.com/assets/colab-badge.svg\" alt=\"Open In Colab\"/></a>"
      ]
    },
    {
      "cell_type": "code",
      "metadata": {
        "id": "vUcVfYdGX3fr",
        "colab_type": "code",
        "outputId": "c1ced904-7397-4714-83ea-35bfe28e4966",
        "colab": {
          "base_uri": "https://localhost:8080/",
          "height": 54
        }
      },
      "source": [
        "from google.colab import drive\n",
        "drive.mount('/content/drive')"
      ],
      "execution_count": 0,
      "outputs": [
        {
          "output_type": "stream",
          "text": [
            "Drive already mounted at /content/drive; to attempt to forcibly remount, call drive.mount(\"/content/drive\", force_remount=True).\n"
          ],
          "name": "stdout"
        }
      ]
    },
    {
      "cell_type": "markdown",
      "metadata": {
        "id": "hIg00PVBVzRu",
        "colab_type": "text"
      },
      "source": [
        "# 【問題1】機械翻訳の実行とコードリーディング"
      ]
    },
    {
      "cell_type": "code",
      "metadata": {
        "id": "catKxxeqaRXg",
        "colab_type": "code",
        "outputId": "6620ea26-8b78-47e6-cd61-756d1a4dca06",
        "colab": {
          "base_uri": "https://localhost:8080/",
          "height": 34
        }
      },
      "source": [
        "pwd"
      ],
      "execution_count": 0,
      "outputs": [
        {
          "output_type": "execute_result",
          "data": {
            "text/plain": [
              "'/content/drive/My Drive/Colab Notebooks/Sprint_24/pytorch-tutorial/tutorials/03-advanced/image_captioning'"
            ]
          },
          "metadata": {
            "tags": []
          },
          "execution_count": 47
        }
      ]
    },
    {
      "cell_type": "code",
      "metadata": {
        "id": "fWMpCsbfaM01",
        "colab_type": "code",
        "outputId": "eabeba6a-582d-4c74-d86d-d29a3d867cd8",
        "colab": {
          "base_uri": "https://localhost:8080/",
          "height": 69
        }
      },
      "source": [
        "!unzip /content/drive/'My Drive/Colab Notebooks/Sprint_24'/pytorch-tutorial/tutorials/03-advanced/image_captioning/fra-eng.zip"
      ],
      "execution_count": 0,
      "outputs": [
        {
          "output_type": "stream",
          "text": [
            "Archive:  /content/drive/My Drive/Colab Notebooks/Sprint_24/pytorch-tutorial/tutorials/03-advanced/image_captioning/fra-eng.zip\n",
            "  inflating: _about.txt              \n",
            "  inflating: fra.txt                 \n"
          ],
          "name": "stdout"
        }
      ]
    },
    {
      "cell_type": "code",
      "metadata": {
        "id": "HpuD2DSHV3md",
        "colab_type": "code",
        "outputId": "b60b7e99-b198-4b4d-d31a-edef7563afff",
        "colab": {
          "base_uri": "https://localhost:8080/",
          "height": 1000
        }
      },
      "source": [
        "'''\n",
        "#Sequence to sequence example in Keras (character-level).\n",
        "This script demonstrates how to implement a basic character-level\n",
        "sequence-to-sequence model. We apply it to translating\n",
        "short English sentences into short French sentences,\n",
        "character-by-character. Note that it is fairly unusual to\n",
        "do character-level machine translation, as word-level\n",
        "models are more common in this domain.\n",
        "**Summary of the algorithm**\n",
        "- We start with input sequences from a domain (e.g. English sentences)\n",
        "    and corresponding target sequences from another domain\n",
        "    (e.g. French sentences).\n",
        "- An encoder LSTM turns input sequences to 2 state vectors\n",
        "    (we keep the last LSTM state and discard the outputs).\n",
        "- A decoder LSTM is trained to turn the target sequences into\n",
        "    the same sequence but offset by one timestep in the future,\n",
        "    a training process called \"teacher forcing\" in this context.\n",
        "    It uses as initial state the state vectors from the encoder.\n",
        "    Effectively, the decoder learns to generate `targets[t+1...]`\n",
        "    given `targets[...t]`, conditioned on the input sequence.\n",
        "- In inference mode, when we want to decode unknown input sequences, we:\n",
        "    - Encode the input sequence into state vectors\n",
        "    - Start with a target sequence of size 1\n",
        "        (just the start-of-sequence character)\n",
        "    - Feed the state vectors and 1-char target sequence\n",
        "        to the decoder to produce predictions for the next character\n",
        "    - Sample the next character using these predictions\n",
        "        (we simply use argmax).\n",
        "    - Append the sampled character to the target sequence\n",
        "    - Repeat until we generate the end-of-sequence character or we\n",
        "        hit the character limit.\n",
        "**Data download**\n",
        "[English to French sentence pairs.\n",
        "](http://www.manythings.org/anki/fra-eng.zip)\n",
        "[Lots of neat sentence pairs datasets.\n",
        "](http://www.manythings.org/anki/)\n",
        "**References**\n",
        "- [Sequence to Sequence Learning with Neural Networks\n",
        "   ](https://arxiv.org/abs/1409.3215)\n",
        "- [Learning Phrase Representations using\n",
        "    RNN Encoder-Decoder for Statistical Machine Translation\n",
        "    ](https://arxiv.org/abs/1406.1078)\n",
        "'''\n",
        "from __future__ import print_function\n",
        "\n",
        "from keras.models import Model\n",
        "from keras.layers import Input, LSTM, Dense\n",
        "import numpy as np\n",
        "\n",
        "batch_size = 64  # Batch size for training.\n",
        "epochs = 10 # Number of epochs to train for.ee\n",
        "latent_dim = 256  # Latent dimensionality of the encoding space.\n",
        "num_samples = 10000  # Number of samples to train on.\n",
        "# Path to the data txt file on disk.\n",
        "data_path = 'fra.txt'\n",
        "\n",
        "# Vectorize the data.\n",
        "input_texts = []\n",
        "target_texts = []\n",
        "input_characters = set() #集合set関数で重複を避けている。\n",
        "target_characters = set()\n",
        "with open(data_path, 'r', encoding='utf-8') as f:\n",
        "    lines = f.read().split('\\n') #改行区切りでテキストファイルを読み込む\n",
        "\n",
        "for line in lines[: min(num_samples, len(lines) - 1)]:\n",
        "    input_text, target_text = line.split('\\t') #input_text, target_textそれぞれににテキストファイルをタブ区切りで格納\n",
        "    # We use \"tab\" as the \"start sequence\" character\n",
        "    # for the targets, and \"\\n\" as \"end sequence\" character.\n",
        "    # Sequenceの始まりをタブとし、終わりを改行とする。\n",
        "    target_text = '\\t' + target_text + '\\n'\n",
        "    input_texts.append(input_text) #input_textsリストに取り出したinput_text（単語）を代入\n",
        "    target_texts.append(target_text) #target_textsリストに取り出したtarget_text（単語）を代入\n",
        "    # input_text, target_textそれぞれ一文字づつ取り出し、input_charactersリスト、\n",
        "    # target_charactersリストに格納する\n",
        "    for char in input_text:\n",
        "        if char not in input_characters:\n",
        "            input_characters.add(char)# addは処理が遅いから処理する回数を減らすため、ユニーク値を絞る。\n",
        "    for char in target_text:\n",
        "        if char not in target_characters:\n",
        "            target_characters.add(char)\n",
        "\n",
        "print(input_characters)\n",
        "            \n",
        "input_characters = sorted(list(input_characters))#文字を格納したリストをソートする\n",
        "target_characters = sorted(list(target_characters))\n",
        "num_encoder_tokens = len(input_characters)# encoder_token数を抽出\n",
        "num_decoder_tokens = len(target_characters)\n",
        "max_encoder_seq_length = max([len(txt) for txt in input_texts])# encoder, decoderの長さを定義する。\n",
        "max_decoder_seq_length = max([len(txt) for txt in target_texts])\n",
        "\n",
        "print('Number of samples:', len(input_texts))\n",
        "print('Number of unique input tokens:', num_encoder_tokens)\n",
        "print('Number of unique output tokens:', num_decoder_tokens)\n",
        "print('Max sequence length for inputs:', max_encoder_seq_length)\n",
        "print('Max sequence length for outputs:', max_decoder_seq_length)\n",
        "\n",
        "#input, targetそれぞれindexを振る。\n",
        "input_token_index = dict(\n",
        "    [(char, i) for i, char in enumerate(input_characters)])\n",
        "target_token_index = dict(\n",
        "    [(char, i) for i, char in enumerate(target_characters)])\n",
        "\n",
        "#encoder、decoderそれぞれの要素\"0\"の空配列を作る。\n",
        "#shape：(text数、encoder,decoderそれぞれの長さ、それぞれのtoken数)\n",
        "encoder_input_data = np.zeros(\n",
        "    (len(input_texts), max_encoder_seq_length, num_encoder_tokens),\n",
        "    dtype='float32')\n",
        "decoder_input_data = np.zeros(\n",
        "    (len(input_texts), max_decoder_seq_length, num_decoder_tokens),\n",
        "    dtype='float32')\n",
        "decoder_target_data = np.zeros(\n",
        "    (len(input_texts), max_decoder_seq_length, num_decoder_tokens),\n",
        "    dtype='float32')\n",
        "\n",
        "for i, (input_text, target_text) in enumerate(zip(input_texts, target_texts)):\n",
        "    for t, char in enumerate(input_text):\n",
        "        encoder_input_data[i, t, input_token_index[char]] = 1.\n",
        "    encoder_input_data[i, t + 1:, input_token_index[' ']] = 1.\n",
        "    for t, char in enumerate(target_text):\n",
        "        # decoder_target_data is ahead of decoder_input_data by one timestep\n",
        "        decoder_input_data[i, t, target_token_index[char]] = 1.\n",
        "        if t > 0:\n",
        "            # decoder_target_data will be ahead by one timestep\n",
        "            # and will not include the start character.\n",
        "            decoder_target_data[i, t - 1, target_token_index[char]] = 1.\n",
        "    decoder_input_data[i, t + 1:, target_token_index[' ']] = 1.\n",
        "    decoder_target_data[i, t:, target_token_index[' ']] = 1.\n",
        "# Define an input sequence and process it.\n",
        "# 入力sequenceを定義し、それを実行する。\n",
        "encoder_inputs = Input(shape=(None, num_encoder_tokens))\n",
        "#encoderをLSTMネットワークで定義する。\n",
        "encoder = LSTM(latent_dim, return_state=True)\n",
        "#encoderの出力を変数に格納\n",
        "encoder_outputs, state_h, state_c = encoder(encoder_inputs)\n",
        "# We discard `encoder_outputs` and only keep the states.\n",
        "# 「encoder_outputs」を破棄し、状態(states)のみを保持します。\n",
        "encoder_states = [state_h, state_c]\n",
        "\n",
        "# Set up the decoder, using `encoder_states` as initial state.\n",
        "decoder_inputs = Input(shape=(None, num_decoder_tokens))\n",
        "# We set up our decoder to return full output sequences,\n",
        "# and to return internal states as well. We don't use the\n",
        "# return states in the training model, but we will use them in inference.\n",
        "#完全な出力シーケンスを返すようにデコーダを設定し、内部状態も返すようにします。\n",
        "#トレーニングモデルではstates（状態）を使用しませんが、推論では使用します。\n",
        "\n",
        "decoder_lstm = LSTM(latent_dim, return_sequences=True, return_state=True)\n",
        "decoder_outputs, _, _ = decoder_lstm(decoder_inputs,\n",
        "                                     initial_state=encoder_states)\n",
        "decoder_dense = Dense(num_decoder_tokens, activation='softmax')\n",
        "decoder_outputs = decoder_dense(decoder_outputs)\n",
        "\n",
        "# Define the model that will turn\n",
        "# `encoder_input_data` & `decoder_input_data` into `decoder_target_data`\n",
        "# `encoder_input_data`と` decoder_input_data`を `decoder_target_data`に変えるモデルを定義する\n",
        "model = Model([encoder_inputs, decoder_inputs], decoder_outputs)\n",
        "\n",
        "# Run training\n",
        "model.compile(optimizer='rmsprop', loss='categorical_crossentropy',\n",
        "              metrics=['accuracy'])\n",
        "model.fit([encoder_input_data, decoder_input_data], decoder_target_data,\n",
        "          batch_size=batch_size,\n",
        "          epochs=epochs,\n",
        "          validation_split=0.2)\n",
        "# Save model\n",
        "model.save('s2s.h5')\n",
        "\n",
        "# Next: inference mode (sampling).\n",
        "# Here's the drill:\n",
        "# 1) encode input and retrieve initial decoder state\n",
        "# 2) run one step of decoder with this initial state\n",
        "# and a \"start of sequence\" token as target.\n",
        "# Output will be the next target token\n",
        "# 3) Repeat with the current target token and current states\n",
        "#next：推論モード（サンプリング）。 \n",
        "#ドリルを次に示します。\n",
        "#1）入力をエンコードし、初期デコーダー状態を取得します\n",
        "#2）この初期状態と「シーケンスの開始」トークンをターゲットとしてデコーダーの1ステップを実行します。 \n",
        "#出力は次のターゲットトークンになります\n",
        "#3）現在のターゲットトークンと現在の状態で繰り返します\n",
        "\n",
        "# Define sampling models\n",
        "encoder_model = Model(encoder_inputs, encoder_states)\n",
        "\n",
        "decoder_state_input_h = Input(shape=(latent_dim,))\n",
        "decoder_state_input_c = Input(shape=(latent_dim,))\n",
        "decoder_states_inputs = [decoder_state_input_h, decoder_state_input_c]\n",
        "decoder_outputs, state_h, state_c = decoder_lstm(\n",
        "    decoder_inputs, initial_state=decoder_states_inputs)\n",
        "decoder_states = [state_h, state_c]\n",
        "decoder_outputs = decoder_dense(decoder_outputs)\n",
        "decoder_model = Model(\n",
        "    [decoder_inputs] + decoder_states_inputs,\n",
        "    [decoder_outputs] + decoder_states)\n",
        "\n",
        "# Reverse-lookup token index to decode sequences back to\n",
        "# something readable.\n",
        "#シーケンスをデコードして読みやすいものに戻すための\n",
        "#逆ルックアップトークンインデックス\n",
        "reverse_input_char_index = dict(\n",
        "    (i, char) for char, i in input_token_index.items())\n",
        "reverse_target_char_index = dict(\n",
        "    (i, char) for char, i in target_token_index.items())\n",
        "\n",
        "\n",
        "def decode_sequence(input_seq):\n",
        "    # Encode the input as state vectors.\n",
        "    # 入力を状態ベクトルとしてエンコードします。\n",
        "    states_value = encoder_model.predict(input_seq)\n",
        "\n",
        "    # Generate empty target sequence of length 1.\n",
        "    # 長さ1の空のターゲットシーケンスを生成します。\n",
        "    target_seq = np.zeros((1, 1, num_decoder_tokens))\n",
        "    # Populate the first character of target sequence with the start character.\n",
        "    # ターゲットシーケンスの最初の文字に開始文字を入力します。\n",
        "    target_seq[0, 0, target_token_index['\\t']] = 1.\n",
        "\n",
        "    # Sampling loop for a batch of sequences\n",
        "    # (to simplify, here we assume a batch of size 1).\n",
        "    # シーケンスのバッチのサンプリングループ\n",
        "    #（簡単にするために、ここではサイズ1のバッチを想定しています）。\n",
        "    stop_condition = False\n",
        "    decoded_sentence = ''\n",
        "    while not stop_condition:\n",
        "        output_tokens, h, c = decoder_model.predict(\n",
        "            [target_seq] + states_value)\n",
        "\n",
        "        # Sample a token\n",
        "        sampled_token_index = np.argmax(output_tokens[0, -1, :])\n",
        "        sampled_char = reverse_target_char_index[sampled_token_index]\n",
        "        decoded_sentence += sampled_char\n",
        "\n",
        "        # Exit condition: either hit max length\n",
        "        # or find stop character.\n",
        "        #終了条件：最大長をヒットするか\n",
        "        #停止文字を見つけます。\n",
        "        if (sampled_char == '\\n' or\n",
        "           len(decoded_sentence) > max_decoder_seq_length):\n",
        "            stop_condition = True\n",
        "\n",
        "        # Update the target sequence (of length 1).\n",
        "        # ターゲットシーケンス（長さ1）を更新します。\n",
        "        target_seq = np.zeros((1, 1, num_decoder_tokens))\n",
        "        target_seq[0, 0, sampled_token_index] = 1.\n",
        "\n",
        "        # Update states\n",
        "        states_value = [h, c]\n",
        "\n",
        "    return decoded_sentence\n",
        "\n",
        "\n",
        "for seq_index in range(100):\n",
        "    # Take one sequence (part of the training set)\n",
        "    # for trying out decoding.\n",
        "    #デコードを試すために、1つのシーケンス（トレーニングセットの一部）を取得します。\n",
        "    input_seq = encoder_input_data[seq_index: seq_index + 1]\n",
        "    decoded_sentence = decode_sequence(input_seq)\n",
        "    print('-')\n",
        "    print('Input sentence:', input_texts[seq_index])\n",
        "    print('Decoded sentence:', decoded_sentence)"
      ],
      "execution_count": 0,
      "outputs": [
        {
          "output_type": "stream",
          "text": [
            "{'b', 'w', 'B', 'W', 'p', 'O', 'd', 'z', 'P', 'h', '?', 'T', '!', 'i', ' ', 'U', '3', '$', 't', 'g', 'k', 'f', 'D', '1', '5', 'q', ':', '.', '&', 'Q', 'n', 'e', 'v', 's', 'H', 'o', '0', '2', 'c', 'F', 'I', 'j', '-', '9', 'L', \"'\", 'y', 'm', 'R', 'A', ',', '7', 'u', 'C', 'l', '6', 'x', 'r', 'Y', 'G', 'a', 'K', 'S', 'V', '8', 'M', 'N', 'E', 'J', '%'}\n",
            "Number of samples: 10000\n",
            "Number of unique input tokens: 70\n",
            "Number of unique output tokens: 93\n",
            "Max sequence length for inputs: 16\n",
            "Max sequence length for outputs: 59\n",
            "WARNING:tensorflow:From /usr/local/lib/python3.6/dist-packages/keras/backend/tensorflow_backend.py:66: The name tf.get_default_graph is deprecated. Please use tf.compat.v1.get_default_graph instead.\n",
            "\n",
            "WARNING:tensorflow:From /usr/local/lib/python3.6/dist-packages/keras/backend/tensorflow_backend.py:541: The name tf.placeholder is deprecated. Please use tf.compat.v1.placeholder instead.\n",
            "\n",
            "WARNING:tensorflow:From /usr/local/lib/python3.6/dist-packages/keras/backend/tensorflow_backend.py:4432: The name tf.random_uniform is deprecated. Please use tf.random.uniform instead.\n",
            "\n",
            "WARNING:tensorflow:From /usr/local/lib/python3.6/dist-packages/keras/optimizers.py:793: The name tf.train.Optimizer is deprecated. Please use tf.compat.v1.train.Optimizer instead.\n",
            "\n",
            "WARNING:tensorflow:From /usr/local/lib/python3.6/dist-packages/keras/backend/tensorflow_backend.py:3576: The name tf.log is deprecated. Please use tf.math.log instead.\n",
            "\n",
            "WARNING:tensorflow:From /usr/local/lib/python3.6/dist-packages/tensorflow/python/ops/math_grad.py:1250: add_dispatch_support.<locals>.wrapper (from tensorflow.python.ops.array_ops) is deprecated and will be removed in a future version.\n",
            "Instructions for updating:\n",
            "Use tf.where in 2.0, which has the same broadcast rule as np.where\n",
            "WARNING:tensorflow:From /usr/local/lib/python3.6/dist-packages/keras/backend/tensorflow_backend.py:1033: The name tf.assign_add is deprecated. Please use tf.compat.v1.assign_add instead.\n",
            "\n",
            "Train on 8000 samples, validate on 2000 samples\n",
            "Epoch 1/10\n",
            "8000/8000 [==============================] - 24s 3ms/step - loss: 1.1870 - acc: 0.7245 - val_loss: 1.1150 - val_acc: 0.7013\n",
            "Epoch 2/10\n",
            "8000/8000 [==============================] - 18s 2ms/step - loss: 0.8457 - acc: 0.7722 - val_loss: 1.0012 - val_acc: 0.7529\n",
            "Epoch 3/10\n",
            "8000/8000 [==============================] - 17s 2ms/step - loss: 0.6764 - acc: 0.8088 - val_loss: 0.7217 - val_acc: 0.7911\n",
            "Epoch 4/10\n",
            "8000/8000 [==============================] - 18s 2ms/step - loss: 0.5905 - acc: 0.8280 - val_loss: 0.6588 - val_acc: 0.8087\n",
            "Epoch 5/10\n",
            "8000/8000 [==============================] - 17s 2ms/step - loss: 0.5443 - acc: 0.8405 - val_loss: 0.6101 - val_acc: 0.8211\n",
            "Epoch 6/10\n",
            "8000/8000 [==============================] - 17s 2ms/step - loss: 0.5069 - acc: 0.8509 - val_loss: 0.5780 - val_acc: 0.8320\n",
            "Epoch 7/10\n",
            "8000/8000 [==============================] - 17s 2ms/step - loss: 0.4782 - acc: 0.8585 - val_loss: 0.5578 - val_acc: 0.8348\n",
            "Epoch 8/10\n",
            "8000/8000 [==============================] - 17s 2ms/step - loss: 0.4535 - acc: 0.8650 - val_loss: 0.5404 - val_acc: 0.8409\n",
            "Epoch 9/10\n",
            "8000/8000 [==============================] - 17s 2ms/step - loss: 0.4322 - acc: 0.8712 - val_loss: 0.5180 - val_acc: 0.8461\n",
            "Epoch 10/10\n",
            "8000/8000 [==============================] - 17s 2ms/step - loss: 0.4131 - acc: 0.8763 - val_loss: 0.5079 - val_acc: 0.8495\n",
            "-\n",
            "Input sentence: Go.\n",
            "Decoded sentence: Viens !\n",
            "\n",
            "-\n",
            "Input sentence: Hi.\n",
            "Decoded sentence: Prends un boure.\n",
            "\n",
            "-\n",
            "Input sentence: Hi.\n",
            "Decoded sentence: Prends un boure.\n",
            "\n",
            "-\n",
            "Input sentence: Run!\n",
            "Decoded sentence: Laissez-moi !\n",
            "\n",
            "-\n",
            "Input sentence: Run!\n",
            "Decoded sentence: Laissez-moi !\n",
            "\n",
            "-\n",
            "Input sentence: Who?\n",
            "Decoded sentence: Puis-je en arrir ?\n",
            "\n",
            "-\n",
            "Input sentence: Wow!\n",
            "Decoded sentence: Laisse-moi !\n",
            "\n",
            "-\n",
            "Input sentence: Fire!\n",
            "Decoded sentence: Attends un combe.\n",
            "\n",
            "-\n",
            "Input sentence: Help!\n",
            "Decoded sentence: Prends un boure.\n",
            "\n",
            "-\n",
            "Input sentence: Jump.\n",
            "Decoded sentence: Laissez-moi !\n",
            "\n",
            "-\n",
            "Input sentence: Stop!\n",
            "Decoded sentence: Arrêtez !\n",
            "\n",
            "-\n",
            "Input sentence: Stop!\n",
            "Decoded sentence: Arrêtez !\n",
            "\n",
            "-\n",
            "Input sentence: Stop!\n",
            "Decoded sentence: Arrêtez !\n",
            "\n",
            "-\n",
            "Input sentence: Wait!\n",
            "Decoded sentence: Atrêtez !\n",
            "\n",
            "-\n",
            "Input sentence: Wait!\n",
            "Decoded sentence: Atrêtez !\n",
            "\n",
            "-\n",
            "Input sentence: Go on.\n",
            "Decoded sentence: Viens !\n",
            "\n",
            "-\n",
            "Input sentence: Go on.\n",
            "Decoded sentence: Viens !\n",
            "\n",
            "-\n",
            "Input sentence: Go on.\n",
            "Decoded sentence: Viens !\n",
            "\n",
            "-\n",
            "Input sentence: Hello!\n",
            "Decoded sentence: Arrêtez !\n",
            "\n",
            "-\n",
            "Input sentence: Hello!\n",
            "Decoded sentence: Arrêtez !\n",
            "\n",
            "-\n",
            "Input sentence: I see.\n",
            "Decoded sentence: Je me suis senti de lais.\n",
            "\n",
            "-\n",
            "Input sentence: I try.\n",
            "Decoded sentence: Je l'ai pas de le mais.\n",
            "\n",
            "-\n",
            "Input sentence: I won!\n",
            "Decoded sentence: Je me suis pas de le mais.\n",
            "\n",
            "-\n",
            "Input sentence: I won!\n",
            "Decoded sentence: Je me suis pas de le mais.\n",
            "\n",
            "-\n",
            "Input sentence: I won.\n",
            "Decoded sentence: Je me suis pas de le mais.\n",
            "\n",
            "-\n",
            "Input sentence: Oh no!\n",
            "Decoded sentence: Prends-moi !\n",
            "\n",
            "-\n",
            "Input sentence: Attack!\n",
            "Decoded sentence: Atrêtez !\n",
            "\n",
            "-\n",
            "Input sentence: Attack!\n",
            "Decoded sentence: Atrêtez !\n",
            "\n",
            "-\n",
            "Input sentence: Cheers!\n",
            "Decoded sentence: Prends un boure.\n",
            "\n",
            "-\n",
            "Input sentence: Cheers!\n",
            "Decoded sentence: Prends un boure.\n",
            "\n",
            "-\n",
            "Input sentence: Cheers!\n",
            "Decoded sentence: Prends un boure.\n",
            "\n",
            "-\n",
            "Input sentence: Cheers!\n",
            "Decoded sentence: Prends un boure.\n",
            "\n",
            "-\n",
            "Input sentence: Get up.\n",
            "Decoded sentence: Arrêtez !\n",
            "\n",
            "-\n",
            "Input sentence: Go now.\n",
            "Decoded sentence: Viens !\n",
            "\n",
            "-\n",
            "Input sentence: Go now.\n",
            "Decoded sentence: Viens !\n",
            "\n",
            "-\n",
            "Input sentence: Go now.\n",
            "Decoded sentence: Viens !\n",
            "\n",
            "-\n",
            "Input sentence: Got it!\n",
            "Decoded sentence: Attends !\n",
            "\n",
            "-\n",
            "Input sentence: Got it!\n",
            "Decoded sentence: Attends !\n",
            "\n",
            "-\n",
            "Input sentence: Got it?\n",
            "Decoded sentence: Attends un cher !\n",
            "\n",
            "-\n",
            "Input sentence: Got it?\n",
            "Decoded sentence: Attends un cher !\n",
            "\n",
            "-\n",
            "Input sentence: Got it?\n",
            "Decoded sentence: Attends un cher !\n",
            "\n",
            "-\n",
            "Input sentence: Hop in.\n",
            "Decoded sentence: Prends un boure.\n",
            "\n",
            "-\n",
            "Input sentence: Hop in.\n",
            "Decoded sentence: Prends un boure.\n",
            "\n",
            "-\n",
            "Input sentence: Hug me.\n",
            "Decoded sentence: Prends un boure.\n",
            "\n",
            "-\n",
            "Input sentence: Hug me.\n",
            "Decoded sentence: Prends un boure.\n",
            "\n",
            "-\n",
            "Input sentence: I fell.\n",
            "Decoded sentence: Je me suis senti de lais.\n",
            "\n",
            "-\n",
            "Input sentence: I fell.\n",
            "Decoded sentence: Je me suis senti de lais.\n",
            "\n",
            "-\n",
            "Input sentence: I know.\n",
            "Decoded sentence: Je le prois pas de le mais.\n",
            "\n",
            "-\n",
            "Input sentence: I left.\n",
            "Decoded sentence: Je me suis pas de le mais.\n",
            "\n",
            "-\n",
            "Input sentence: I left.\n",
            "Decoded sentence: Je me suis pas de le mais.\n",
            "\n",
            "-\n",
            "Input sentence: I lost.\n",
            "Decoded sentence: Je l'ai pas de le mais.\n",
            "\n",
            "-\n",
            "Input sentence: I paid.\n",
            "Decoded sentence: Je me suis pas de le mais.\n",
            "\n",
            "-\n",
            "Input sentence: I'm 19.\n",
            "Decoded sentence: Je suis prête.\n",
            "\n",
            "-\n",
            "Input sentence: I'm OK.\n",
            "Decoded sentence: Je suis prête.\n",
            "\n",
            "-\n",
            "Input sentence: I'm OK.\n",
            "Decoded sentence: Je suis prête.\n",
            "\n",
            "-\n",
            "Input sentence: Listen.\n",
            "Decoded sentence: Laisse-moi l'air !\n",
            "\n",
            "-\n",
            "Input sentence: No way!\n",
            "Decoded sentence: Parssez-moi mainter.\n",
            "\n",
            "-\n",
            "Input sentence: No way!\n",
            "Decoded sentence: Parssez-moi mainter.\n",
            "\n",
            "-\n",
            "Input sentence: No way!\n",
            "Decoded sentence: Parssez-moi mainter.\n",
            "\n",
            "-\n",
            "Input sentence: No way!\n",
            "Decoded sentence: Parssez-moi mainter.\n",
            "\n",
            "-\n",
            "Input sentence: No way!\n",
            "Decoded sentence: Parssez-moi mainter.\n",
            "\n",
            "-\n",
            "Input sentence: No way!\n",
            "Decoded sentence: Parssez-moi mainter.\n",
            "\n",
            "-\n",
            "Input sentence: No way!\n",
            "Decoded sentence: Parssez-moi mainter.\n",
            "\n",
            "-\n",
            "Input sentence: No way!\n",
            "Decoded sentence: Parssez-moi mainter.\n",
            "\n",
            "-\n",
            "Input sentence: No way!\n",
            "Decoded sentence: Parssez-moi mainter.\n",
            "\n",
            "-\n",
            "Input sentence: Really?\n",
            "Decoded sentence: Atrendez !\n",
            "\n",
            "-\n",
            "Input sentence: Really?\n",
            "Decoded sentence: Atrendez !\n",
            "\n",
            "-\n",
            "Input sentence: Really?\n",
            "Decoded sentence: Atrendez !\n",
            "\n",
            "-\n",
            "Input sentence: Thanks.\n",
            "Decoded sentence: C'est un priti.\n",
            "\n",
            "-\n",
            "Input sentence: We try.\n",
            "Decoded sentence: Nous avons de le mais.\n",
            "\n",
            "-\n",
            "Input sentence: We won.\n",
            "Decoded sentence: Nous sommes soutis.\n",
            "\n",
            "-\n",
            "Input sentence: We won.\n",
            "Decoded sentence: Nous sommes soutis.\n",
            "\n",
            "-\n",
            "Input sentence: We won.\n",
            "Decoded sentence: Nous sommes soutis.\n",
            "\n",
            "-\n",
            "Input sentence: We won.\n",
            "Decoded sentence: Nous sommes soutis.\n",
            "\n",
            "-\n",
            "Input sentence: Ask Tom.\n",
            "Decoded sentence: Laisse-moi de le maisse.\n",
            "\n",
            "-\n",
            "Input sentence: Awesome!\n",
            "Decoded sentence: Sont son bous !\n",
            "\n",
            "-\n",
            "Input sentence: Be calm.\n",
            "Decoded sentence: Sois prête !\n",
            "\n",
            "-\n",
            "Input sentence: Be calm.\n",
            "Decoded sentence: Sois prête !\n",
            "\n",
            "-\n",
            "Input sentence: Be calm.\n",
            "Decoded sentence: Sois prête !\n",
            "\n",
            "-\n",
            "Input sentence: Be cool.\n",
            "Decoded sentence: Sois prête !\n",
            "\n",
            "-\n",
            "Input sentence: Be fair.\n",
            "Decoded sentence: Sois prête !\n",
            "\n",
            "-\n",
            "Input sentence: Be fair.\n",
            "Decoded sentence: Sois prête !\n",
            "\n",
            "-\n",
            "Input sentence: Be fair.\n",
            "Decoded sentence: Sois prête !\n",
            "\n",
            "-\n",
            "Input sentence: Be fair.\n",
            "Decoded sentence: Sois prête !\n",
            "\n",
            "-\n",
            "Input sentence: Be fair.\n",
            "Decoded sentence: Sois prête !\n",
            "\n",
            "-\n",
            "Input sentence: Be fair.\n",
            "Decoded sentence: Sois prête !\n",
            "\n",
            "-\n",
            "Input sentence: Be kind.\n",
            "Decoded sentence: Sois prête !\n",
            "\n",
            "-\n",
            "Input sentence: Be nice.\n",
            "Decoded sentence: Sois sontie !\n",
            "\n",
            "-\n",
            "Input sentence: Be nice.\n",
            "Decoded sentence: Sois sontie !\n",
            "\n",
            "-\n",
            "Input sentence: Be nice.\n",
            "Decoded sentence: Sois sontie !\n",
            "\n",
            "-\n",
            "Input sentence: Be nice.\n",
            "Decoded sentence: Sois sontie !\n",
            "\n",
            "-\n",
            "Input sentence: Be nice.\n",
            "Decoded sentence: Sois sontie !\n",
            "\n",
            "-\n",
            "Input sentence: Be nice.\n",
            "Decoded sentence: Sois sontie !\n",
            "\n",
            "-\n",
            "Input sentence: Beat it.\n",
            "Decoded sentence: Laisse-moi !\n",
            "\n",
            "-\n",
            "Input sentence: Call me.\n",
            "Decoded sentence: Atrêtez !\n",
            "\n",
            "-\n",
            "Input sentence: Call me.\n",
            "Decoded sentence: Atrêtez !\n",
            "\n",
            "-\n",
            "Input sentence: Call us.\n",
            "Decoded sentence: Atrêtez !\n",
            "\n",
            "-\n",
            "Input sentence: Call us.\n",
            "Decoded sentence: Atrêtez !\n",
            "\n",
            "-\n",
            "Input sentence: Come in.\n",
            "Decoded sentence: Viens !\n",
            "\n",
            "-\n",
            "Input sentence: Come in.\n",
            "Decoded sentence: Viens !\n",
            "\n"
          ],
          "name": "stdout"
        }
      ]
    },
    {
      "cell_type": "markdown",
      "metadata": {
        "id": "IqclhPcUWKrB",
        "colab_type": "text"
      },
      "source": [
        "## **【解答】**\n",
        "・62行目：テキストファイルを読み込み用で開き、改行区切りで読み込む <font color=\"Red\"></font>  \n",
        "・65～80行目：読み込んだテキストファイルからinput, targetに分けて、1行づつ単語を取り出し、さらに一文字づつに分解し、リストに格納している。  \n",
        "・82～87行目：一文字を格納したリストを文字列でソートし、token数を抽出し、encoder、decoderの長さを定義している。    \n",
        "・127～135行目：encoderのネットワークを定義する。  \n",
        "・137～149行目：decoderのネットワークを定義する。  \n",
        "・151～163行目：モデルを定義し、学習する。  \n",
        "・168～203行目：再び（？）,encoder、decoderのmodelを定義している。（推論モード？）  \n",
        "・206～249行目：英語→フランス語に変換（推定）する関数を定義している。  \n",
        "・252～260行目：テストデータ（100個）で推定結果を出力している。  \n",
        "\n",
        "***上記コード中にコードリーディングした注釈入れました。**\n"
      ]
    },
    {
      "cell_type": "markdown",
      "metadata": {
        "id": "GVgPKuOgV4g8",
        "colab_type": "text"
      },
      "source": [
        "# 【問題2】イメージキャプショニングの学習済みモデルの実行"
      ]
    },
    {
      "cell_type": "code",
      "metadata": {
        "id": "L9TD0b7A4Iz6",
        "colab_type": "code",
        "outputId": "1b14f845-fb40-479b-b122-8467c9a4f547",
        "colab": {
          "base_uri": "https://localhost:8080/",
          "height": 34
        }
      },
      "source": [
        "cd /content/drive/My Drive/Colab Notebooks/Sprint_24/pytorch-tutorial/tutorials/03-advanced/image_captioning"
      ],
      "execution_count": 0,
      "outputs": [
        {
          "output_type": "stream",
          "text": [
            "/content/drive/My Drive/Colab Notebooks/Sprint_24/pytorch-tutorial/tutorials/03-advanced/image_captioning\n"
          ],
          "name": "stdout"
        }
      ]
    },
    {
      "cell_type": "code",
      "metadata": {
        "id": "kHLq5rU53PU8",
        "colab_type": "code",
        "outputId": "0794f6a4-64fc-4caa-ffd9-c21fc83eb220",
        "colab": {
          "base_uri": "https://localhost:8080/",
          "height": 89
        }
      },
      "source": [
        "!unzip /content/drive/'My Drive/Colab Notebooks'/Sprint_24/pytorch-tutorial/tutorials/03-advanced/image_captioning/pretrained_model.zip -d models"
      ],
      "execution_count": 0,
      "outputs": [
        {
          "output_type": "stream",
          "text": [
            "Archive:  /content/drive/My Drive/Colab Notebooks/Sprint_24/pytorch-tutorial/tutorials/03-advanced/image_captioning/pretrained_model.zip\n",
            "  inflating: models/encoder-5-3000.pkl  \n",
            "  inflating: models/decoder-5-3000.pkl  \n"
          ],
          "name": "stdout"
        }
      ]
    },
    {
      "cell_type": "code",
      "metadata": {
        "id": "FrWvJAjW4eBN",
        "colab_type": "code",
        "outputId": "6d96b01b-e24c-43f3-b03e-4188a451d33a",
        "colab": {
          "base_uri": "https://localhost:8080/",
          "height": 34
        }
      },
      "source": [
        "!python sample.py --image='png/example.png'"
      ],
      "execution_count": 0,
      "outputs": [
        {
          "output_type": "stream",
          "text": [
            "<start> a group of giraffes standing next to each other . <end>\n"
          ],
          "name": "stdout"
        }
      ]
    },
    {
      "cell_type": "code",
      "metadata": {
        "id": "6bqyHsyFRW1v",
        "colab_type": "code",
        "outputId": "057723bf-7642-4eb7-ecf0-9086ab3a96c4",
        "colab": {
          "base_uri": "https://localhost:8080/",
          "height": 34
        }
      },
      "source": [
        "mv dog.4.jpg /content/drive/'My Drive/Colab Notebooks'/Sprint_24/pytorch-tutorial/tutorials/03-advanced/image_captioning/png"
      ],
      "execution_count": 0,
      "outputs": [
        {
          "output_type": "stream",
          "text": [
            "mv: cannot stat 'dog.4.jpg': No such file or directory\n"
          ],
          "name": "stdout"
        }
      ]
    },
    {
      "cell_type": "code",
      "metadata": {
        "id": "MOMfH8HSUXph",
        "colab_type": "code",
        "colab": {}
      },
      "source": [
        "mv /content/dog.4.jpg /content/drive/'My Drive/Colab Notebooks'/Sprint_24/pytorch-tutorial/tutorials/03-advanced/image_captioning/png"
      ],
      "execution_count": 0,
      "outputs": []
    },
    {
      "cell_type": "markdown",
      "metadata": {
        "id": "ZbeuPk-xVF8U",
        "colab_type": "text"
      },
      "source": [
        "### 自分で用意した画像で実行"
      ]
    },
    {
      "cell_type": "code",
      "metadata": {
        "id": "ditxYRr4QLNP",
        "colab_type": "code",
        "colab": {}
      },
      "source": [
        "import matplotlib.pyplot as plt\n",
        "import numpy as np\n",
        "from PIL import Image\n",
        "%matplotlib inline"
      ],
      "execution_count": 0,
      "outputs": []
    },
    {
      "cell_type": "code",
      "metadata": {
        "id": "jYIbhyifQ166",
        "colab_type": "code",
        "outputId": "c032fa96-87be-4c54-c6f0-7ae16365bc42",
        "colab": {
          "base_uri": "https://localhost:8080/",
          "height": 34
        }
      },
      "source": [
        "cd /content/drive/My Drive/Colab Notebooks/Sprint_24/pytorch-tutorial/tutorials/03-advanced/image_captioning"
      ],
      "execution_count": 0,
      "outputs": [
        {
          "output_type": "stream",
          "text": [
            "/content/drive/My Drive/Colab Notebooks/Sprint_24/pytorch-tutorial/tutorials/03-advanced/image_captioning\n"
          ],
          "name": "stdout"
        }
      ]
    },
    {
      "cell_type": "code",
      "metadata": {
        "id": "T3A-16cjODfE",
        "colab_type": "code",
        "colab": {}
      },
      "source": [
        "dog_img = Image.open('/content/drive/My Drive/Colab Notebooks/Sprint_24/pytorch-tutorial/tutorials/03-advanced/image_captioning/png/dog.4.jpg')\n",
        "        \n",
        "#サイズを揃える   \n",
        "dog_img = dog_img.resize((224, 224))\n",
        "        \n",
        "#PIL.Image. Imageからnumpy配列へ\n",
        "dog_img = np.array(dog_img)\n",
        "        \n",
        "#正規化\n",
        "dog_img = dog_img / 255.0\n",
        "        \n",
        "#axisの追加\n",
        "dog_img = dog_img.reshape((224, 224, 3))\n",
        "#dog_img_array = np.concatenate([dog_img_array, dog_img], axis=0)\n",
        "        "
      ],
      "execution_count": 0,
      "outputs": []
    },
    {
      "cell_type": "code",
      "metadata": {
        "id": "XOYgYoPqQ0UL",
        "colab_type": "code",
        "outputId": "1dcbd72c-dfe9-4a11-a37a-56941f14da21",
        "colab": {
          "base_uri": "https://localhost:8080/",
          "height": 286
        }
      },
      "source": [
        "plt.imshow(dog_img)"
      ],
      "execution_count": 0,
      "outputs": [
        {
          "output_type": "execute_result",
          "data": {
            "text/plain": [
              "<matplotlib.image.AxesImage at 0x7f9fd82adac8>"
            ]
          },
          "metadata": {
            "tags": []
          },
          "execution_count": 15
        },
        {
          "output_type": "display_data",
          "data": {
            "image/png": "[encoded data removed]",
            "text/plain": [
              "<Figure size 432x288 with 1 Axes>"
            ]
          },
          "metadata": {
            "tags": []
          }
        }
      ]
    },
    {
      "cell_type": "code",
      "metadata": {
        "id": "xD1s9x5qUu1t",
        "colab_type": "code",
        "outputId": "220f8bda-e966-4d7d-b5c3-dd5b44823041",
        "colab": {
          "base_uri": "https://localhost:8080/",
          "height": 34
        }
      },
      "source": [
        "!python sample.py --image='png/dog.4.jpg'"
      ],
      "execution_count": 0,
      "outputs": [
        {
          "output_type": "stream",
          "text": [
            "<start> a dog is standing in a field with a frisbee . <end>\n"
          ],
          "name": "stdout"
        }
      ]
    },
    {
      "cell_type": "code",
      "metadata": {
        "id": "T-gKiP7AU-vY",
        "colab_type": "code",
        "colab": {}
      },
      "source": [
        "rm -r /content/drive/'My Drive/Colab Notebooks'/Sprint_24/coco"
      ],
      "execution_count": 0,
      "outputs": []
    },
    {
      "cell_type": "markdown",
      "metadata": {
        "id": "HL2jSBhldKnU",
        "colab_type": "text"
      },
      "source": [
        "# 【問題3】Kerasで動かしたい場合はどうするかを調査  \n",
        "PyTorchによる実装を動かしましたが、何らかの理由からKerasで動かしたい状況が考えられます。どういった手順を踏むことになるか調査し、できるだけ詳しく説明してください。  \n",
        "\n",
        "特に今回はPyTorchのための学習済みの重みをKerasで使えるようにしたいので、その点については必ず触れてください。"
      ]
    },
    {
      "cell_type": "markdown",
      "metadata": {
        "id": "118ltq3HddOb",
        "colab_type": "text"
      },
      "source": [
        "・ONNX（オニキス）フォーマットを使用して学習させたモデルをkerasを使えるようにする(onnx2keras) 。  \n",
        "・または、__MMdnn__を使用し、フレームワーク間でモデルを相互変換する。  \n",
        "・__channel_first(pytorch)__から__channe_last(keras)__に変換する。  \n",
        "（参考：(https://qiita.com/lain21/items/9f9f9707ebad4bbc627d))\n"
      ]
    },
    {
      "cell_type": "markdown",
      "metadata": {
        "id": "tOmcDR46rFzG",
        "colab_type": "text"
      },
      "source": [
        "# 【問題4】（アドバンス課題）コードリーディングと書き換え"
      ]
    },
    {
      "cell_type": "markdown",
      "metadata": {
        "id": "EGsXy05krFrw",
        "colab_type": "text"
      },
      "source": [
        "### やっていません。"
      ]
    },
    {
      "cell_type": "markdown",
      "metadata": {
        "id": "lsEnc-2rrFjX",
        "colab_type": "text"
      },
      "source": [
        "# 【問題5】（アドバンス課題）発展的調査"
      ]
    },
    {
      "cell_type": "markdown",
      "metadata": {
        "id": "jnpMvDIKrFYG",
        "colab_type": "text"
      },
      "source": [
        "### やっていません。"
      ]
    },
    {
      "cell_type": "code",
      "metadata": {
        "id": "wkgmgddorsfv",
        "colab_type": "code",
        "colab": {}
      },
      "source": [
        ""
      ],
      "execution_count": 0,
      "outputs": []
    }
  ]
}