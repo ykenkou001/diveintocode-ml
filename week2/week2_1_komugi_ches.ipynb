{
 "cells": [
  {
   "cell_type": "code",
   "execution_count": 6,
   "metadata": {},
   "outputs": [
    {
     "name": "stdout",
     "output_type": "stream",
     "text": [
      "4マスの板に小麦を並べる（リスト）：[1, 2, 4, 8]\n"
     ]
    }
   ],
   "source": [
    "#サンプルコード\n",
    "\n",
    "n_squares = 4\n",
    "small_board_list = [1] #リストに１を代入\n",
    "for _ in range(n_squares - 1):#3回転ループ\n",
    "    small_board_list.append(2*small_board_list[-1])\n",
    "print(\"4マスの板に小麦を並べる（リスト）：{}\".format(small_board_list))"
   ]
  },
  {
   "cell_type": "code",
   "execution_count": 7,
   "metadata": {
    "scrolled": true
   },
   "outputs": [
    {
     "name": "stdout",
     "output_type": "stream",
     "text": [
      "4マスの板に小麦を並べる（ndarray） : [1 2 4 8]\n"
     ]
    }
   ],
   "source": [
    "# サンプルコード\n",
    "import numpy as np\n",
    "\n",
    "small_board_ndarray = np.array(small_board_list) #numpy配列に変換\n",
    "print(\"4マスの板に小麦を並べる（ndarray） : {}\".format(small_board_ndarray))"
   ]
  },
  {
   "cell_type": "markdown",
   "metadata": {},
   "source": [
    "# 【問題1】2×2マスのチェス盤の小麦の数"
   ]
  },
  {
   "cell_type": "code",
   "execution_count": 8,
   "metadata": {},
   "outputs": [
    {
     "name": "stdout",
     "output_type": "stream",
     "text": [
      "[[1 2]\n",
      " [4 8]]\n"
     ]
    }
   ],
   "source": [
    "# print(small_board_ndarray)\n",
    "print(small_board_ndarray.reshape(2, 2)) #2*2の配列に変換\n",
    "# print(small_board_ndarray.reshape(2, 2).shape)"
   ]
  },
  {
   "cell_type": "markdown",
   "metadata": {},
   "source": [
    "# 【問題2】n×mマスへの拡張"
   ]
  },
  {
   "cell_type": "code",
   "execution_count": 26,
   "metadata": {
    "scrolled": false
   },
   "outputs": [
    {
     "name": "stdout",
     "output_type": "stream",
     "text": [
      "2\n",
      "(8, 8)\n",
      "8*8マスのチェス盤の小麦の数は\n",
      "[[1.00000000e+00 2.00000000e+00 4.00000000e+00 8.00000000e+00\n",
      "  1.60000000e+01 3.20000000e+01 6.40000000e+01 1.28000000e+02]\n",
      " [2.56000000e+02 5.12000000e+02 1.02400000e+03 2.04800000e+03\n",
      "  4.09600000e+03 8.19200000e+03 1.63840000e+04 3.27680000e+04]\n",
      " [6.55360000e+04 1.31072000e+05 2.62144000e+05 5.24288000e+05\n",
      "  1.04857600e+06 2.09715200e+06 4.19430400e+06 8.38860800e+06]\n",
      " [1.67772160e+07 3.35544320e+07 6.71088640e+07 1.34217728e+08\n",
      "  2.68435456e+08 5.36870912e+08 1.07374182e+09 2.14748365e+09]\n",
      " [4.29496730e+09 8.58993459e+09 1.71798692e+10 3.43597384e+10\n",
      "  6.87194767e+10 1.37438953e+11 2.74877907e+11 5.49755814e+11]\n",
      " [1.09951163e+12 2.19902326e+12 4.39804651e+12 8.79609302e+12\n",
      "  1.75921860e+13 3.51843721e+13 7.03687442e+13 1.40737488e+14]\n",
      " [2.81474977e+14 5.62949953e+14 1.12589991e+15 2.25179981e+15\n",
      "  4.50359963e+15 9.00719925e+15 1.80143985e+16 3.60287970e+16]\n",
      " [7.20575940e+16 1.44115188e+17 2.88230376e+17 5.76460752e+17\n",
      "  1.15292150e+18 2.30584301e+18 4.61168602e+18 9.22337204e+18]]\n"
     ]
    }
   ],
   "source": [
    "#ｎ×ｍマスへの拡張する関数定義\n",
    "\n",
    "def n_m_array(n, m):\n",
    "    \n",
    "    n_m_list = [] # ループ処理した値を格納するリスト\n",
    "    double = 2 #倍率\n",
    "    komugi = 0 #小麦の数\n",
    "    x = n*m #マス目の数\n",
    "    \n",
    "    for i in range(x): #マス目の数x回数でループ処理\n",
    "        komugi = double**i\n",
    "        n_m_list.append(komugi)\n",
    "        \n",
    "    komugi_array = np.array(n_m_list) #リストを配列に変換\n",
    "    n_m_board = komugi_array.reshape(n, m) #n*mの配列に変換\n",
    "    \n",
    "    return n_m_board\n",
    "\n",
    "n = 8\n",
    "m = 8\n",
    "\n",
    "array88 = n_m_array(n, m) #8*8の配列を変数に格納\n",
    "\n",
    "print(\"{}*{}マスのチェス盤の小麦の数は\\n{}\".format(n, m, array88))"
   ]
  },
  {
   "cell_type": "markdown",
   "metadata": {},
   "source": [
    "# 【問題3】小麦の数の合計"
   ]
  },
  {
   "cell_type": "code",
   "execution_count": 10,
   "metadata": {},
   "outputs": [
    {
     "name": "stdout",
     "output_type": "stream",
     "text": [
      "マス目の合計は1.8446744073709552e+19\n",
      "1列目の平均は:9042521604759584.0\n",
      "2列目の平均は:1.808504320951917e+16\n",
      "3列目の平均は:3.617008641903834e+16\n",
      "4列目の平均は:7.234017283807667e+16\n",
      "5列目の平均は:1.4468034567615334e+17\n",
      "6列目の平均は:2.893606913523067e+17\n",
      "7列目の平均は:5.787213827046134e+17\n",
      "8列目の平均は:1.1574427654092268e+18\n"
     ]
    }
   ],
   "source": [
    "# array88 = n_m_array(8, 8) #8*8の配列を変数に格納\n",
    "print(\"マス目の合計は{}\".format(np.sum(n_m_array(8,8))))\n",
    "\n",
    "array_list = np.mean(array88, axis=0).tolist() #配列をリストに変換\n",
    "\n",
    "for i in range(8): #各列ごとの出力をループ処理\n",
    "    print(\"{}列目の平均は:{}\".format(i+1, array_list[i]))\n"
   ]
  },
  {
   "cell_type": "code",
   "execution_count": 11,
   "metadata": {
    "scrolled": true
   },
   "outputs": [
    {
     "data": {
      "image/png": "[encoded data removed]",
      "text/plain": [
       "<Figure size 600x400 with 1 Axes>"
      ]
     },
     "metadata": {
      "needs_background": "light"
     },
     "output_type": "display_data"
    }
   ],
   "source": [
    "#小麦の数の合計をグラフ化\n",
    "\n",
    "import matplotlib.pyplot as plt\n",
    "%matplotlib inline\n",
    "\n",
    "left = np.array([1, 2, 3, 4, 5, 6, 7, 8])\n",
    "\n",
    "plt.figure(dpi=100)\n",
    "plt.xlabel(\"column\")\n",
    "plt.ylabel(\"number\")\n",
    "plt.title(\"number in each column\")\n",
    "plt.bar(left, np.mean(array88, axis=0))\n",
    "plt.show()"
   ]
  },
  {
   "cell_type": "markdown",
   "metadata": {},
   "source": [
    "# 【問題4】小麦の数のヒートマップ"
   ]
  },
  {
   "cell_type": "code",
   "execution_count": 12,
   "metadata": {},
   "outputs": [
    {
     "data": {
      "image/png": "[encoded data removed]",
      "text/plain": [
       "<Figure size 540x360 with 1 Axes>"
      ]
     },
     "metadata": {
      "needs_background": "light"
     },
     "output_type": "display_data"
    }
   ],
   "source": [
    "plt.figure(dpi=90)\n",
    "plt.xlabel(\"column\")\n",
    "plt.ylabel(\"row\")\n",
    "plt.title(\"heatmap\")\n",
    "plt.pcolor(array88)\n",
    "plt.show()"
   ]
  },
  {
   "cell_type": "markdown",
   "metadata": {},
   "source": [
    "# 【問題5】後半は前半の何倍か"
   ]
  },
  {
   "cell_type": "code",
   "execution_count": 13,
   "metadata": {},
   "outputs": [
    {
     "name": "stdout",
     "output_type": "stream",
     "text": [
      "後半にある小麦の数は前半にある小麦の4294967296.0倍\n"
     ]
    }
   ],
   "source": [
    "first_halr = np.sum(array88[0: 4]) #前半にある小麦の数\n",
    "later_half = np.sum(array88[4: ]) #後半にある小麦の数\n",
    "# print(first_halr)\n",
    "# print(later_half)\n",
    "komugi_times = later_half // first_halr #後半の数を前半の数で割る\n",
    "\n",
    "print(\"後半にある小麦の数は前半にある小麦の{}倍\".format(komugi_times))"
   ]
  },
  {
   "cell_type": "markdown",
   "metadata": {},
   "source": [
    "# 【問題6】他の計算方法によるn×mマスへの拡張"
   ]
  },
  {
   "cell_type": "markdown",
   "metadata": {},
   "source": [
    "### 1．np.append()を使ったバージョン"
   ]
  },
  {
   "cell_type": "code",
   "execution_count": 14,
   "metadata": {},
   "outputs": [
    {
     "name": "stdout",
     "output_type": "stream",
     "text": [
      "8×8マスのチェス盤の小麦の数を記した配列は\n",
      "[1.00000000e+00 2.00000000e+00 4.00000000e+00 8.00000000e+00\n",
      " 1.60000000e+01 3.20000000e+01 6.40000000e+01 1.28000000e+02\n",
      " 2.56000000e+02 5.12000000e+02 1.02400000e+03 2.04800000e+03\n",
      " 4.09600000e+03 8.19200000e+03 1.63840000e+04 3.27680000e+04\n",
      " 6.55360000e+04 1.31072000e+05 2.62144000e+05 5.24288000e+05\n",
      " 1.04857600e+06 2.09715200e+06 4.19430400e+06 8.38860800e+06\n",
      " 1.67772160e+07 3.35544320e+07 6.71088640e+07 1.34217728e+08\n",
      " 2.68435456e+08 5.36870912e+08 1.07374182e+09 2.14748365e+09\n",
      " 4.29496730e+09 8.58993459e+09 1.71798692e+10 3.43597384e+10\n",
      " 6.87194767e+10 1.37438953e+11 2.74877907e+11 5.49755814e+11\n",
      " 1.09951163e+12 2.19902326e+12 4.39804651e+12 8.79609302e+12\n",
      " 1.75921860e+13 3.51843721e+13 7.03687442e+13 1.40737488e+14\n",
      " 2.81474977e+14 5.62949953e+14 1.12589991e+15 2.25179981e+15\n",
      " 4.50359963e+15 9.00719925e+15 1.80143985e+16 3.60287970e+16\n",
      " 7.20575940e+16 1.44115188e+17 2.88230376e+17 5.76460752e+17\n",
      " 1.15292150e+18 2.30584301e+18 4.61168602e+18 9.22337204e+18]\n"
     ]
    }
   ],
   "source": [
    "def nm_array_a(n, m):\n",
    "    \n",
    "    x = n*m #ループ回数n*m（マス目の数）\n",
    "    komugi_array = np.array([1]).astype(np.uint64) #1次元要素1の配列 \n",
    "    \n",
    "    for _ in range(x - 1): #ループ処理\n",
    "        komugi_array = np.append(komugi_array, 2*komugi_array[-1])\n",
    "        \n",
    "    return komugi_array\n",
    "\n",
    "n = 8\n",
    "m = 8\n",
    "\n",
    "\n",
    "print(\"{}×{}マスのチェス盤の小麦の数を記した配列は\\n{}\".format(n, m, nm_array_a(8, 8)))"
   ]
  },
  {
   "cell_type": "markdown",
   "metadata": {},
   "source": [
    "### 2．ブロードキャストを使ったバージョン"
   ]
  },
  {
   "cell_type": "code",
   "execution_count": 15,
   "metadata": {},
   "outputs": [
    {
     "name": "stdout",
     "output_type": "stream",
     "text": [
      "8×8マスのチェス盤の小麦の数を記した配列は\n",
      "[1.00000000e+00 2.00000000e+00 4.00000000e+00 8.00000000e+00\n",
      " 1.60000000e+01 3.20000000e+01 6.40000000e+01 1.28000000e+02\n",
      " 2.56000000e+02 5.12000000e+02 1.02400000e+03 2.04800000e+03\n",
      " 4.09600000e+03 8.19200000e+03 1.63840000e+04 3.27680000e+04\n",
      " 6.55360000e+04 1.31072000e+05 2.62144000e+05 5.24288000e+05\n",
      " 1.04857600e+06 2.09715200e+06 4.19430400e+06 8.38860800e+06\n",
      " 1.67772160e+07 3.35544320e+07 6.71088640e+07 1.34217728e+08\n",
      " 2.68435456e+08 5.36870912e+08 1.07374182e+09 2.14748365e+09\n",
      " 4.29496730e+09 8.58993459e+09 1.71798692e+10 3.43597384e+10\n",
      " 6.87194767e+10 1.37438953e+11 2.74877907e+11 5.49755814e+11\n",
      " 1.09951163e+12 2.19902326e+12 4.39804651e+12 8.79609302e+12\n",
      " 1.75921860e+13 3.51843721e+13 7.03687442e+13 1.40737488e+14\n",
      " 2.81474977e+14 5.62949953e+14 1.12589991e+15 2.25179981e+15\n",
      " 4.50359963e+15 9.00719925e+15 1.80143985e+16 3.60287970e+16\n",
      " 7.20575940e+16 1.44115188e+17 2.88230376e+17 5.76460752e+17\n",
      " 1.15292150e+18 2.30584301e+18 4.61168602e+18 9.22337204e+18]\n"
     ]
    }
   ],
   "source": [
    "def nm_array_b(n, m):\n",
    "    \n",
    "    x = n*m # n*m=要素数指定\n",
    "    x_komugi = np.arange(x).astype(np.uint64) #1次元、要素数xの配列を変数に格納\n",
    "    komugi_array_a = 2**x_komugi #2のｘ乗した要素の配列を変数に格納\n",
    "    \n",
    "    return komugi_array_a\n",
    "\n",
    "n = 8\n",
    "m = 8\n",
    "\n",
    "\n",
    "print(\"{}×{}マスのチェス盤の小麦の数を記した配列は\\n{}\".format(n, m, nm_array_a(8, 8)))"
   ]
  },
  {
   "cell_type": "markdown",
   "metadata": {},
   "source": [
    "# 【問題7】計算時間の比較"
   ]
  },
  {
   "cell_type": "markdown",
   "metadata": {},
   "source": [
    "### 1.自作関数バージョン"
   ]
  },
  {
   "cell_type": "code",
   "execution_count": 19,
   "metadata": {},
   "outputs": [
    {
     "name": "stdout",
     "output_type": "stream",
     "text": [
      "31.6 µs ± 259 ns per loop (mean ± std. dev. of 7 runs, 10000 loops each)\n"
     ]
    }
   ],
   "source": [
    "%%timeit\n",
    "\n",
    "def n_m_array(n, m):\n",
    "    \n",
    "    n_m_list = [] # ループ処理した値を格納するリスト\n",
    "    double = 2 #倍率\n",
    "    komugi = 0 #小麦の数\n",
    "    x = n*m #マスの数\n",
    "    \n",
    "    for i in range(x): #ループ処理\n",
    "        komugi = double**i\n",
    "        n_m_list.append(komugi)\n",
    "        \n",
    "    komugi_array = np.array(n_m_list) #リストを配列に変換\n",
    "    n_m_board = komugi_array.reshape(n, m) #n*mの配列に変換\n",
    "    \n",
    "    return n_m_board\n",
    "\n",
    "n = 8\n",
    "m = 8\n",
    "\n",
    "array88 = n_m_array(n, m) #8*8の配列を変数に格納\n",
    "\n"
   ]
  },
  {
   "cell_type": "markdown",
   "metadata": {},
   "source": [
    "### 2.np.append()を使ったバージョン"
   ]
  },
  {
   "cell_type": "code",
   "execution_count": 20,
   "metadata": {},
   "outputs": [
    {
     "name": "stdout",
     "output_type": "stream",
     "text": [
      "49.8 ns ± 1.25 ns per loop (mean ± std. dev. of 7 runs, 10000000 loops each)\n"
     ]
    }
   ],
   "source": [
    "%%timeit\n",
    "def nm_array_a(n, m):\n",
    "    x = n*m #n*mマス\n",
    "    komugi_array = np.array([1]).astype(np.uint64) #1次元要素1の配列 \n",
    "    for _ in range(x - 1): #ループ処理\n",
    "        komugi_array = np.append(komugi_array, 2*komugi_array[-1])\n",
    "        \n",
    "    return komugi_array\n",
    "\n",
    "n = 8\n",
    "m = 8\n"
   ]
  },
  {
   "cell_type": "markdown",
   "metadata": {},
   "source": [
    "### 3.ブロードキャストを使ったバージョン"
   ]
  },
  {
   "cell_type": "code",
   "execution_count": 21,
   "metadata": {},
   "outputs": [
    {
     "name": "stdout",
     "output_type": "stream",
     "text": [
      "51 ns ± 1.07 ns per loop (mean ± std. dev. of 7 runs, 10000000 loops each)\n"
     ]
    }
   ],
   "source": [
    "%%timeit\n",
    "\n",
    "def nm_array_b(n, m):\n",
    "    \n",
    "    x = n*m #n*mマス\n",
    "    first_komugi = np.arange(x).astype(np.uint64) #1次元要素1の配列を変数に格納\n",
    "    komugi_array_a = 2**first_komugi #2倍した配列を変数に格納\n",
    "    \n",
    "    return komugi_array_a\n",
    "\n",
    "n = 8\n",
    "m = 8\n"
   ]
  },
  {
   "cell_type": "markdown",
   "metadata": {},
   "source": [
    "### 計算結果を比較と考察。"
   ]
  },
  {
   "cell_type": "markdown",
   "metadata": {},
   "source": [
    "　計測スピードだけだと、自作関数が一番早く、 ブロードキャストを使用した場合とappend（for）を使用した場合ではあまり差がなかった。  \n",
    " \n",
    "ただ、標準偏差を見ると自作関数の計測結果はデータのバラツキが大きく、ブロードキャストとappendを使用した場合の計測結果はデータのバラツキが少なかった。  \n",
    " \n",
    " 自作関数は、出力する度に計算速度の結果が変わり易く、ブロードキャストとappendを使用した場合は計算速度の結果はあまり変わらない。"
   ]
  }
 ],
 "metadata": {
  "kernelspec": {
   "display_name": "Python 3",
   "language": "python",
   "name": "python3"
  },
  "language_info": {
   "codemirror_mode": {
    "name": "ipython",
    "version": 3
   },
   "file_extension": ".py",
   "mimetype": "text/x-python",
   "name": "python",
   "nbconvert_exporter": "python",
   "pygments_lexer": "ipython3",
   "version": "3.7.3"
  }
 },
 "nbformat": 4,
 "nbformat_minor": 2
}
