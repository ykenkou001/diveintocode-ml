{
 "cells": [
  {
   "cell_type": "markdown",
   "metadata": {},
   "source": [
    "# 【課題】統計基礎用語の説明"
   ]
  },
  {
   "cell_type": "markdown",
   "metadata": {},
   "source": [
    "### 1. 標準偏差について、分散との違いや関係性、どんな時に使う指標なのかをお答えください。  \n",
    "### 2. 共分散行列について述べてください。  \n",
    "### . 1次元の正規分布と多次元の正規分布について述べてください。特にどういう時に使うのかについてお答えください。"
   ]
  },
  {
   "cell_type": "markdown",
   "metadata": {},
   "source": [
    "**1.** **分散**、**標準偏差**ともにあるデータ集合のばらつきの大きさ（度合）を知りたいときに使う指標（数値）。  \n",
    "データ集合の平均値を求め、各データの値と平均値の差を**偏差**と言い、偏差を2乗したものを合計しその値をデータ数でわったものを**分散**と言う。  \n",
    "また、分散の平方根をとったものを**標準偏差**と言う。**標準偏差**は、**分散**では値を2乗しており、元のデータの数値と単位が揃わないので単位を揃え、扱いやすくするために平方根をとる。  \n",
    " "
   ]
  },
  {
   "cell_type": "markdown",
   "metadata": {},
   "source": [
    "**2.** **共分散行列**とは：**データの散らばり具合や相関という情報を集約したもの（行列）。**複数の**分散**がどのような**相関**を持つかを求めることができる。対角成分には**分散**が並び、非対角成分には**共分散**が並ぶ。\n"
   ]
  },
  {
   "cell_type": "markdown",
   "metadata": {},
   "source": [
    "**2.** "
   ]
  }
 ],
 "metadata": {
  "kernelspec": {
   "display_name": "Python 3",
   "language": "python",
   "name": "python3"
  },
  "language_info": {
   "codemirror_mode": {
    "name": "ipython",
    "version": 3
   },
   "file_extension": ".py",
   "mimetype": "text/x-python",
   "name": "python",
   "nbconvert_exporter": "python",
   "pygments_lexer": "ipython3",
   "version": "3.7.3"
  }
 },
 "nbformat": 4,
 "nbformat_minor": 2
}
