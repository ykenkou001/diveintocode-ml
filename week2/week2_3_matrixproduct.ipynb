{
 "cells": [
  {
   "cell_type": "code",
   "execution_count": 1,
   "metadata": {},
   "outputs": [],
   "source": [
    "import numpy as np\n",
    "\n",
    "a_ndarray = np.array([[-1, 2, 3], [4, -5, 6], [7, 8, -9]])\n",
    "b_ndarray = np.array([[0, 2, 1], [0, 2, -8], [2, 9, -1]])"
   ]
  },
  {
   "cell_type": "code",
   "execution_count": 2,
   "metadata": {},
   "outputs": [
    {
     "name": "stdout",
     "output_type": "stream",
     "text": [
      "[[  6  29 -20]\n",
      " [ 12  52  38]\n",
      " [-18 -51 -48]]\n"
     ]
    }
   ],
   "source": [
    "print(np.dot(a_ndarray, b_ndarray))"
   ]
  },
  {
   "cell_type": "markdown",
   "metadata": {},
   "source": [
    "# 【問題1】行列積を手計算する"
   ]
  },
  {
   "cell_type": "markdown",
   "metadata": {},
   "source": [
    "#### [ [ (-1* 0)+(2* 0)+(3* 2), (-1* 2)+(2* 2)+(3* 9), (-1* 1)+(2* -8)+(3* -1) ],  \n",
    "#### [ (4* 0)+(-5* 0)+(6* 2), (4* 2)+(-5* 2)+(6* 9), (4* 1)+(-5* -8)+(6* -1) ],  \n",
    "#### [ (7* 0)+(8* 0)+(-9* 2), (7* 2)+(8* 2)+(-9* 9), (7* 1)+(8* -8)+(-9* -1) ] ]  \n",
    "#### =[ [  6&nbsp;&emsp;29&emsp;  -20]  \n",
    "#### &emsp;[ 12&emsp;52&emsp;  38]  \n",
    "#### &emsp;[-18&nbsp;  -51&emsp;  -48]]"
   ]
  },
  {
   "cell_type": "markdown",
   "metadata": {},
   "source": [
    "# 【問題2】NumPyの関数による計算\n"
   ]
  },
  {
   "cell_type": "code",
   "execution_count": 3,
   "metadata": {},
   "outputs": [
    {
     "name": "stdout",
     "output_type": "stream",
     "text": [
      "[[  6  29 -20]\n",
      " [ 12  52  38]\n",
      " [-18 -51 -48]]\n",
      "[[  6  29 -20]\n",
      " [ 12  52  38]\n",
      " [-18 -51 -48]]\n",
      "[[  6  29 -20]\n",
      " [ 12  52  38]\n",
      " [-18 -51 -48]]\n"
     ]
    }
   ],
   "source": [
    "print(np.dot(a_ndarray, b_ndarray)) # np.dot()の場合\n",
    "\n",
    "print(np.matmul(a_ndarray, b_ndarray)) # np.matmul()の場合\n",
    "\n",
    "print(a_ndarray@ b_ndarray) # の場合"
   ]
  },
  {
   "cell_type": "markdown",
   "metadata": {},
   "source": [
    "# 【問題3】ある要素の計算を実装"
   ]
  },
  {
   "cell_type": "code",
   "execution_count": 4,
   "metadata": {},
   "outputs": [
    {
     "name": "stdout",
     "output_type": "stream",
     "text": [
      "行列Aの0行目と行列Bの0列目の積は: 6\n"
     ]
    }
   ],
   "source": [
    "a_ndarray = np.array([[-1, 2, 3], [4, -5, 6], [7, 8, -9]]) # 行列A\n",
    "b_ndarray = np.array([[0, 2, 1], [0, 2, -8], [2, 9, -1]]) # 行列B\n",
    "\n",
    "line_column = a_ndarray[0,:]* b_ndarray[:, 0] # 行列Aの0行目と行列Bの０列目の積\n",
    "\n",
    "print(\"行列Aの0行目と行列Bの0列目の積は: {}\".format(sum(line_column)))"
   ]
  },
  {
   "cell_type": "markdown",
   "metadata": {},
   "source": [
    "# 【問題4】行列積を行う関数の作成"
   ]
  },
  {
   "cell_type": "code",
   "execution_count": 11,
   "metadata": {},
   "outputs": [
    {
     "name": "stdout",
     "output_type": "stream",
     "text": [
      "A[0, :]*B[:, 0]は\n",
      "[  6.  29. -20.]\n"
     ]
    }
   ],
   "source": [
    "# A[a, :]* B[:, j]を定義する関数\n",
    "\n",
    "def line_column(a): #行列Aのa行目\n",
    "    \n",
    "    n = A.shape #行列Aのサイズ\n",
    "    m = B.shape #行列Bのサイズ\n",
    "    l = n[1] #行列Aの列数=行列Bの行数\n",
    "    result_0 = np.array([]) # 行列Aのi行目と行列Bのj列目の積を格納\n",
    "\n",
    "    for i in range(l):\n",
    "        t = A[a, :]* B[:, i] # A[a, :]*B[:, i]を変数に格納\n",
    "        w = np.sum(t) # tの総和\n",
    "        result_0 = np.append(result_0, w) # wをresultに追加\n",
    "    \n",
    "    return result_0\n",
    "\n",
    "A = a_ndarray\n",
    "B = b_ndarray\n",
    "\n",
    "print(\"A[0, :]*B[:, 0]は\\n{}\".format(line_column(0)))"
   ]
  },
  {
   "cell_type": "code",
   "execution_count": 14,
   "metadata": {},
   "outputs": [
    {
     "name": "stdout",
     "output_type": "stream",
     "text": [
      "[[  6.  29. -20.]\n",
      " [ 12.  52.  38.]\n",
      " [-18. -51. -48.]]\n"
     ]
    }
   ],
   "source": [
    "# 行列AとBを引数に受け取り、行列積を返す関数を定義する。\n",
    "\n",
    "def matrix_product(A, B):\n",
    "    \n",
    "    n = A.shape #行列Aのサイズ\n",
    "    m = B.shape #行列Bのサイズ\n",
    "    l = n[1] #行列Aの列（＝行列Bの行数）\n",
    "    k = m[0] #行列Bの行数\n",
    "    result = np.array([]) # 行列Aのi行目と行列Bのj列目の積を格納\n",
    "    sum_result = np.array([]) # 各要素を格納する配列\n",
    "    \n",
    "    \n",
    "    if l != k: #問題５の解答（if文によって条件分岐した）\n",
    "        print(\"Aの列数とBの行数が等しくないので計算できない。\")\n",
    "        \n",
    "    else:\n",
    "        for j in range(l):\n",
    "            nm = line_column(j) # 関数line_column()を変数に格納し、ループ処理する\n",
    "            sum_result = np.append(sum_result, nm)\n",
    "\n",
    "        last_result = sum_result.reshape([n[0], m[1]]) # l*kの配列に変換\n",
    "    \n",
    "    \n",
    "        return last_result\n",
    "A = a_ndarray\n",
    "B = b_ndarray\n",
    "\n",
    "print(matrix_product(A, B))"
   ]
  },
  {
   "cell_type": "markdown",
   "metadata": {},
   "source": [
    "# 【問題5】計算が定義されない入力を判定する"
   ]
  },
  {
   "cell_type": "code",
   "execution_count": 1,
   "metadata": {},
   "outputs": [
    {
     "ename": "NameError",
     "evalue": "name 'a_ndarray' is not defined",
     "output_type": "error",
     "traceback": [
      "\u001b[1;31m---------------------------------------------------------------------------\u001b[0m",
      "\u001b[1;31mNameError\u001b[0m                                 Traceback (most recent call last)",
      "\u001b[1;32m<ipython-input-1-0929061495d8>\u001b[0m in \u001b[0;36m<module>\u001b[1;34m\u001b[0m\n\u001b[1;32m----> 1\u001b[1;33m \u001b[0mA\u001b[0m \u001b[1;33m=\u001b[0m \u001b[0ma_ndarray\u001b[0m \u001b[1;31m#行列A\u001b[0m\u001b[1;33m\u001b[0m\u001b[1;33m\u001b[0m\u001b[0m\n\u001b[0m\u001b[0;32m      2\u001b[0m \u001b[0mB\u001b[0m \u001b[1;33m=\u001b[0m \u001b[0mb_ndarray\u001b[0m \u001b[1;31m#行列B\u001b[0m\u001b[1;33m\u001b[0m\u001b[1;33m\u001b[0m\u001b[0m\n\u001b[0;32m      3\u001b[0m \u001b[0md_ndarray\u001b[0m \u001b[1;33m=\u001b[0m \u001b[0mnp\u001b[0m\u001b[1;33m.\u001b[0m\u001b[0marray\u001b[0m\u001b[1;33m(\u001b[0m\u001b[1;33m[\u001b[0m\u001b[1;33m[\u001b[0m\u001b[1;33m-\u001b[0m\u001b[1;36m1\u001b[0m\u001b[1;33m,\u001b[0m \u001b[1;36m2\u001b[0m\u001b[1;33m,\u001b[0m \u001b[1;36m3\u001b[0m\u001b[1;33m]\u001b[0m\u001b[1;33m,\u001b[0m \u001b[1;33m[\u001b[0m\u001b[1;36m4\u001b[0m\u001b[1;33m,\u001b[0m \u001b[1;33m-\u001b[0m\u001b[1;36m5\u001b[0m\u001b[1;33m,\u001b[0m \u001b[1;36m6\u001b[0m\u001b[1;33m]\u001b[0m\u001b[1;33m]\u001b[0m\u001b[1;33m)\u001b[0m\u001b[1;33m\u001b[0m\u001b[1;33m\u001b[0m\u001b[0m\n\u001b[0;32m      4\u001b[0m \u001b[0me_ndarray\u001b[0m \u001b[1;33m=\u001b[0m \u001b[0mnp\u001b[0m\u001b[1;33m.\u001b[0m\u001b[0marray\u001b[0m\u001b[1;33m(\u001b[0m\u001b[1;33m[\u001b[0m\u001b[1;33m[\u001b[0m\u001b[1;33m-\u001b[0m\u001b[1;36m9\u001b[0m\u001b[1;33m,\u001b[0m \u001b[1;36m8\u001b[0m\u001b[1;33m,\u001b[0m \u001b[1;36m7\u001b[0m\u001b[1;33m]\u001b[0m\u001b[1;33m,\u001b[0m \u001b[1;33m[\u001b[0m\u001b[1;36m6\u001b[0m\u001b[1;33m,\u001b[0m \u001b[1;33m-\u001b[0m\u001b[1;36m5\u001b[0m\u001b[1;33m,\u001b[0m \u001b[1;36m4\u001b[0m\u001b[1;33m]\u001b[0m\u001b[1;33m]\u001b[0m\u001b[1;33m)\u001b[0m\u001b[1;33m\u001b[0m\u001b[1;33m\u001b[0m\u001b[0m\n\u001b[0;32m      5\u001b[0m \u001b[1;33m\u001b[0m\u001b[0m\n",
      "\u001b[1;31mNameError\u001b[0m: name 'a_ndarray' is not defined"
     ]
    }
   ],
   "source": [
    "A = a_ndarray #行列A\n",
    "B = b_ndarray #行列B\n",
    "d_ndarray = np.array([[-1, 2, 3], [4, -5, 6]])\n",
    "e_ndarray = np.array([[-9, 8, 7], [6, -5, 4]])\n",
    "\n",
    "D = d_ndarray\n",
    "E = e_ndarray\n",
    "matrix_product(D, E)\n",
    "print(matrix_product(A, B))"
   ]
  },
  {
   "cell_type": "markdown",
   "metadata": {},
   "source": [
    "# 【問題6】転置"
   ]
  },
  {
   "cell_type": "code",
   "execution_count": null,
   "metadata": {},
   "outputs": [],
   "source": [
    "d_ndarray = np.array([[-1, 2, 3], [4, -5, 6]])\n",
    "e_ndarray = np.array([[-9, 8, 7], [6, -5, 4]])\n",
    "\n",
    "D = d_ndarray\n",
    "E = e_ndarray\n",
    "\n",
    "print(np.matmul(D, E))"
   ]
  },
  {
   "cell_type": "code",
   "execution_count": null,
   "metadata": {},
   "outputs": [],
   "source": [
    "print(\".Tバージョン: \\n{}\".format(np.matmul(D, E.T)))\n",
    "print(\"np.transpose()バージョン: \\n{}\".format(np.matmul(D, np.transpose(E))))"
   ]
  }
 ],
 "metadata": {
  "kernelspec": {
   "display_name": "Python 3",
   "language": "python",
   "name": "python3"
  },
  "language_info": {
   "codemirror_mode": {
    "name": "ipython",
    "version": 3
   },
   "file_extension": ".py",
   "mimetype": "text/x-python",
   "name": "python",
   "nbconvert_exporter": "python",
   "pygments_lexer": "ipython3",
   "version": "3.7.3"
  }
 },
 "nbformat": 4,
 "nbformat_minor": 2
}
