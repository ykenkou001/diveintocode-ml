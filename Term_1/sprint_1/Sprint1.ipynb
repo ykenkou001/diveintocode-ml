{
 "cells": [
  {
   "cell_type": "markdown",
   "metadata": {},
   "source": [
    "# Sprint課題 機械学習フロー"
   ]
  },
  {
   "cell_type": "code",
   "execution_count": 1,
   "metadata": {
    "ExecuteTime": {
     "end_time": "2019-10-25T09:01:24.782154Z",
     "start_time": "2019-10-25T09:01:21.617093Z"
    }
   },
   "outputs": [],
   "source": [
    "import statistics\n",
    "\n",
    "import numpy as np\n",
    "import pandas as pd\n",
    "from sklearn.ensemble import RandomForestClassifier\n",
    "from sklearn.metrics import (accuracy_score, auc, confusion_matrix, f1_score,\n",
    "                             precision_score, recall_score, roc_curve)\n",
    "from sklearn.model_selection import (GridSearchCV, KFold, ShuffleSplit,\n",
    "                                     StratifiedKFold, cross_val_score,\n",
    "                                     train_test_split)"
   ]
  },
  {
   "cell_type": "markdown",
   "metadata": {},
   "source": [
    "### データ前処理"
   ]
  },
  {
   "cell_type": "code",
   "execution_count": 2,
   "metadata": {
    "ExecuteTime": {
     "end_time": "2019-10-25T09:01:27.665442Z",
     "start_time": "2019-10-25T09:01:24.783154Z"
    }
   },
   "outputs": [],
   "source": [
    "test_data_raw = pd.read_csv(\"application_test.csv\")\n",
    "train_data_raw = pd.read_csv(\"application_train.csv\")"
   ]
  },
  {
   "cell_type": "code",
   "execution_count": 4,
   "metadata": {
    "ExecuteTime": {
     "end_time": "2019-10-25T09:02:18.166149Z",
     "start_time": "2019-10-25T09:02:18.053450Z"
    }
   },
   "outputs": [],
   "source": [
    "train_data = train_data_raw.copy(deep=True)\n",
    "test_data = test_data_raw.copy(deep=True)"
   ]
  },
  {
   "cell_type": "code",
   "execution_count": 5,
   "metadata": {
    "ExecuteTime": {
     "end_time": "2019-10-25T09:02:18.737619Z",
     "start_time": "2019-10-25T09:02:18.215018Z"
    }
   },
   "outputs": [],
   "source": [
    "#欠損値がある列を削除\n",
    "droped_train = train_data.dropna(axis=1)\n",
    "droped_test = test_data.dropna(axis=1)"
   ]
  },
  {
   "cell_type": "code",
   "execution_count": 6,
   "metadata": {
    "ExecuteTime": {
     "end_time": "2019-10-25T09:02:21.724954Z",
     "start_time": "2019-10-25T09:02:21.716974Z"
    }
   },
   "outputs": [],
   "source": [
    "#train, testのデータで共通する列を抜きだす\n",
    "drop_column_intersection = droped_train.columns & droped_test.columns"
   ]
  },
  {
   "cell_type": "code",
   "execution_count": 7,
   "metadata": {
    "ExecuteTime": {
     "end_time": "2019-10-25T09:02:21.831666Z",
     "start_time": "2019-10-25T09:02:21.727946Z"
    }
   },
   "outputs": [],
   "source": [
    "droped_train_inter = train_data[drop_column_intersection]\n",
    "droped_train_inter.insert(1, \"TARGET\", train_data.loc[:, \"TARGET\"])\n",
    "droped_test_inter = test_data[drop_column_intersection]"
   ]
  },
  {
   "cell_type": "code",
   "execution_count": 8,
   "metadata": {
    "ExecuteTime": {
     "end_time": "2019-10-25T09:02:22.020162Z",
     "start_time": "2019-10-25T09:02:21.833661Z"
    }
   },
   "outputs": [],
   "source": [
    "#機械学習させる上で文字列を使えないので、objectタイプを削除する\n",
    "on_train = droped_train_inter.select_dtypes(include=\"number\")\n",
    "on_test = droped_test_inter.select_dtypes(include=\"number\")"
   ]
  },
  {
   "cell_type": "code",
   "execution_count": 9,
   "metadata": {
    "ExecuteTime": {
     "end_time": "2019-10-25T09:02:22.081997Z",
     "start_time": "2019-10-25T09:02:22.022156Z"
    }
   },
   "outputs": [],
   "source": [
    "#機械学習用のtrain_test_splitのために説明変数と目的変数を分ける\n",
    "X = on_train.drop(columns=\"TARGET\")\n",
    "y = on_train[\"TARGET\"]"
   ]
  },
  {
   "cell_type": "code",
   "execution_count": 10,
   "metadata": {
    "ExecuteTime": {
     "end_time": "2019-10-25T09:02:22.249552Z",
     "start_time": "2019-10-25T09:02:22.083991Z"
    }
   },
   "outputs": [],
   "source": [
    "X_train, X_test, y_train, y_test = train_test_split(X, y, test_size=0.25, random_state=0)"
   ]
  },
  {
   "cell_type": "code",
   "execution_count": 11,
   "metadata": {
    "ExecuteTime": {
     "end_time": "2019-10-25T09:02:27.540978Z",
     "start_time": "2019-10-25T09:02:22.277474Z"
    }
   },
   "outputs": [
    {
     "data": {
      "text/plain": [
       "RandomForestClassifier(bootstrap=True, class_weight=None, criterion='gini',\n",
       "                       max_depth=None, max_features='auto', max_leaf_nodes=None,\n",
       "                       min_impurity_decrease=0.0, min_impurity_split=None,\n",
       "                       min_samples_leaf=1, min_samples_split=2,\n",
       "                       min_weight_fraction_leaf=0.0, n_estimators=10,\n",
       "                       n_jobs=None, oob_score=False, random_state=None,\n",
       "                       verbose=0, warm_start=False)"
      ]
     },
     "execution_count": 11,
     "metadata": {},
     "output_type": "execute_result"
    }
   ],
   "source": [
    "RFC = RandomForestClassifier(n_estimators=10)\n",
    "RFC.fit(X_train, y_train)"
   ]
  },
  {
   "cell_type": "code",
   "execution_count": 12,
   "metadata": {
    "ExecuteTime": {
     "end_time": "2019-10-25T09:02:27.930926Z",
     "start_time": "2019-10-25T09:02:27.541925Z"
    }
   },
   "outputs": [
    {
     "name": "stdout",
     "output_type": "stream",
     "text": [
      "accuracy： 0.9199901142069252\n",
      "recall: 0.0011492365785585289\n",
      "precision: 0.0945945945945946\n",
      "f1: 0.00227088402270884\n",
      "matrix:\n",
      " [[70720    67]\n",
      " [ 6084     7]]\n",
      "--------------------\n",
      "auc: 0.5001013675511494\n"
     ]
    }
   ],
   "source": [
    "y_pred_1 = RFC.predict(X_test)\n",
    "fpr_1, tpr_1, thresholds_1 = roc_curve(y_test, y_pred_1)\n",
    "auc_1 = auc(fpr_1, tpr_1)\n",
    "print(\"accuracy：\", accuracy_score(y_test, y_pred_1))\n",
    "print(\"recall:\", recall_score(y_test, y_pred_1))\n",
    "print(\"precision:\", precision_score(y_test, y_pred_1))\n",
    "print(\"f1:\",f1_score(y_test, y_pred_1))\n",
    "print(\"matrix:\\n\", confusion_matrix(y_test, y_pred_1))\n",
    "print(\"-\"*20)\n",
    "print(\"auc:\",auc_1)"
   ]
  },
  {
   "cell_type": "code",
   "execution_count": 13,
   "metadata": {
    "ExecuteTime": {
     "end_time": "2019-10-25T09:02:27.947884Z",
     "start_time": "2019-10-25T09:02:27.932879Z"
    }
   },
   "outputs": [
    {
     "name": "stdout",
     "output_type": "stream",
     "text": [
      "重要度が高い特徴量順:\n",
      "[(0.12, 'DAYS_BIRTH'), (0.11, 'SK_ID_CURR'), (0.11, 'DAYS_REGISTRATION'), (0.11, 'DAYS_ID_PUBLISH'), (0.1, 'DAYS_EMPLOYED'), (0.1, 'AMT_CREDIT'), (0.08, 'REGION_POPULATION_RELATIVE'), (0.08, 'AMT_INCOME_TOTAL'), (0.07, 'HOUR_APPR_PROCESS_START'), (0.02, 'CNT_CHILDREN'), (0.01, 'REG_CITY_NOT_WORK_CITY'), (0.01, 'REGION_RATING_CLIENT_W_CITY'), (0.01, 'REGION_RATING_CLIENT'), (0.01, 'LIVE_CITY_NOT_WORK_CITY'), (0.01, 'FLAG_WORK_PHONE'), (0.01, 'FLAG_PHONE'), (0.01, 'FLAG_EMAIL'), (0.01, 'FLAG_DOCUMENT_3'), (0.0, 'REG_REGION_NOT_WORK_REGION'), (0.0, 'REG_REGION_NOT_LIVE_REGION'), (0.0, 'REG_CITY_NOT_LIVE_CITY'), (0.0, 'LIVE_REGION_NOT_WORK_REGION'), (0.0, 'FLAG_MOBIL'), (0.0, 'FLAG_EMP_PHONE'), (0.0, 'FLAG_DOCUMENT_9'), (0.0, 'FLAG_DOCUMENT_8'), (0.0, 'FLAG_DOCUMENT_7'), (0.0, 'FLAG_DOCUMENT_6'), (0.0, 'FLAG_DOCUMENT_5'), (0.0, 'FLAG_DOCUMENT_4'), (0.0, 'FLAG_DOCUMENT_21'), (0.0, 'FLAG_DOCUMENT_20'), (0.0, 'FLAG_DOCUMENT_2'), (0.0, 'FLAG_DOCUMENT_19'), (0.0, 'FLAG_DOCUMENT_18'), (0.0, 'FLAG_DOCUMENT_17'), (0.0, 'FLAG_DOCUMENT_16'), (0.0, 'FLAG_DOCUMENT_15'), (0.0, 'FLAG_DOCUMENT_14'), (0.0, 'FLAG_DOCUMENT_13'), (0.0, 'FLAG_DOCUMENT_12'), (0.0, 'FLAG_DOCUMENT_11'), (0.0, 'FLAG_DOCUMENT_10'), (0.0, 'FLAG_CONT_MOBILE')]\n"
     ]
    }
   ],
   "source": [
    "features = X_train.columns\n",
    "importances = RFC.feature_importances_\n",
    "\n",
    "print(\"重要度が高い特徴量順:\")\n",
    "print(sorted(zip(map(lambda x: round(x, 2), RFC.feature_importances_), features), \n",
    "             reverse=True))"
   ]
  },
  {
   "cell_type": "code",
   "execution_count": 14,
   "metadata": {
    "ExecuteTime": {
     "end_time": "2019-10-25T09:02:27.964808Z",
     "start_time": "2019-10-25T09:02:27.949834Z"
    }
   },
   "outputs": [],
   "source": [
    "importance_feature = [\"DAYS_REGISTRATION\", \"DAYS_BIRTH\", \"DAYS_ID_PUBLISH\", \"DAYS_EMPLOYED\", \"AMT_CREDIT\"]\n",
    "X_5 = on_train[importance_feature]\n",
    "y = on_train[\"TARGET\"]\n",
    "test_data_5 = on_test[importance_feature]"
   ]
  },
  {
   "cell_type": "markdown",
   "metadata": {},
   "source": [
    "# 【問題1】クロスバリデーション\n",
    "事前学習期間では検証用データをはじめに分割しておき、それに対して指標値を計算することで検証を行っていました。（ホールドアウト法）しかし、分割の仕方により精度は変化します。実践的には クロスバリデーション（交差検証） を行います。分割を複数回行い、それぞれに対して学習と検証を行う方法です。複数回の分割のためにscikit-learnにはKFoldクラスが用意されています。  \n",
    "\n",
    "事前学習期間の課題で作成したベースラインモデルに対してKFoldクラスによるクロスバリデーションを行うコードを作成し実行してください。"
   ]
  },
  {
   "cell_type": "code",
   "execution_count": 15,
   "metadata": {
    "ExecuteTime": {
     "end_time": "2019-10-25T09:03:58.956697Z",
     "start_time": "2019-10-25T09:03:58.865985Z"
    }
   },
   "outputs": [
    {
     "name": "stdout",
     "output_type": "stream",
     "text": [
      "TRAIN: [101986 101997 102002 ... 307508 307509 307510] TEST: [101986 101997 102002 ... 307508 307509 307510]\n",
      "TRAIN: [     0      1      2 ... 307508 307509 307510] TEST: [     0      1      2 ... 307508 307509 307510]\n",
      "TRAIN: [     0      1      2 ... 205109 205110 205111] TEST: [     0      1      2 ... 205109 205110 205111]\n"
     ]
    }
   ],
   "source": [
    "SKF = StratifiedKFold(n_splits=3)\n",
    "for train_index, test_index in SKF.split(X_5, y):\n",
    "    print(\"TRAIN:\", train_index, \"TEST:\", train_index)"
   ]
  },
  {
   "cell_type": "code",
   "execution_count": 16,
   "metadata": {
    "ExecuteTime": {
     "end_time": "2019-10-25T09:04:15.549283Z",
     "start_time": "2019-10-25T09:03:59.844304Z"
    }
   },
   "outputs": [
    {
     "data": {
      "text/plain": [
       "0.5453627636966831"
      ]
     },
     "execution_count": 16,
     "metadata": {},
     "output_type": "execute_result"
    }
   ],
   "source": [
    "result_1 = cross_val_score(RFC ,X_5 ,y , cv = SKF , scoring = \"roc_auc\")\n",
    "result_1.mean()"
   ]
  },
  {
   "cell_type": "markdown",
   "metadata": {},
   "source": [
    "# 【問題2】グリッドサーチ\n",
    "これまで分類器のパラメータには触れず、デフォルトの設定を使用していました。パラメータの詳細は今後のSprintで学んでいくことになります。機械学習の前提として、パラメータは状況に応じて最適なものを選ぶ必要があります。最適なパラメータを探していくことを パラメータチューニング と呼びます。パラメータチューニングをある程度自動化する単純な方法としては グリッドサーチ があります。  \n",
    "scikit-learnのGridSearchCVを使い、グリッドサーチを行うコードを作成してください。そして、ベースラインモデルに対して何らかしらのパラメータチューニングを行なってください。どのパラメータをチューニングするかは、使用した手法の公式ドキュメントを参考にしてください。  \n",
    "\n",
    "sklearn.model_selection.GridSearchCV — scikit-learn 0.21.3 documentation  \n",
    "\n",
    "GridSearchCVクラスには引数としてモデル、探索範囲、さらにクロスバリデーションを何分割で行うかを与えます。クロスバリデーションの機能も含まれているため、これを使用する場合はKFoldクラスを利用する必要はありません。"
   ]
  },
  {
   "cell_type": "code",
   "execution_count": 17,
   "metadata": {
    "ExecuteTime": {
     "end_time": "2019-10-25T09:05:02.466618Z",
     "start_time": "2019-10-25T09:05:02.460674Z"
    }
   },
   "outputs": [],
   "source": [
    "grid_param = {\"n_estimators\": [10, 20, 30],\n",
    "                          \"criterion\": [\"gini\", \"entropy\"]}\n",
    "gscv_1 = GridSearchCV(RFC , param_grid=grid_param , cv=3 , scoring=\"roc_auc\", return_train_score=True)"
   ]
  },
  {
   "cell_type": "code",
   "execution_count": 19,
   "metadata": {
    "ExecuteTime": {
     "end_time": "2019-10-25T09:12:56.555020Z",
     "start_time": "2019-10-25T09:08:04.922206Z"
    }
   },
   "outputs": [
    {
     "data": {
      "text/plain": [
       "GridSearchCV(cv=3, error_score='raise-deprecating',\n",
       "             estimator=RandomForestClassifier(bootstrap=True, class_weight=None,\n",
       "                                              criterion='gini', max_depth=None,\n",
       "                                              max_features='auto',\n",
       "                                              max_leaf_nodes=None,\n",
       "                                              min_impurity_decrease=0.0,\n",
       "                                              min_impurity_split=None,\n",
       "                                              min_samples_leaf=1,\n",
       "                                              min_samples_split=2,\n",
       "                                              min_weight_fraction_leaf=0.0,\n",
       "                                              n_estimators=10, n_jobs=None,\n",
       "                                              oob_score=False,\n",
       "                                              random_state=None, verbose=0,\n",
       "                                              warm_start=False),\n",
       "             iid='warn', n_jobs=None,\n",
       "             param_grid={'criterion': ['gini', 'entropy'],\n",
       "                         'n_estimators': [10, 20, 30]},\n",
       "             pre_dispatch='2*n_jobs', refit=True, return_train_score=True,\n",
       "             scoring='roc_auc', verbose=0)"
      ]
     },
     "execution_count": 19,
     "metadata": {},
     "output_type": "execute_result"
    }
   ],
   "source": [
    "gscv_1.fit(X_5, y)"
   ]
  },
  {
   "cell_type": "code",
   "execution_count": 20,
   "metadata": {
    "ExecuteTime": {
     "end_time": "2019-10-25T09:12:56.567953Z",
     "start_time": "2019-10-25T09:12:56.556005Z"
    }
   },
   "outputs": [],
   "source": [
    "#結果をデータフレームとして保存\n",
    "gscv_result_1 = pd.DataFrame.from_dict(gscv_1.cv_results_)\n",
    "#最も良いパラメータを保存\n",
    "best_params_1 = gscv_1.best_params_\n",
    "#ベストスコアを保存\n",
    "gscv_1.best_score_\n",
    "#ベストスコアを出したモデルを保存\n",
    "best_RFC = gscv_1.best_estimator_"
   ]
  },
  {
   "cell_type": "code",
   "execution_count": 44,
   "metadata": {
    "ExecuteTime": {
     "end_time": "2019-10-25T09:55:30.113242Z",
     "start_time": "2019-10-25T09:55:29.530665Z"
    }
   },
   "outputs": [],
   "source": [
    "y_pred = best_RFC.predict_proba(test_data_5)\n",
    "\n",
    "submit_data_1 = test_data_5.copy(deep=True)\n",
    "\n",
    "submit_data_1.insert(0, \"SK_ID_CURR\", on_test.loc[:, \"SK_ID_CURR\"])\n",
    "\n",
    "submit_data_1.loc[:, \"TARGET\"] = y_pred[:,1]\n",
    "\n",
    "submit_data_1 = submit_data_1.loc[:, [\"SK_ID_CURR\", \"TARGET\"]]\n",
    "\n",
    "submit_data_1.to_csv(\"submit_1.csv\", index=False)"
   ]
  },
  {
   "cell_type": "code",
   "execution_count": 22,
   "metadata": {
    "ExecuteTime": {
     "end_time": "2019-10-25T09:15:26.920205Z",
     "start_time": "2019-10-25T09:15:26.915222Z"
    }
   },
   "outputs": [
    {
     "name": "stdout",
     "output_type": "stream",
     "text": [
      "ローカルのAUC: 0.5695153247438158\n",
      "kaggleに提出した結果の１AUC: 0.56855\n"
     ]
    }
   ],
   "source": [
    "\n",
    "print(\"ローカルのAUC:\", gscv_1.best_score_)\n",
    "print(\"kaggleに提出した結果の１AUC:\", 0.56855)"
   ]
  },
  {
   "cell_type": "markdown",
   "metadata": {},
   "source": [
    "# 【問題3】Kernelからの調査\n",
    "KaggleのKernelから様々なアイデアを見つけ出して、列挙してください。"
   ]
  },
  {
   "cell_type": "markdown",
   "metadata": {},
   "source": [
    "### Improved Model: Random Forest¶\n",
    "To try and beat the poor performance of our baseline, we can update the algorithm.  \n",
    "Let's try using a Random Forest on the same training data to see how that affects performance.   \n",
    "The Random Forest is a much more powerful model especially when we use hundreds of trees.   \n",
    "We will use 100 trees in the random forest.  \n",
    "ランダムフォレストのn-estimators＝100を試しているので、n-estimatorsを変えてみる"
   ]
  },
  {
   "cell_type": "markdown",
   "metadata": {},
   "source": [
    "# 【問題4】高い汎化性能のモデル作成\n",
    "問題3で見つけたアイデアと、独自のアイデアを組み合わせ高い汎化性能のモデル作りを進めてください。\n",
    "\n",
    "その過程として、何を行うことで、クロスバリデーションの結果がどの程度変化したかを表にまとめてください。"
   ]
  },
  {
   "cell_type": "code",
   "execution_count": 23,
   "metadata": {
    "ExecuteTime": {
     "end_time": "2019-10-25T09:18:11.525782Z",
     "start_time": "2019-10-25T09:18:11.520788Z"
    }
   },
   "outputs": [],
   "source": [
    "grid_param_2 = {\"n_estimators\": [10, 100, 300]}\n",
    "gscv_2 = GridSearchCV(RFC , param_grid=grid_param_2 , cv=3 , scoring=\"roc_auc\", return_train_score=True)"
   ]
  },
  {
   "cell_type": "code",
   "execution_count": 24,
   "metadata": {
    "ExecuteTime": {
     "end_time": "2019-10-25T09:34:33.458587Z",
     "start_time": "2019-10-25T09:18:11.527769Z"
    }
   },
   "outputs": [
    {
     "data": {
      "text/plain": [
       "GridSearchCV(cv=3, error_score='raise-deprecating',\n",
       "             estimator=RandomForestClassifier(bootstrap=True, class_weight=None,\n",
       "                                              criterion='gini', max_depth=None,\n",
       "                                              max_features='auto',\n",
       "                                              max_leaf_nodes=None,\n",
       "                                              min_impurity_decrease=0.0,\n",
       "                                              min_impurity_split=None,\n",
       "                                              min_samples_leaf=1,\n",
       "                                              min_samples_split=2,\n",
       "                                              min_weight_fraction_leaf=0.0,\n",
       "                                              n_estimators=10, n_jobs=None,\n",
       "                                              oob_score=False,\n",
       "                                              random_state=None, verbose=0,\n",
       "                                              warm_start=False),\n",
       "             iid='warn', n_jobs=None,\n",
       "             param_grid={'n_estimators': [10, 100, 300]},\n",
       "             pre_dispatch='2*n_jobs', refit=True, return_train_score=True,\n",
       "             scoring='roc_auc', verbose=0)"
      ]
     },
     "execution_count": 24,
     "metadata": {},
     "output_type": "execute_result"
    }
   ],
   "source": [
    "gscv_2.fit(X_5, y)"
   ]
  },
  {
   "cell_type": "code",
   "execution_count": 25,
   "metadata": {
    "ExecuteTime": {
     "end_time": "2019-10-25T09:34:33.473540Z",
     "start_time": "2019-10-25T09:34:33.460601Z"
    }
   },
   "outputs": [],
   "source": [
    "gscv_result_2 = pd.DataFrame.from_dict(gscv_2.cv_results_)\n",
    "\n",
    "best_params_2 = gscv_2.best_params_\n",
    "\n",
    "gscv_2.best_score_\n",
    "\n",
    "best_RFC_2 = gscv_2.best_estimator_"
   ]
  },
  {
   "cell_type": "code",
   "execution_count": 26,
   "metadata": {
    "ExecuteTime": {
     "end_time": "2019-10-25T09:34:37.952867Z",
     "start_time": "2019-10-25T09:34:33.475537Z"
    }
   },
   "outputs": [],
   "source": [
    "y_pred_2 = best_RFC_2.predict_proba(test_data_5)\n",
    "\n",
    "submit_data_2 = test_data_5.copy(deep=True)\n",
    "\n",
    "submit_data_2.insert(0, \"SK_ID_CURR\", on_test.loc[:, \"SK_ID_CURR\"])\n",
    "\n",
    "submit_data_2.loc[:, \"TARGET\"] = y_pred_2[:,1]\n",
    "\n",
    "submit_data_2 = submit_data_2.loc[:, [\"SK_ID_CURR\", \"TARGET\"]]\n",
    "\n",
    "submit_data_2.to_csv(\"submit_2.csv\", index=False)"
   ]
  },
  {
   "cell_type": "code",
   "execution_count": 27,
   "metadata": {
    "ExecuteTime": {
     "end_time": "2019-10-25T09:34:37.958464Z",
     "start_time": "2019-10-25T09:34:37.954474Z"
    }
   },
   "outputs": [
    {
     "name": "stdout",
     "output_type": "stream",
     "text": [
      "ローカルのAUC: 0.5864500613575574\n",
      "kaggleに提出した結果の１AUC: 0.59282\n"
     ]
    }
   ],
   "source": [
    "print(\"ローカルのAUC:\", gscv_2.best_score_)\n",
    "print(\"kaggleに提出した結果の１AUC:\", 0.59282)"
   ]
  },
  {
   "cell_type": "code",
   "execution_count": 28,
   "metadata": {
    "ExecuteTime": {
     "end_time": "2019-10-25T09:34:37.965450Z",
     "start_time": "2019-10-25T09:34:37.959462Z"
    }
   },
   "outputs": [],
   "source": [
    "grid_param_3 ={\"max_depth\":[5, 8, 15],\n",
    "             \"max_leaf_nodes\":[2, None]}\n",
    "gscv_3 = GridSearchCV(RFC , param_grid=grid_param_3 , cv=3 , scoring=\"roc_auc\", return_train_score=True)"
   ]
  },
  {
   "cell_type": "code",
   "execution_count": 29,
   "metadata": {
    "ExecuteTime": {
     "end_time": "2019-10-25T09:35:14.394548Z",
     "start_time": "2019-10-25T09:34:37.967439Z"
    }
   },
   "outputs": [
    {
     "data": {
      "text/plain": [
       "GridSearchCV(cv=3, error_score='raise-deprecating',\n",
       "             estimator=RandomForestClassifier(bootstrap=True, class_weight=None,\n",
       "                                              criterion='gini', max_depth=None,\n",
       "                                              max_features='auto',\n",
       "                                              max_leaf_nodes=None,\n",
       "                                              min_impurity_decrease=0.0,\n",
       "                                              min_impurity_split=None,\n",
       "                                              min_samples_leaf=1,\n",
       "                                              min_samples_split=2,\n",
       "                                              min_weight_fraction_leaf=0.0,\n",
       "                                              n_estimators=10, n_jobs=None,\n",
       "                                              oob_score=False,\n",
       "                                              random_state=None, verbose=0,\n",
       "                                              warm_start=False),\n",
       "             iid='warn', n_jobs=None,\n",
       "             param_grid={'max_depth': [5, 8, 15], 'max_leaf_nodes': [2, None]},\n",
       "             pre_dispatch='2*n_jobs', refit=True, return_train_score=True,\n",
       "             scoring='roc_auc', verbose=0)"
      ]
     },
     "execution_count": 29,
     "metadata": {},
     "output_type": "execute_result"
    }
   ],
   "source": [
    "gscv_3.fit(X_5, y)"
   ]
  },
  {
   "cell_type": "code",
   "execution_count": 30,
   "metadata": {
    "ExecuteTime": {
     "end_time": "2019-10-25T09:35:14.402570Z",
     "start_time": "2019-10-25T09:35:14.395545Z"
    }
   },
   "outputs": [],
   "source": [
    "gscv_result_3 = pd.DataFrame.from_dict(gscv_3.cv_results_)\n",
    "\n",
    "best_params_3 = gscv_3.best_params_\n",
    "\n",
    "gscv_3.best_score_\n",
    "\n",
    "best_RFC_3 = gscv_3.best_estimator_"
   ]
  },
  {
   "cell_type": "code",
   "execution_count": 31,
   "metadata": {
    "ExecuteTime": {
     "end_time": "2019-10-25T09:35:14.625230Z",
     "start_time": "2019-10-25T09:35:14.403524Z"
    }
   },
   "outputs": [],
   "source": [
    "y_pred_3 = best_RFC_3.predict_proba(test_data_5)\n",
    "\n",
    "submit_data_3 = test_data_5.copy(deep=True)\n",
    "\n",
    "submit_data_3.insert(0, \"SK_ID_CURR\", on_test.loc[:, \"SK_ID_CURR\"])\n",
    "\n",
    "submit_data_3.loc[:, \"TARGET\"] = y_pred_3[:,1]\n",
    "\n",
    "submit_data_3 = submit_data_3.loc[:, [\"SK_ID_CURR\", \"TARGET\"]]\n",
    "\n",
    "submit_data_3.to_csv(\"submit_3.csv\", index=False)"
   ]
  },
  {
   "cell_type": "code",
   "execution_count": 32,
   "metadata": {
    "ExecuteTime": {
     "end_time": "2019-10-25T09:35:14.630958Z",
     "start_time": "2019-10-25T09:35:14.626926Z"
    }
   },
   "outputs": [
    {
     "name": "stdout",
     "output_type": "stream",
     "text": [
      "ローカルのAUC: 0.6206595704494309\n",
      "kaggleに提出した結果のAUC: 0.62332\n"
     ]
    }
   ],
   "source": [
    "print(\"ローカルのAUC:\", gscv_3.best_score_)\n",
    "print(\"kaggleに提出した結果のAUC:\", 0.62332)"
   ]
  },
  {
   "cell_type": "markdown",
   "metadata": {},
   "source": [
    "# 【問題5】最終的なモデルの選定\n",
    "最終的にこれは良いというモデルを選び、推定した結果をKaggleに提出してスコアを確認してください。どういったアイデアを取り入れ、どの程度のスコアになったかを記載してください。"
   ]
  },
  {
   "cell_type": "code",
   "execution_count": 33,
   "metadata": {
    "ExecuteTime": {
     "end_time": "2019-10-25T09:35:14.636939Z",
     "start_time": "2019-10-25T09:35:14.632912Z"
    }
   },
   "outputs": [],
   "source": [
    "best_RF = RandomForestClassifier(n_estimators=300, \n",
    "                                criterion=\"gini\",\n",
    "                                max_depth=8,\n",
    "                                 max_leaf_nodes=None)"
   ]
  },
  {
   "cell_type": "code",
   "execution_count": 34,
   "metadata": {
    "ExecuteTime": {
     "end_time": "2019-10-25T09:37:06.479686Z",
     "start_time": "2019-10-25T09:35:14.638895Z"
    }
   },
   "outputs": [
    {
     "data": {
      "text/plain": [
       "RandomForestClassifier(bootstrap=True, class_weight=None, criterion='gini',\n",
       "                       max_depth=8, max_features='auto', max_leaf_nodes=None,\n",
       "                       min_impurity_decrease=0.0, min_impurity_split=None,\n",
       "                       min_samples_leaf=1, min_samples_split=2,\n",
       "                       min_weight_fraction_leaf=0.0, n_estimators=300,\n",
       "                       n_jobs=None, oob_score=False, random_state=None,\n",
       "                       verbose=0, warm_start=False)"
      ]
     },
     "execution_count": 34,
     "metadata": {},
     "output_type": "execute_result"
    }
   ],
   "source": [
    "best_RF.fit(X_5, y)"
   ]
  },
  {
   "cell_type": "code",
   "execution_count": 35,
   "metadata": {
    "ExecuteTime": {
     "end_time": "2019-10-25T09:37:07.882218Z",
     "start_time": "2019-10-25T09:37:06.480647Z"
    }
   },
   "outputs": [],
   "source": [
    "y_pred_best = best_RF.predict_proba(test_data_5)\n",
    "\n",
    "submit_data_best = test_data_5.copy(deep=True)\n",
    "\n",
    "submit_data_best.insert(0, \"SK_ID_CURR\", on_test.loc[:, \"SK_ID_CURR\"])\n",
    "\n",
    "submit_data_best.loc[:, \"TARGET\"] = y_pred_best[:,1]\n",
    "\n",
    "submit_data_best = submit_data_best.loc[:, [\"SK_ID_CURR\", \"TARGET\"]]\n",
    "\n",
    "submit_data_best.to_csv(\"submit_4.csv\", index=False)"
   ]
  },
  {
   "cell_type": "code",
   "execution_count": 36,
   "metadata": {
    "ExecuteTime": {
     "end_time": "2019-10-25T09:40:11.569086Z",
     "start_time": "2019-10-25T09:37:07.883892Z"
    }
   },
   "outputs": [],
   "source": [
    "result_cvs_best_RF = cross_val_score(best_RF ,X_5 ,y , cv = 3 , scoring = \"roc_auc\")"
   ]
  },
  {
   "cell_type": "code",
   "execution_count": 37,
   "metadata": {
    "ExecuteTime": {
     "end_time": "2019-10-25T09:40:11.574098Z",
     "start_time": "2019-10-25T09:40:11.570083Z"
    }
   },
   "outputs": [
    {
     "name": "stdout",
     "output_type": "stream",
     "text": [
      "ローカルのAUC: 0.6257954753575364\n",
      "kaggleに提出した結果のAUC: 0.62931\n"
     ]
    }
   ],
   "source": [
    "print(\"ローカルのAUC:\", result_cvs_best_RF.mean())\n",
    "print(\"kaggleに提出した結果のAUC:\", 0.62931)"
   ]
  },
  {
   "cell_type": "markdown",
   "metadata": {},
   "source": [
    "# まとめ"
   ]
  },
  {
   "cell_type": "code",
   "execution_count": 38,
   "metadata": {
    "ExecuteTime": {
     "end_time": "2019-10-25T09:40:11.591047Z",
     "start_time": "2019-10-25T09:40:11.575069Z"
    }
   },
   "outputs": [],
   "source": [
    "cross_val_result = pd.DataFrame({\"number of features\": [44, 5, 5, 5, 5, 5],\n",
    "                                \"parameters\": [str(RFC.get_params()), str(RFC.get_params()),str(best_RFC.get_params()), \n",
    "                                               str(best_RFC_2.get_params()), str(best_RFC_3.get_params()),str(best_RF.get_params())],\n",
    "                                \"AUC\": [auc_1, result_1.mean(), 0.56855, 0.59282,0.62332, 0.62931]},\n",
    "                                index=[\"Normal RF\", \"Normal RF 5 features\", \"1st GSCV RF\", \"2nd GSCV RF\", \"3rd GSCV RF\", \"Final GSCV RF\"])"
   ]
  },
  {
   "cell_type": "code",
   "execution_count": 39,
   "metadata": {
    "ExecuteTime": {
     "end_time": "2019-10-25T09:40:11.652552Z",
     "start_time": "2019-10-25T09:40:11.597013Z"
    }
   },
   "outputs": [
    {
     "data": {
      "text/html": [
       "<div>\n",
       "<style scoped>\n",
       "    .dataframe tbody tr th:only-of-type {\n",
       "        vertical-align: middle;\n",
       "    }\n",
       "\n",
       "    .dataframe tbody tr th {\n",
       "        vertical-align: top;\n",
       "    }\n",
       "\n",
       "    .dataframe thead th {\n",
       "        text-align: right;\n",
       "    }\n",
       "</style>\n",
       "<table border=\"1\" class=\"dataframe\">\n",
       "  <thead>\n",
       "    <tr style=\"text-align: right;\">\n",
       "      <th></th>\n",
       "      <th>number of features</th>\n",
       "      <th>parameters</th>\n",
       "      <th>AUC</th>\n",
       "    </tr>\n",
       "  </thead>\n",
       "  <tbody>\n",
       "    <tr>\n",
       "      <td>Normal RF</td>\n",
       "      <td>44</td>\n",
       "      <td>{'bootstrap': True, 'class_weight': None, 'cri...</td>\n",
       "      <td>0.500101</td>\n",
       "    </tr>\n",
       "    <tr>\n",
       "      <td>Normal RF 5 features</td>\n",
       "      <td>5</td>\n",
       "      <td>{'bootstrap': True, 'class_weight': None, 'cri...</td>\n",
       "      <td>0.545363</td>\n",
       "    </tr>\n",
       "    <tr>\n",
       "      <td>1st GSCV RF</td>\n",
       "      <td>5</td>\n",
       "      <td>{'bootstrap': True, 'class_weight': None, 'cri...</td>\n",
       "      <td>0.568550</td>\n",
       "    </tr>\n",
       "    <tr>\n",
       "      <td>2nd GSCV RF</td>\n",
       "      <td>5</td>\n",
       "      <td>{'bootstrap': True, 'class_weight': None, 'cri...</td>\n",
       "      <td>0.592820</td>\n",
       "    </tr>\n",
       "    <tr>\n",
       "      <td>3rd GSCV RF</td>\n",
       "      <td>5</td>\n",
       "      <td>{'bootstrap': True, 'class_weight': None, 'cri...</td>\n",
       "      <td>0.623320</td>\n",
       "    </tr>\n",
       "    <tr>\n",
       "      <td>Final GSCV RF</td>\n",
       "      <td>5</td>\n",
       "      <td>{'bootstrap': True, 'class_weight': None, 'cri...</td>\n",
       "      <td>0.629310</td>\n",
       "    </tr>\n",
       "  </tbody>\n",
       "</table>\n",
       "</div>"
      ],
      "text/plain": [
       "                      number of features  \\\n",
       "Normal RF                             44   \n",
       "Normal RF 5 features                   5   \n",
       "1st GSCV RF                            5   \n",
       "2nd GSCV RF                            5   \n",
       "3rd GSCV RF                            5   \n",
       "Final GSCV RF                          5   \n",
       "\n",
       "                                                             parameters  \\\n",
       "Normal RF             {'bootstrap': True, 'class_weight': None, 'cri...   \n",
       "Normal RF 5 features  {'bootstrap': True, 'class_weight': None, 'cri...   \n",
       "1st GSCV RF           {'bootstrap': True, 'class_weight': None, 'cri...   \n",
       "2nd GSCV RF           {'bootstrap': True, 'class_weight': None, 'cri...   \n",
       "3rd GSCV RF           {'bootstrap': True, 'class_weight': None, 'cri...   \n",
       "Final GSCV RF         {'bootstrap': True, 'class_weight': None, 'cri...   \n",
       "\n",
       "                           AUC  \n",
       "Normal RF             0.500101  \n",
       "Normal RF 5 features  0.545363  \n",
       "1st GSCV RF           0.568550  \n",
       "2nd GSCV RF           0.592820  \n",
       "3rd GSCV RF           0.623320  \n",
       "Final GSCV RF         0.629310  "
      ]
     },
     "execution_count": 39,
     "metadata": {},
     "output_type": "execute_result"
    }
   ],
   "source": [
    "cross_val_result"
   ]
  },
  {
   "cell_type": "code",
   "execution_count": 40,
   "metadata": {
    "ExecuteTime": {
     "end_time": "2019-10-25T09:40:11.659534Z",
     "start_time": "2019-10-25T09:40:11.653550Z"
    }
   },
   "outputs": [
    {
     "name": "stdout",
     "output_type": "stream",
     "text": [
      "最後のモデルが最も高いAUCを返すモデルだった\n",
      " パラメータ\n",
      " {'bootstrap': True, 'class_weight': None, 'criterion': 'gini', 'max_depth': 8, 'max_features': 'auto', 'max_leaf_nodes': None, 'min_impurity_decrease': 0.0, 'min_impurity_split': None, 'min_samples_leaf': 1, 'min_samples_split': 2, 'min_weight_fraction_leaf': 0.0, 'n_estimators': 300, 'n_jobs': None, 'oob_score': False, 'random_state': None, 'verbose': 0, 'warm_start': False} \n",
      "\n",
      "------------------------------\n",
      "AUC: 0.62931\n"
     ]
    }
   ],
   "source": [
    "print(\"最後のモデルが最も高いAUCを返すモデルだった\\n\",\"パラメータ\\n\", str(best_RF.get_params()), \"\\n\")\n",
    "print(\"-\"*30)\n",
    "print(\"AUC:\", 0.62931)"
   ]
  }
 ],
 "metadata": {
  "kernelspec": {
   "display_name": "Python 3",
   "language": "python",
   "name": "python3"
  },
  "language_info": {
   "codemirror_mode": {
    "name": "ipython",
    "version": 3
   },
   "file_extension": ".py",
   "mimetype": "text/x-python",
   "name": "python",
   "nbconvert_exporter": "python",
   "pygments_lexer": "ipython3",
   "version": "3.7.4"
  },
  "toc": {
   "base_numbering": 1,
   "nav_menu": {},
   "number_sections": true,
   "sideBar": true,
   "skip_h1_title": false,
   "title_cell": "Table of Contents",
   "title_sidebar": "Contents",
   "toc_cell": false,
   "toc_position": {},
   "toc_section_display": true,
   "toc_window_display": false
  }
 },
 "nbformat": 4,
 "nbformat_minor": 2
}
