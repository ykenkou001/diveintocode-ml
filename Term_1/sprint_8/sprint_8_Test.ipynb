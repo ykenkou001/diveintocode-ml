{
 "cells": [
  {
   "cell_type": "code",
   "execution_count": 1,
   "metadata": {},
   "outputs": [],
   "source": [
    "import matplotlib.pyplot as plt\n",
    "import numpy as np\n",
    "import pandas as pd\n",
    "import seaborn as sns\n",
    "from sklearn.linear_model import LinearRegression\n",
    "from sklearn.metrics import mean_squared_error\n",
    "from sklearn.model_selection import (GridSearchCV, KFold, cross_val_score,\n",
    "                                     train_test_split)\n",
    "from sklearn.preprocessing import StandardScaler\n",
    "from sklearn.svm import SVR\n",
    "from sklearn.tree import DecisionTreeRegressor\n",
    "\n",
    "%matplotlib inline"
   ]
  },
  {
   "cell_type": "code",
   "execution_count": 2,
   "metadata": {},
   "outputs": [
    {
     "data": {
      "text/plain": [
       "(1460, 2)"
      ]
     },
     "execution_count": 2,
     "metadata": {},
     "output_type": "execute_result"
    }
   ],
   "source": [
    "df = pd.read_csv(\"train.csv\") # データをダウンロード\n",
    "X = df[['GrLivArea', 'YearBuilt']] # 2つの特徴量を抜き出し変数に格納\n",
    "y = df[['SalePrice']] # 目的変数を抜き出し、変数に格納\n",
    "X.shape"
   ]
  },
  {
   "cell_type": "code",
   "execution_count": 3,
   "metadata": {},
   "outputs": [],
   "source": [
    "X_train, X_test, y_train, y_test = train_test_split(X, y,train_size=0.8)"
   ]
  },
  {
   "cell_type": "code",
   "execution_count": 4,
   "metadata": {},
   "outputs": [],
   "source": [
    "#対数変換処理をする\n",
    "X_train_log = np.log(X_train)\n",
    "y_train_log = np.log(y_train)\n",
    "X_test_log = np.log(X_test)\n",
    "y_test_log = np.log(y_test)"
   ]
  },
  {
   "cell_type": "code",
   "execution_count": 5,
   "metadata": {},
   "outputs": [],
   "source": [
    "#SVM\n",
    "svm = SVR(gamma='scale', C=1.0, epsilon=0.2) # SVCに訓練データを学習させる\n",
    "svm.fit(X_train_log, y_train_log.values.ravel()) # SVCによる検証データの分類\n",
    "svm_predict = svm.predict(X_test_log) #推定\n",
    "svm_mse = mean_squared_error(y_test_log, svm_predict) #mse"
   ]
  },
  {
   "cell_type": "code",
   "execution_count": 6,
   "metadata": {},
   "outputs": [],
   "source": [
    "# 決定木\n",
    "dtr = DecisionTreeRegressor(max_depth=3)\n",
    "dtr.fit(X_train_log, y_train_log)#学習\n",
    "dtr_predict = dtr.predict(X_test_log)#推定\n",
    "dtr_mse = mean_squared_error(y_test_log, dtr_predict) #mse"
   ]
  },
  {
   "cell_type": "code",
   "execution_count": 7,
   "metadata": {},
   "outputs": [],
   "source": [
    "#線形回帰\n",
    "lr = LinearRegression()\n",
    "lr.fit(X_train_log, y_train_log)#学習\n",
    "lr_predict = lr.predict(X_test_log)#推定\n",
    "lr_mse = mean_squared_error(y_test_log, lr_predict) #mse"
   ]
  },
  {
   "cell_type": "code",
   "execution_count": 8,
   "metadata": {},
   "outputs": [
    {
     "data": {
      "text/html": [
       "<div>\n",
       "<style scoped>\n",
       "    .dataframe tbody tr th:only-of-type {\n",
       "        vertical-align: middle;\n",
       "    }\n",
       "\n",
       "    .dataframe tbody tr th {\n",
       "        vertical-align: top;\n",
       "    }\n",
       "\n",
       "    .dataframe thead th {\n",
       "        text-align: right;\n",
       "    }\n",
       "</style>\n",
       "<table border=\"1\" class=\"dataframe\">\n",
       "  <thead>\n",
       "    <tr style=\"text-align: right;\">\n",
       "      <th></th>\n",
       "      <th>GrLivArea</th>\n",
       "      <th>YearBuilt</th>\n",
       "    </tr>\n",
       "  </thead>\n",
       "  <tbody>\n",
       "    <tr>\n",
       "      <th>0</th>\n",
       "      <td>1710</td>\n",
       "      <td>2003</td>\n",
       "    </tr>\n",
       "    <tr>\n",
       "      <th>1</th>\n",
       "      <td>1262</td>\n",
       "      <td>1976</td>\n",
       "    </tr>\n",
       "    <tr>\n",
       "      <th>2</th>\n",
       "      <td>1786</td>\n",
       "      <td>2001</td>\n",
       "    </tr>\n",
       "    <tr>\n",
       "      <th>3</th>\n",
       "      <td>1717</td>\n",
       "      <td>1915</td>\n",
       "    </tr>\n",
       "    <tr>\n",
       "      <th>4</th>\n",
       "      <td>2198</td>\n",
       "      <td>2000</td>\n",
       "    </tr>\n",
       "  </tbody>\n",
       "</table>\n",
       "</div>"
      ],
      "text/plain": [
       "   GrLivArea  YearBuilt\n",
       "0       1710       2003\n",
       "1       1262       1976\n",
       "2       1786       2001\n",
       "3       1717       1915\n",
       "4       2198       2000"
      ]
     },
     "execution_count": 8,
     "metadata": {},
     "output_type": "execute_result"
    }
   ],
   "source": [
    "#学習データの分割数\n",
    "n=4\n",
    "#モデル数\n",
    "m=2\n",
    "# データを分割し、変数に格納\n",
    "X_0 = np.array_split(X, n, 0)\n",
    "y_0 = np.array_split(y, n, 0)\n",
    "\n",
    "pd.concat([X_0[0], X_0[1]], 0).head()"
   ]
  },
  {
   "cell_type": "code",
   "execution_count": 9,
   "metadata": {},
   "outputs": [
    {
     "data": {
      "text/plain": [
       "array([[ 0,  1,  2,  3,  4,  5,  6,  7,  8,  9],\n",
       "       [10, 11, 12, 13, 14, 15, 16, 17, 18, 19]])"
      ]
     },
     "execution_count": 9,
     "metadata": {},
     "output_type": "execute_result"
    }
   ],
   "source": [
    "a = np.arange(10)[np.newaxis, :]\n",
    "b = np.arange(10, 20)[np.newaxis, :]\n",
    "\n",
    "np.concatenate([a, b],0)"
   ]
  },
  {
   "cell_type": "code",
   "execution_count": 10,
   "metadata": {},
   "outputs": [
    {
     "data": {
      "text/plain": [
       "2"
      ]
     },
     "execution_count": 10,
     "metadata": {},
     "output_type": "execute_result"
    }
   ],
   "source": [
    "models = {\"dtr\": DecisionTreeRegressor(max_depth=3), \"lr\": LinearRegression()}\n",
    "len(models)"
   ]
  },
  {
   "cell_type": "code",
   "execution_count": 11,
   "metadata": {},
   "outputs": [
    {
     "data": {
      "text/plain": [
       "'dtr'"
      ]
     },
     "execution_count": 11,
     "metadata": {},
     "output_type": "execute_result"
    }
   ],
   "source": [
    "key = list(models.keys())[0]\n",
    "key"
   ]
  },
  {
   "cell_type": "code",
   "execution_count": 12,
   "metadata": {},
   "outputs": [
    {
     "data": {
      "text/plain": [
       "dict_keys(['dtr', 'lr'])"
      ]
     },
     "execution_count": 12,
     "metadata": {},
     "output_type": "execute_result"
    }
   ],
   "source": [
    "models.keys()"
   ]
  },
  {
   "cell_type": "code",
   "execution_count": 13,
   "metadata": {},
   "outputs": [
    {
     "data": {
      "text/plain": [
       "dict_values([DecisionTreeRegressor(criterion='mse', max_depth=3, max_features=None,\n",
       "                      max_leaf_nodes=None, min_impurity_decrease=0.0,\n",
       "                      min_impurity_split=None, min_samples_leaf=1,\n",
       "                      min_samples_split=2, min_weight_fraction_leaf=0.0,\n",
       "                      presort=False, random_state=None, splitter='best'), LinearRegression(copy_X=True, fit_intercept=True, n_jobs=None, normalize=False)])"
      ]
     },
     "execution_count": 13,
     "metadata": {},
     "output_type": "execute_result"
    }
   ],
   "source": [
    "models.values()"
   ]
  },
  {
   "cell_type": "code",
   "execution_count": 14,
   "metadata": {},
   "outputs": [
    {
     "name": "stdout",
     "output_type": "stream",
     "text": [
      "0 dtr\n",
      "1 lr\n"
     ]
    }
   ],
   "source": [
    "for k, v in enumerate(models):\n",
    "    print(k, v)"
   ]
  },
  {
   "cell_type": "code",
   "execution_count": 15,
   "metadata": {},
   "outputs": [
    {
     "data": {
      "text/plain": [
       "DecisionTreeRegressor(criterion='mse', max_depth=3, max_features=None,\n",
       "                      max_leaf_nodes=None, min_impurity_decrease=0.0,\n",
       "                      min_impurity_split=None, min_samples_leaf=1,\n",
       "                      min_samples_split=2, min_weight_fraction_leaf=0.0,\n",
       "                      presort=False, random_state=None, splitter='best')"
      ]
     },
     "execution_count": 15,
     "metadata": {},
     "output_type": "execute_result"
    }
   ],
   "source": [
    "models[key]"
   ]
  },
  {
   "cell_type": "code",
   "execution_count": 16,
   "metadata": {},
   "outputs": [
    {
     "data": {
      "text/plain": [
       "'dtr'"
      ]
     },
     "execution_count": 16,
     "metadata": {},
     "output_type": "execute_result"
    }
   ],
   "source": [
    "(key)"
   ]
  },
  {
   "cell_type": "code",
   "execution_count": 46,
   "metadata": {},
   "outputs": [
    {
     "name": "stdout",
     "output_type": "stream",
     "text": [
      "(4, 2, 365)\n"
     ]
    }
   ],
   "source": [
    "#学習データの分割数\n",
    "n=4\n",
    "#モデル数\n",
    "m=2\n",
    "#ブレンドデータを格納するリスト\n",
    "x_size = int(len(X)/n)\n",
    "blend_data_0 = np.empty((n, x_size))\n",
    "blend_data = np.empty([n, x_size])\n",
    "\n",
    "\n",
    "for i in range(m-1):\n",
    "    blend_data =np.stack([blend_data, blend_data_0], 1)\n",
    "\n",
    "print(blend_data.shape)"
   ]
  },
  {
   "cell_type": "code",
   "execution_count": 79,
   "metadata": {},
   "outputs": [
    {
     "name": "stdout",
     "output_type": "stream",
     "text": [
      "[0, 1, 2, 3, 4, 5, 6, 7, 8, 9]\n"
     ]
    }
   ],
   "source": [
    "aa = list(range(10))\n",
    "bb = list(range(10, 20))\n",
    "cc =[]\n",
    "cc.append(aa)\n",
    "cc.append(bb)\n",
    "print(cc[0])"
   ]
  },
  {
   "cell_type": "code",
   "execution_count": 18,
   "metadata": {},
   "outputs": [],
   "source": [
    "#学習データの分割数\n",
    "n=4\n",
    "#モデル数\n",
    "m=2\n",
    "#行・省略しない\n",
    "pd.set_option('display.max_rows', 2000)\n",
    "#ブレンドデータを格納するリスト\n",
    "x_size = int(len(X)/4)\n",
    "blend_data = np.zeros((n, x_size))\n",
    "\n",
    "for i in range(n):\n",
    "    #学習モデルを分割\n",
    "    X_0 = np.array_split(X, n, 0)\n",
    "    y_0 = np.array_split(y, n, 0)\n",
    "    #i番目のデータを抽出\n",
    "    k = X_0.pop(i)\n",
    "    l = y_0.pop(i)\n",
    "    #インスタンス化、学習、推定\n",
    "    dtr = DecisionTreeRegressor(max_depth=3)\n",
    "    dtr.fit(pd.concat(X_0), pd.concat(y_0)) #学習\n",
    "    dtr_predict = dtr.predict(k) #推定\n",
    "    blend_data[i] = dtr_predict"
   ]
  },
  {
   "cell_type": "code",
   "execution_count": 19,
   "metadata": {},
   "outputs": [
    {
     "data": {
      "text/plain": [
       "pandas.core.frame.DataFrame"
      ]
     },
     "execution_count": 19,
     "metadata": {},
     "output_type": "execute_result"
    }
   ],
   "source": [
    "type(X_train_log)"
   ]
  },
  {
   "cell_type": "markdown",
   "metadata": {},
   "source": [
    "# クラス化"
   ]
  },
  {
   "cell_type": "code",
   "execution_count": 97,
   "metadata": {},
   "outputs": [],
   "source": [
    "class Stacking():\n",
    "    '''\n",
    "    スタッキングのスクラッチ実装\n",
    "    Parameters\n",
    "    \n",
    "    ---------\n",
    "    model : dict\n",
    "        モデルのインスタンス名：インスタンス\n",
    "    divi_num : int\n",
    "        データの分割数\n",
    "        \n",
    "    '''\n",
    "    def __init__(self, divi_num):\n",
    "        #self.models = models # モデルの辞書\n",
    "        self.divi_num = divi_num # 分割数\n",
    "        self.blend_data = [] #ブレンドデータを格納するリスト\n",
    "        \n",
    "    def fit(self, X, y, models):\n",
    "        \n",
    "        for i in range(len(models)):\n",
    "            for j in range(self.divi_num):\n",
    "                #学習モデルを分割\n",
    "                X_0 = np.array_split(X, self.divi_num, 0)\n",
    "                y_0 = np.array_split(y, self.divi_num, 0)\n",
    "                #i番目のデータを抽出\n",
    "                k = X_0.pop(j)\n",
    "                l = y_0.pop(j)\n",
    "                #インスタンス化、学習、推定\n",
    "                key = list(models.keys())[i]\n",
    "                clf = models[key]\n",
    "                clf.fit(pd.concat(X_0), pd.concat(y_0)) #学習\n",
    "                clf_predict = clf.predict(k) #推定\n",
    "                clf_predict = np.ravel(clf_predict).tolist() #配列をリスト化\n",
    "                self.blend_data.append(clf_predict) #リストに格納"
   ]
  },
  {
   "cell_type": "code",
   "execution_count": 98,
   "metadata": {},
   "outputs": [],
   "source": [
    "models=models = {\"dtr\": DecisionTreeRegressor(max_depth=3), \"lr\": LinearRegression()}\n",
    "\n",
    "stk = Stacking(divi_num=4)\n",
    "stk.fit(X_train_log, y_train_log, models)"
   ]
  },
  {
   "cell_type": "code",
   "execution_count": null,
   "metadata": {},
   "outputs": [],
   "source": []
  },
  {
   "cell_type": "code",
   "execution_count": null,
   "metadata": {},
   "outputs": [],
   "source": []
  }
 ],
 "metadata": {
  "kernelspec": {
   "display_name": "Python 3",
   "language": "python",
   "name": "python3"
  },
  "language_info": {
   "codemirror_mode": {
    "name": "ipython",
    "version": 3
   },
   "file_extension": ".py",
   "mimetype": "text/x-python",
   "name": "python",
   "nbconvert_exporter": "python",
   "pygments_lexer": "ipython3",
   "version": "3.7.3"
  },
  "toc": {
   "base_numbering": 1,
   "nav_menu": {},
   "number_sections": true,
   "sideBar": true,
   "skip_h1_title": false,
   "title_cell": "Table of Contents",
   "title_sidebar": "Contents",
   "toc_cell": false,
   "toc_position": {},
   "toc_section_display": true,
   "toc_window_display": false
  },
  "varInspector": {
   "cols": {
    "lenName": 16,
    "lenType": 16,
    "lenVar": 40
   },
   "kernels_config": {
    "python": {
     "delete_cmd_postfix": "",
     "delete_cmd_prefix": "del ",
     "library": "var_list.py",
     "varRefreshCmd": "print(var_dic_list())"
    },
    "r": {
     "delete_cmd_postfix": ") ",
     "delete_cmd_prefix": "rm(",
     "library": "var_list.r",
     "varRefreshCmd": "cat(var_dic_list()) "
    }
   },
   "types_to_exclude": [
    "module",
    "function",
    "builtin_function_or_method",
    "instance",
    "_Feature"
   ],
   "window_display": false
  }
 },
 "nbformat": 4,
 "nbformat_minor": 2
}
