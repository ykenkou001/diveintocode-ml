{
 "cells": [
  {
   "cell_type": "code",
   "execution_count": 1,
   "metadata": {},
   "outputs": [],
   "source": [
    "import matplotlib.pyplot as plt\n",
    "%matplotlib inline\n",
    "import numpy as np\n",
    "import pandas as pd\n",
    "import seaborn as sns\n",
    "from sklearn import datasets\n",
    "from sklearn.model_selection import train_test_split\n",
    "from sklearn.preprocessing import StandardScaler\n",
    "from sklearn.metrics import accuracy_score,precision_score,recall_score,f1_score,confusion_matrix\n",
    "from sklearn.linear_model import LogisticRegression\n",
    "from sklearn.datasets import load_iris"
   ]
  },
  {
   "cell_type": "code",
   "execution_count": 2,
   "metadata": {},
   "outputs": [
    {
     "data": {
      "text/html": [
       "<div>\n",
       "<style scoped>\n",
       "    .dataframe tbody tr th:only-of-type {\n",
       "        vertical-align: middle;\n",
       "    }\n",
       "\n",
       "    .dataframe tbody tr th {\n",
       "        vertical-align: top;\n",
       "    }\n",
       "\n",
       "    .dataframe thead th {\n",
       "        text-align: right;\n",
       "    }\n",
       "</style>\n",
       "<table border=\"1\" class=\"dataframe\">\n",
       "  <thead>\n",
       "    <tr style=\"text-align: right;\">\n",
       "      <th></th>\n",
       "      <th>sepal_length</th>\n",
       "      <th>sepal_width</th>\n",
       "      <th>petal_length</th>\n",
       "      <th>petal_width</th>\n",
       "      <th>Species</th>\n",
       "    </tr>\n",
       "  </thead>\n",
       "  <tbody>\n",
       "    <tr>\n",
       "      <th>0</th>\n",
       "      <td>7.0</td>\n",
       "      <td>3.2</td>\n",
       "      <td>4.7</td>\n",
       "      <td>1.4</td>\n",
       "      <td>0</td>\n",
       "    </tr>\n",
       "    <tr>\n",
       "      <th>1</th>\n",
       "      <td>6.4</td>\n",
       "      <td>3.2</td>\n",
       "      <td>4.5</td>\n",
       "      <td>1.5</td>\n",
       "      <td>0</td>\n",
       "    </tr>\n",
       "    <tr>\n",
       "      <th>2</th>\n",
       "      <td>6.9</td>\n",
       "      <td>3.1</td>\n",
       "      <td>4.9</td>\n",
       "      <td>1.5</td>\n",
       "      <td>0</td>\n",
       "    </tr>\n",
       "    <tr>\n",
       "      <th>3</th>\n",
       "      <td>5.5</td>\n",
       "      <td>2.3</td>\n",
       "      <td>4.0</td>\n",
       "      <td>1.3</td>\n",
       "      <td>0</td>\n",
       "    </tr>\n",
       "    <tr>\n",
       "      <th>4</th>\n",
       "      <td>6.5</td>\n",
       "      <td>2.8</td>\n",
       "      <td>4.6</td>\n",
       "      <td>1.5</td>\n",
       "      <td>0</td>\n",
       "    </tr>\n",
       "  </tbody>\n",
       "</table>\n",
       "</div>"
      ],
      "text/plain": [
       "   sepal_length  sepal_width  petal_length  petal_width  Species\n",
       "0           7.0          3.2           4.7          1.4        0\n",
       "1           6.4          3.2           4.5          1.5        0\n",
       "2           6.9          3.1           4.9          1.5        0\n",
       "3           5.5          2.3           4.0          1.3        0\n",
       "4           6.5          2.8           4.6          1.5        0"
      ]
     },
     "metadata": {},
     "output_type": "display_data"
    },
    {
     "data": {
      "text/html": [
       "<div>\n",
       "<style scoped>\n",
       "    .dataframe tbody tr th:only-of-type {\n",
       "        vertical-align: middle;\n",
       "    }\n",
       "\n",
       "    .dataframe tbody tr th {\n",
       "        vertical-align: top;\n",
       "    }\n",
       "\n",
       "    .dataframe thead th {\n",
       "        text-align: right;\n",
       "    }\n",
       "</style>\n",
       "<table border=\"1\" class=\"dataframe\">\n",
       "  <thead>\n",
       "    <tr style=\"text-align: right;\">\n",
       "      <th></th>\n",
       "      <th>sepal_length</th>\n",
       "      <th>sepal_width</th>\n",
       "      <th>petal_length</th>\n",
       "      <th>petal_width</th>\n",
       "      <th>Species</th>\n",
       "    </tr>\n",
       "  </thead>\n",
       "  <tbody>\n",
       "    <tr>\n",
       "      <th>95</th>\n",
       "      <td>6.7</td>\n",
       "      <td>3.0</td>\n",
       "      <td>5.2</td>\n",
       "      <td>2.3</td>\n",
       "      <td>1</td>\n",
       "    </tr>\n",
       "    <tr>\n",
       "      <th>96</th>\n",
       "      <td>6.3</td>\n",
       "      <td>2.5</td>\n",
       "      <td>5.0</td>\n",
       "      <td>1.9</td>\n",
       "      <td>1</td>\n",
       "    </tr>\n",
       "    <tr>\n",
       "      <th>97</th>\n",
       "      <td>6.5</td>\n",
       "      <td>3.0</td>\n",
       "      <td>5.2</td>\n",
       "      <td>2.0</td>\n",
       "      <td>1</td>\n",
       "    </tr>\n",
       "    <tr>\n",
       "      <th>98</th>\n",
       "      <td>6.2</td>\n",
       "      <td>3.4</td>\n",
       "      <td>5.4</td>\n",
       "      <td>2.3</td>\n",
       "      <td>1</td>\n",
       "    </tr>\n",
       "    <tr>\n",
       "      <th>99</th>\n",
       "      <td>5.9</td>\n",
       "      <td>3.0</td>\n",
       "      <td>5.1</td>\n",
       "      <td>1.8</td>\n",
       "      <td>1</td>\n",
       "    </tr>\n",
       "  </tbody>\n",
       "</table>\n",
       "</div>"
      ],
      "text/plain": [
       "    sepal_length  sepal_width  petal_length  petal_width  Species\n",
       "95           6.7          3.0           5.2          2.3        1\n",
       "96           6.3          2.5           5.0          1.9        1\n",
       "97           6.5          3.0           5.2          2.0        1\n",
       "98           6.2          3.4           5.4          2.3        1\n",
       "99           5.9          3.0           5.1          1.8        1"
      ]
     },
     "metadata": {},
     "output_type": "display_data"
    },
    {
     "name": "stderr",
     "output_type": "stream",
     "text": [
      "C:\\Users\\ykenk\\Anaconda3\\lib\\site-packages\\sklearn\\model_selection\\_split.py:2179: FutureWarning: From version 0.21, test_size will always complement train_size unless both are specified.\n",
      "  FutureWarning)\n"
     ]
    }
   ],
   "source": [
    "iris_dataset = load_iris()#データを抜き出す\n",
    "\n",
    "X = pd.DataFrame(iris_dataset.data, columns=['sepal_length', 'sepal_width', 'petal_length', 'petal_width'],)# 特徴量をDF化\n",
    "y = pd.DataFrame(iris_dataset.target, columns=['Species'])# ラベルをDF化\n",
    "# virgicolorとvirginica　　df_s = df.sort_index()　　df_r = df.reset_index()\n",
    "y = y.iloc[50:].sort_index()\n",
    "X = X.iloc[50:].sort_index()\n",
    "# インデックスを振りなおし、ラベルを0、１に変換\n",
    "X = X.reset_index(drop=True)\n",
    "y = y.reset_index(drop=True)\n",
    "y = y.replace(1, 0)\n",
    "y = y.replace(2, 1)\n",
    "\n",
    "# display(X.head())\n",
    "# display(y)\n",
    "df = pd.concat([X, y], axis=1)\n",
    "display(df.head())\n",
    "display(df.tail())\n",
    "\n",
    "# train_test_split\n",
    "X_train, X_test, y_train, y_test = train_test_split(X, y,train_size=0.75)\n",
    "#　標準化する\n",
    "scaler = StandardScaler()\n",
    "scaler.fit(X_train)\n",
    "# 標準化変形する\n",
    "\n",
    "X_train_transformed = scaler.transform(X_train)\n",
    "X_test_transformed = scaler.transform(X_test)\n"
   ]
  },
  {
   "cell_type": "code",
   "execution_count": null,
   "metadata": {},
   "outputs": [],
   "source": []
  },
  {
   "cell_type": "code",
   "execution_count": 3,
   "metadata": {},
   "outputs": [],
   "source": [
    "def sigoid(z):\n",
    "    '''\n",
    "    シグモイド関数\n",
    "    \n",
    "    Parameter\n",
    "    -------------\n",
    "    z : ndarray, shape (n_samples, 1)\n",
    "    \n",
    "    Rerurn\n",
    "    -------------\n",
    "    シグモイド関数\n",
    "    '''\n",
    "    return 1/ (1 + np.exp(-z))"
   ]
  },
  {
   "cell_type": "code",
   "execution_count": 4,
   "metadata": {},
   "outputs": [
    {
     "data": {
      "image/png": "[encoded data removed]",
      "text/plain": [
       "<Figure size 432x288 with 1 Axes>"
      ]
     },
     "metadata": {
      "needs_background": "light"
     },
     "output_type": "display_data"
    }
   ],
   "source": [
    "# -10~10のnumpy配列\n",
    "z = np.arange(-10, 10)\n",
    "#sigmoid(z)\n",
    "sig_z = sigoid(z)\n",
    "#sigmoid_curve_plot\n",
    "plt.plot(z, sig_z)\n",
    "plt.axvline(0)\n",
    "plt.ylim(-0.1, 1.1)\n",
    "plt.title('sigoid curve')\n",
    "plt.xlabel('x')\n",
    "plt.ylabel('$(z)')\n",
    "plt.yticks([0, 0.5, 1])\n",
    "plt.gca().yaxis.grid(True)\n",
    "plt.show()"
   ]
  },
  {
   "cell_type": "code",
   "execution_count": 5,
   "metadata": {},
   "outputs": [
    {
     "name": "stdout",
     "output_type": "stream",
     "text": [
      "(75, 4)\n",
      "[1 2 3 4]\n",
      "(75,)\n",
      "(75, 1)\n",
      "(75, 1)\n",
      "2\n",
      "2\n"
     ]
    }
   ],
   "source": [
    "#確認用theta\n",
    "theta_0 = np.arange(1, 5)\n",
    "print(X_train_transformed.shape)\n",
    "print(theta_0)\n",
    "\n",
    "th = np.dot(X_train, theta_0)\n",
    "print(th.shape)\n",
    "th = th[:, np.newaxis]\n",
    "print(th.shape)\n",
    "print(y_train.shape)\n",
    "print(th.ndim)\n",
    "print(y_train.ndim)"
   ]
  },
  {
   "cell_type": "code",
   "execution_count": 6,
   "metadata": {},
   "outputs": [],
   "source": [
    "\n",
    "j = np.copy(theta_0[np.newaxis, :])"
   ]
  },
  {
   "cell_type": "code",
   "execution_count": 7,
   "metadata": {},
   "outputs": [
    {
     "name": "stdout",
     "output_type": "stream",
     "text": [
      "[[1 2 3 4]]\n"
     ]
    }
   ],
   "source": [
    "reg = np.hstack([[0, j[1:]]])\n",
    "print(j)"
   ]
  },
  {
   "cell_type": "code",
   "execution_count": 8,
   "metadata": {},
   "outputs": [
    {
     "name": "stdout",
     "output_type": "stream",
     "text": [
      "[0 2 3 4]\n"
     ]
    }
   ],
   "source": [
    "# 正則化項の確認(バイアス項は正則化を適用しないので0にする。)\n",
    "reg = 1 * np.hstack([0, theta_0[1:]])\n",
    "print(reg)"
   ]
  },
  {
   "cell_type": "code",
   "execution_count": null,
   "metadata": {},
   "outputs": [],
   "source": []
  },
  {
   "cell_type": "code",
   "execution_count": 9,
   "metadata": {},
   "outputs": [
    {
     "ename": "NameError",
     "evalue": "name '_target_function' is not defined",
     "output_type": "error",
     "traceback": [
      "\u001b[1;31m---------------------------------------------------------------------------\u001b[0m",
      "\u001b[1;31mNameError\u001b[0m                                 Traceback (most recent call last)",
      "\u001b[1;32m<ipython-input-9-07bffb924817>\u001b[0m in \u001b[0;36m<module>\u001b[1;34m\u001b[0m\n\u001b[1;32m----> 1\u001b[1;33m \u001b[0mcost\u001b[0m \u001b[1;33m=\u001b[0m \u001b[0m_target_function\u001b[0m\u001b[1;33m(\u001b[0m\u001b[0mX\u001b[0m\u001b[1;33m,\u001b[0m \u001b[0my\u001b[0m\u001b[1;33m,\u001b[0m \u001b[0my_hat\u001b[0m\u001b[1;33m)\u001b[0m\u001b[1;33m\u001b[0m\u001b[1;33m\u001b[0m\u001b[0m\n\u001b[0m\u001b[0;32m      2\u001b[0m \u001b[0mprint\u001b[0m\u001b[1;33m(\u001b[0m\u001b[0mcost\u001b[0m\u001b[1;33m)\u001b[0m\u001b[1;33m\u001b[0m\u001b[1;33m\u001b[0m\u001b[0m\n\u001b[0;32m      3\u001b[0m \u001b[0mself\u001b[0m\u001b[1;33m.\u001b[0m\u001b[0mloss\u001b[0m\u001b[1;33m[\u001b[0m\u001b[0mi\u001b[0m\u001b[1;33m]\u001b[0m \u001b[1;33m+=\u001b[0m \u001b[0mcost\u001b[0m\u001b[1;33m\u001b[0m\u001b[1;33m\u001b[0m\u001b[0m\n",
      "\u001b[1;31mNameError\u001b[0m: name '_target_function' is not defined"
     ]
    }
   ],
   "source": [
    " cost = _target_function(X, y, y_hat)\n",
    "print(cost)\n",
    "self.loss[i] += cost"
   ]
  },
  {
   "cell_type": "code",
   "execution_count": null,
   "metadata": {},
   "outputs": [],
   "source": [
    "theta = np.arange(X.shape[1])[np.newaxis, :]\n",
    "theta = theta.T\n",
    "print(theta.shape)"
   ]
  },
  {
   "cell_type": "code",
   "execution_count": null,
   "metadata": {},
   "outputs": [],
   "source": [
    "# sigmoid関数\n",
    "x_sig = np.dot(X_train_transformed, theta_0.T) # n_sample * 1\n",
    "g_z = 1 / (1 + np.exp(-x_sig)) # 0~1を返す\n",
    "print(x_sig.shape)\n",
    "#print(x_sig)\n",
    "print(g_z)"
   ]
  },
  {
   "cell_type": "code",
   "execution_count": null,
   "metadata": {},
   "outputs": [],
   "source": [
    "avatar = np.copy(theta_0) #(n_feature, 1)\n",
    "error = x_sig[:, np.newaxis] - y_train # (n_samples, )\n",
    "m = X_train.shape[0] # Xのn_samples(yの要素数)\n",
    "g_d_1 = np.dot(error.T, X_train) # (n_samples, )\n",
    "reg_term = (1/m) * np.hstack([0, theta_0[1:]]) #正則化項　(n_samples, 1)\n",
    "        \n",
    "coef = theta_0 - (0.01 / m) * g_d_1 - reg_term\n",
    "print(coef)"
   ]
  },
  {
   "cell_type": "code",
   "execution_count": null,
   "metadata": {},
   "outputs": [],
   "source": [
    "avatar = np.copy(theta_0) #(n_feature, 1)\n",
    "avatar[0] = 0\n",
    "error = x_sig[:, np.newaxis] - y_train # (n_samples, 1)\n",
    "m = X_train_transformed.shape[0] \n",
    "g_d_1 = np.dot(error.T, X_train_transformed) # (1, n_samples )\n",
    "regural = (1/m) * theta_0.T #正則化項(n_samples, 1)\n",
    "        \n",
    "theta = theta_0 - (1 / m) * g_d_1 - (1 / m) * avatar\n",
    "print(theta)"
   ]
  },
  {
   "cell_type": "code",
   "execution_count": null,
   "metadata": {},
   "outputs": [],
   "source": [
    "    #def _target_function(self, X, y, y_hat): # 目的関数(損失関数）\n",
    "Lambda = 1\n",
    "m = len(y_train) # 要素数(n_samples)\n",
    "avatar = np.copy(theta_0) #(n_feature, 1)\n",
    "        \n",
    "#avatarの0番目に0を代入\n",
    "# 正則化項の確認(バイアス項は正則化を適用しないので0にする。)\n",
    "reg_0 = np.hstack([0, avatar[1:]])\n",
    "reg_term_1 = (Lambda/2*m)*np.sum(reg_0**2) #(n_features, )\n",
    "\n",
    "step1 = -y_train.T@np.log(g_z)\n",
    "step2 = 1 - y_train\n",
    "step3 = np.log(1 - g_z)\n",
    "\n",
    "objective_function = ((step1 - step2.T@step3)/m ) + reg_term_1\n",
    "\n",
    "print(objective_function)"
   ]
  },
  {
   "cell_type": "code",
   "execution_count": null,
   "metadata": {},
   "outputs": [],
   "source": [
    "iter = 3000\n",
    "loss = np.zeros(iter)\n",
    "print(loss[5])\n",
    "print(type(loss))"
   ]
  },
  {
   "cell_type": "code",
   "execution_count": null,
   "metadata": {},
   "outputs": [],
   "source": [
    "cost = objective_function\n",
    "print(type(cost))\n",
    "loss[0] += cost"
   ]
  },
  {
   "cell_type": "code",
   "execution_count": null,
   "metadata": {},
   "outputs": [],
   "source": [
    "z = np.array([1, 2, 4, 5])\n",
    "print(z.shape)\n",
    "z = z[:, np.newaxis]\n",
    "print(z)"
   ]
  },
  {
   "cell_type": "code",
   "execution_count": null,
   "metadata": {},
   "outputs": [],
   "source": [
    "def _target_function(self, X, y, y_hat, Lambda): # 目的関数(損失関数）\n",
    "        \n",
    "        m = len(y) # 要素数(n_samples)\n",
    "        avatar = np.copy(self.coef_) #(n_feature, 1)\n",
    "        #avatarの0番目に0を代入\n",
    "        # 正則化項の確認(バイアス項は正則化を適用しないので0にする。)\n",
    "        reg_term = (self.Lambda/m) * np.hstack([0, avatar[1:]]) #(1, n_features)\n",
    "        \n",
    "        step1 = -y.T@np.log(y_hat)\n",
    "        step2 = 1 - y# \n",
    "        step3 = np.log(1 - y_hat)\n",
    "        \n",
    "        \n",
    "        objective_function = (1/m )* (step1 - step2.T@step3).values + self.reg_term\n",
    "        \n",
    "        return objective_function"
   ]
  },
  {
   "cell_type": "code",
   "execution_count": null,
   "metadata": {},
   "outputs": [],
   "source": []
  },
  {
   "cell_type": "code",
   "execution_count": null,
   "metadata": {},
   "outputs": [],
   "source": [
    "# blog\n",
    "def h(X,theta) :\n",
    "    return 1/(1+np.exp(-(np.dot(X,theta))))\n",
    "\n",
    "def grad_desc(theta,alpha,itera,X,y):\n",
    "    m = len(y)\n",
    "    cost = np.zeros(itera)\n",
    "    \n",
    "    for i in range(itera):\n",
    "        cost[i] = -1*(1/m)*np.sum(y*np.log(h(X,theta))+(1-y)*np.log(1-h(X,theta)))\n",
    "        theta = theta - alpha*(1/m)*np.dot(X.T,(h(X,theta)-y))\n",
    "    return [cost,theta]"
   ]
  },
  {
   "cell_type": "code",
   "execution_count": null,
   "metadata": {},
   "outputs": [],
   "source": [
    "# blog\n",
    "def sigmoid(z):\n",
    "    return(1 / (1 + np.exp(-z)))\n",
    "\n",
    "def CostFunction(theta, X, y):\n",
    "    m = len(y) # 要素数(n_samples, 1)\n",
    "    h = sigmoid(X.dot(theta)) # 予測関数(1, n_features )\n",
    "    self.reg_term # 正則化項\n",
    "    \n",
    "    \n",
    "    \n",
    "    cost = -1*(1/m)*(np.log(h).T.dot(y)+np.log(1-h).T.dot(1-y))\n",
    "\n",
    "    return j"
   ]
  },
  {
   "cell_type": "code",
   "execution_count": null,
   "metadata": {},
   "outputs": [],
   "source": [
    "Lambda = 1\n",
    "avatar = np.copy(theta_0) #(n_feature, 1)"
   ]
  },
  {
   "cell_type": "code",
   "execution_count": null,
   "metadata": {},
   "outputs": [],
   "source": [
    "reg_term = (Lambda/X_train_transformed.shape[0]) * np.hstack([0, avatar[1:]])\n",
    "print(reg_term.shape)\n",
    "print(reg_term)"
   ]
  },
  {
   "cell_type": "code",
   "execution_count": null,
   "metadata": {},
   "outputs": [],
   "source": [
    "\n",
    "plt.scatter((df.iloc[:50, 0]), (df.iloc[:50, 2]), label='0') #label=0, SepalLength * PetalLength\n",
    "plt.scatter((df.iloc[50:, 0]), (df.iloc[50:, 2]), label='1') #label=1, SepalLength * PetalLength\n",
    "\n",
    "plt.xlabel(\"Sepal_length\", fontsize=15)\n",
    "plt.ylabel(\"Petal_length\", fontsize=15)\n",
    "plt.legend()\n",
    "\n",
    "plt.show()"
   ]
  },
  {
   "cell_type": "code",
   "execution_count": null,
   "metadata": {},
   "outputs": [],
   "source": [
    "plt.scatter((df.iloc[:50, 1]), (df.iloc[:50, 2]), label='0') #label=0, SepalWidth *PetalLength\n",
    "plt.scatter((df.iloc[50:, 1]), (df.iloc[50:, 2]), label='1') #label=1, SepalWidth *PetalLength\n",
    "\n",
    "plt.xlabel(\"sepal_width\", fontsize=15)\n",
    "plt.ylabel(\"petal_length\", fontsize=15)\n",
    "plt.legend()\n",
    "\n",
    "plt.show()"
   ]
  },
  {
   "cell_type": "code",
   "execution_count": null,
   "metadata": {},
   "outputs": [],
   "source": []
  }
 ],
 "metadata": {
  "kernelspec": {
   "display_name": "Python 3",
   "language": "python",
   "name": "python3"
  },
  "language_info": {
   "codemirror_mode": {
    "name": "ipython",
    "version": 3
   },
   "file_extension": ".py",
   "mimetype": "text/x-python",
   "name": "python",
   "nbconvert_exporter": "python",
   "pygments_lexer": "ipython3",
   "version": "3.7.3"
  },
  "toc": {
   "base_numbering": 1,
   "nav_menu": {},
   "number_sections": true,
   "sideBar": true,
   "skip_h1_title": false,
   "title_cell": "Table of Contents",
   "title_sidebar": "Contents",
   "toc_cell": false,
   "toc_position": {},
   "toc_section_display": true,
   "toc_window_display": false
  },
  "varInspector": {
   "cols": {
    "lenName": 16,
    "lenType": 16,
    "lenVar": 40
   },
   "kernels_config": {
    "python": {
     "delete_cmd_postfix": "",
     "delete_cmd_prefix": "del ",
     "library": "var_list.py",
     "varRefreshCmd": "print(var_dic_list())"
    },
    "r": {
     "delete_cmd_postfix": ") ",
     "delete_cmd_prefix": "rm(",
     "library": "var_list.r",
     "varRefreshCmd": "cat(var_dic_list()) "
    }
   },
   "types_to_exclude": [
    "module",
    "function",
    "builtin_function_or_method",
    "instance",
    "_Feature"
   ],
   "window_display": false
  }
 },
 "nbformat": 4,
 "nbformat_minor": 2
}
