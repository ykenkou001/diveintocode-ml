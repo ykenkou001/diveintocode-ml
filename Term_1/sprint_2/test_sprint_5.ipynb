{
 "cells": [
  {
   "cell_type": "code",
   "execution_count": 1,
   "metadata": {},
   "outputs": [],
   "source": [
    "import matplotlib.pyplot as plt\n",
    "%matplotlib inline\n",
    "import numpy as np\n",
    "import pandas as pd\n",
    "import seaborn as sns\n",
    "from sklearn.model_selection import train_test_split\n",
    "from sklearn.preprocessing import StandardScaler"
   ]
  },
  {
   "cell_type": "code",
   "execution_count": 2,
   "metadata": {
    "code_folding": []
   },
   "outputs": [],
   "source": [
    "#シンプルデータセット２作成コード\n",
    "X_2 = np.array([[-0.44699 , -2.8073  ],[-1.4621  , -2.4586  ],\n",
    "       [ 0.10645 ,  1.9242  ],[-3.5944  , -4.0112  ],\n",
    "       [-0.9888  ,  4.5718  ],[-3.1625  , -3.9606  ],\n",
    "       [ 0.56421 ,  0.72888 ],[-0.60216 ,  8.4636  ],\n",
    "       [-0.61251 , -0.75345 ],[-0.73535 , -2.2718  ],\n",
    "       [-0.80647 , -2.2135  ],[ 0.86291 ,  2.3946  ],\n",
    "       [-3.1108  ,  0.15394 ],[-2.9362  ,  2.5462  ],\n",
    "       [-0.57242 , -2.9915  ],[ 1.4771  ,  3.4896  ],\n",
    "       [ 0.58619 ,  0.37158 ],[ 0.6017  ,  4.3439  ],\n",
    "       [-2.1086  ,  8.3428  ],[-4.1013  , -4.353   ],\n",
    "       [-1.9948  , -1.3927  ],[ 0.35084 , -0.031994],\n",
    "       [ 0.96765 ,  7.8929  ],[-1.281   , 15.6824  ],\n",
    "       [ 0.96765 , 10.083   ],[ 1.3763  ,  1.3347  ],\n",
    "       [-2.234   , -2.5323  ],[-2.9452  , -1.8219  ],\n",
    "       [ 0.14654 , -0.28733 ],[ 0.5461  ,  5.8245  ],\n",
    "       [-0.65259 ,  9.3444  ],[ 0.59912 ,  5.3524  ],\n",
    "       [ 0.50214 , -0.31818 ],[-3.0603  , -3.6461  ],\n",
    "       [-6.6797  ,  0.67661 ],[-2.353   , -0.72261 ],\n",
    "       [ 1.1319  ,  2.4023  ],[-0.12243 ,  9.0162  ],\n",
    "       [-2.5677  , 13.1779  ],[ 0.057313,  5.4681  ]])\n",
    "y_2 = np.array([0, 0, 0, 0, 0, 0, 0, 0, 0, 0, 0, 0, 0, 0, 0, 0, 0, 0, 0, 0, 1, 1,\n",
    "       1, 1, 1, 1, 1, 1, 1, 1, 1, 1, 1, 1, 1, 1, 1, 1, 1, 1])"
   ]
  },
  {
   "cell_type": "code",
   "execution_count": 8,
   "metadata": {},
   "outputs": [
    {
     "name": "stdout",
     "output_type": "stream",
     "text": [
      "(40, 2)\n"
     ]
    }
   ],
   "source": [
    "c = np.unique(y_2)\n",
    "d = np.count_nonzero(y_2 == 1)\n",
    "d\n",
    "#print(np.count_nonzero(a % 2 == 1))\n",
    "print(X_2.shape)"
   ]
  },
  {
   "cell_type": "code",
   "execution_count": 6,
   "metadata": {},
   "outputs": [
    {
     "name": "stdout",
     "output_type": "stream",
     "text": [
      "0.5\n"
     ]
    }
   ],
   "source": [
    "#randint(0,100,20)       #  0〜99 の整数を20個生成　　　y = np.random.permutation(x)\n",
    "from numpy.random import *\n",
    "\n",
    "g = np.ones(15)\n",
    "h = np.zeros(15)\n",
    "# j = g*2\n",
    "\n",
    "y = np.concatenate([g,h])\n",
    "y = np.random.permutation(y)\n",
    "# print(y)\n",
    "\n",
    "#クラスのユニーク値\n",
    "c = np.unique(y)\n",
    "#サンプル数\n",
    "k = len(y)\n",
    "\n",
    "sigma = 0\n",
    "for i in range(len(c)):\n",
    "    w = np.count_nonzero(y == [i])\n",
    "    l = w/k\n",
    "    sigma += l**2\n",
    "i_t = 1 - sigma\n",
    "\n",
    "# print(\"0は{}\".format(np.count_nonzero(y == 0)))\n",
    "#print(\"1は{}\".format(np.count_nonzero(y == 1)))\n",
    "# print(k)\n",
    "# print(len(c))\n",
    "print(i_t)"
   ]
  },
  {
   "cell_type": "code",
   "execution_count": null,
   "metadata": {},
   "outputs": [],
   "source": [
    "def gini(y):\n",
    "    '''\n",
    "    '''\n",
    "    #クラスのユニーク値\n",
    "    c = np.unique(y)\n",
    "    #サンプル数\n",
    "    k = len(y)\n",
    "    #sigmaを初期化\n",
    "    sigma = 0\n",
    "    #クラス数分回す\n",
    "    \n",
    "    for i in range(len(c)):\n",
    "        #クラスごとのサンプル数を取得\n",
    "        w = np.count_nonzero(y == [i])\n",
    "        l = w/k\n",
    "        sigma += l**2\n",
    "    i_t = 1 - sigma\n",
    "\n",
    "    return i_t"
   ]
  },
  {
   "cell_type": "code",
   "execution_count": null,
   "metadata": {},
   "outputs": [],
   "source": [
    "#情報利得を求める関数\n",
    "def information_gain(y, left, right):\n",
    "    \n",
    "    #left,rightはインデックス？\n",
    "    info_gain = gini(y)- (len(left)/len(y))*gini(left) -　(len(right)/len(y))*gini(right)\n",
    "    \n",
    "    return info_gain\n"
   ]
  },
  {
   "cell_type": "code",
   "execution_count": 9,
   "metadata": {},
   "outputs": [],
   "source": [
    "#問題３　学習\n",
    "def dicision_region(X,y):\n"
   ]
  },
  {
   "cell_type": "code",
   "execution_count": null,
   "metadata": {},
   "outputs": [],
   "source": [
    "#情報利得を求める関数\n",
    "def information_gain(y, left, right):\n",
    "    \n",
    "    #left,rightはインデックス？\n",
    "    info_gain = gini(y)- (len(left)/len(y))*gini(left) -　(len(right)/len(y))*gini(right)\n",
    "    \n",
    "    return info_gain"
   ]
  },
  {
   "cell_type": "code",
   "execution_count": 85,
   "metadata": {},
   "outputs": [
    {
     "name": "stdout",
     "output_type": "stream",
     "text": [
      "[[34.     -6.6797]]\n",
      "[[ 3.       -3.5944  ]\n",
      " [ 5.       -3.1625  ]\n",
      " [12.       -3.1108  ]\n",
      " [33.       -3.0603  ]\n",
      " [27.       -2.9452  ]\n",
      " [13.       -2.9362  ]\n",
      " [38.       -2.5677  ]\n",
      " [35.       -2.353   ]\n",
      " [26.       -2.234   ]\n",
      " [18.       -2.1086  ]\n",
      " [20.       -1.9948  ]\n",
      " [ 1.       -1.4621  ]\n",
      " [23.       -1.281   ]\n",
      " [ 4.       -0.9888  ]\n",
      " [10.       -0.80647 ]\n",
      " [ 9.       -0.73535 ]\n",
      " [30.       -0.65259 ]\n",
      " [ 8.       -0.61251 ]\n",
      " [ 7.       -0.60216 ]\n",
      " [14.       -0.57242 ]\n",
      " [ 0.       -0.44699 ]\n",
      " [37.       -0.12243 ]\n",
      " [39.        0.057313]\n",
      " [ 2.        0.10645 ]\n",
      " [28.        0.14654 ]\n",
      " [21.        0.35084 ]\n",
      " [32.        0.50214 ]\n",
      " [29.        0.5461  ]\n",
      " [ 6.        0.56421 ]\n",
      " [16.        0.58619 ]\n",
      " [31.        0.59912 ]\n",
      " [17.        0.6017  ]\n",
      " [11.        0.86291 ]\n",
      " [22.        0.96765 ]\n",
      " [24.        0.96765 ]\n",
      " [36.        1.1319  ]\n",
      " [25.        1.3763  ]\n",
      " [15.        1.4771  ]]\n"
     ]
    }
   ],
   "source": [
    "#インデっクスの配列\n",
    "a = np.arange(X_2.shape[0])\n",
    "#インデックスを特注量ごとに結合しリスト化\n",
    "l_x = list(zip(a, X_2[:, 0]))\n",
    "l_y = list(zip(a, X_2[:, 1]))\n",
    "#配列化\n",
    "l_x = np.array(l_x)\n",
    "l_y = np.array(l_y)\n",
    "#ソートをかける(特徴量の値の小さい順)\n",
    "l_x_new = l_x[np.argsort(l_x[:, 1])]\n",
    "l_y_new = l_y[np.argsort(l_y[:, 1])]\n",
    "#left, rightを出し、情報利得を求めていく\n",
    "\n",
    "#l_x_new[1][1]の場合\n",
    "left0 = (l_x_new[:1])\n",
    "right0 = (l_x_new[2:])\n"
   ]
  },
  {
   "cell_type": "code",
   "execution_count": 77,
   "metadata": {},
   "outputs": [
    {
     "data": {
      "text/plain": [
       "array([[34.      , -6.6797  ],\n",
       "       [19.      , -4.1013  ],\n",
       "       [ 3.      , -3.5944  ],\n",
       "       [ 5.      , -3.1625  ],\n",
       "       [12.      , -3.1108  ],\n",
       "       [33.      , -3.0603  ],\n",
       "       [27.      , -2.9452  ],\n",
       "       [13.      , -2.9362  ],\n",
       "       [38.      , -2.5677  ],\n",
       "       [35.      , -2.353   ],\n",
       "       [26.      , -2.234   ],\n",
       "       [18.      , -2.1086  ],\n",
       "       [20.      , -1.9948  ],\n",
       "       [ 1.      , -1.4621  ],\n",
       "       [23.      , -1.281   ],\n",
       "       [ 4.      , -0.9888  ],\n",
       "       [10.      , -0.80647 ],\n",
       "       [ 9.      , -0.73535 ],\n",
       "       [30.      , -0.65259 ],\n",
       "       [ 8.      , -0.61251 ],\n",
       "       [ 7.      , -0.60216 ],\n",
       "       [14.      , -0.57242 ],\n",
       "       [ 0.      , -0.44699 ],\n",
       "       [37.      , -0.12243 ],\n",
       "       [39.      ,  0.057313],\n",
       "       [ 2.      ,  0.10645 ],\n",
       "       [28.      ,  0.14654 ],\n",
       "       [21.      ,  0.35084 ],\n",
       "       [32.      ,  0.50214 ],\n",
       "       [29.      ,  0.5461  ],\n",
       "       [ 6.      ,  0.56421 ],\n",
       "       [16.      ,  0.58619 ],\n",
       "       [31.      ,  0.59912 ],\n",
       "       [17.      ,  0.6017  ],\n",
       "       [11.      ,  0.86291 ],\n",
       "       [22.      ,  0.96765 ],\n",
       "       [24.      ,  0.96765 ],\n",
       "       [36.      ,  1.1319  ],\n",
       "       [25.      ,  1.3763  ],\n",
       "       [15.      ,  1.4771  ]])"
      ]
     },
     "execution_count": 77,
     "metadata": {},
     "output_type": "execute_result"
    }
   ],
   "source": [
    "l_x_new"
   ]
  },
  {
   "cell_type": "code",
   "execution_count": null,
   "metadata": {},
   "outputs": [],
   "source": []
  },
  {
   "cell_type": "code",
   "execution_count": null,
   "metadata": {},
   "outputs": [],
   "source": []
  },
  {
   "cell_type": "code",
   "execution_count": 32,
   "metadata": {},
   "outputs": [],
   "source": [
    "gg = np.sort(X_2[:, 0])\n",
    "hh = np.sort(X_2[:, 1])\n"
   ]
  },
  {
   "cell_type": "code",
   "execution_count": null,
   "metadata": {},
   "outputs": [],
   "source": [
    "a = [1, 2, 3, 4, 5, 6]\n",
    "b = ['a', 'b', 'c', 'd', 'e', 'f']\n",
    "\n",
    "zip(a, b)\n",
    "# <zip at 0x10f721188>\n",
    "# zipオブジェクトが返される(中身は見えない)\n",
    "\n",
    "l = list(zip(a, b))\n",
    "# [(1, 'a'), (2, 'b'), (3, 'c'), (4, 'd'), (5, 'e'), (6, 'f')]\n",
    "# リストに変換すると見える。タプルのリストになっている\n",
    "\n",
    "np.random.shuffle(l)     # シャッフル\n",
    "# [(4, 'd'), (5, 'e'), (2, 'b'), (1, 'a'), (3, 'c'), (6, 'f')]\n",
    "\n",
    "new_a, new_b = zip(*l)\n",
    "# new_a  ->  (4, 5, 2, 1, 3, 6)\n",
    "# new_b  ->  ('d', 'e', 'b', 'a', 'c', 'f')\n",
    "# 型がタプルになっていることに注意"
   ]
  },
  {
   "cell_type": "code",
   "execution_count": null,
   "metadata": {},
   "outputs": [],
   "source": []
  }
 ],
 "metadata": {
  "kernelspec": {
   "display_name": "Python 3",
   "language": "python",
   "name": "python3"
  },
  "language_info": {
   "codemirror_mode": {
    "name": "ipython",
    "version": 3
   },
   "file_extension": ".py",
   "mimetype": "text/x-python",
   "name": "python",
   "nbconvert_exporter": "python",
   "pygments_lexer": "ipython3",
   "version": "3.7.3"
  },
  "toc": {
   "base_numbering": 1,
   "nav_menu": {},
   "number_sections": true,
   "sideBar": true,
   "skip_h1_title": false,
   "title_cell": "Table of Contents",
   "title_sidebar": "Contents",
   "toc_cell": false,
   "toc_position": {},
   "toc_section_display": true,
   "toc_window_display": false
  },
  "varInspector": {
   "cols": {
    "lenName": 16,
    "lenType": 16,
    "lenVar": 40
   },
   "kernels_config": {
    "python": {
     "delete_cmd_postfix": "",
     "delete_cmd_prefix": "del ",
     "library": "var_list.py",
     "varRefreshCmd": "print(var_dic_list())"
    },
    "r": {
     "delete_cmd_postfix": ") ",
     "delete_cmd_prefix": "rm(",
     "library": "var_list.r",
     "varRefreshCmd": "cat(var_dic_list()) "
    }
   },
   "types_to_exclude": [
    "module",
    "function",
    "builtin_function_or_method",
    "instance",
    "_Feature"
   ],
   "window_display": false
  }
 },
 "nbformat": 4,
 "nbformat_minor": 2
}
