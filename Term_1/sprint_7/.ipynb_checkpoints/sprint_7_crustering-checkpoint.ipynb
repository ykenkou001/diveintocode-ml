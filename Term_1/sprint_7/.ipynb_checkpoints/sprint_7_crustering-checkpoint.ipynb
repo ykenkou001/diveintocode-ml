{
 "cells": [
  {
   "cell_type": "code",
   "execution_count": 1,
   "metadata": {},
   "outputs": [],
   "source": [
    "import numpy as np\n",
    "import matplotlib.pyplot as plt\n",
    "%matplotlib inline\n",
    "import pandas as pd\n",
    "from sklearn.datasets import make_blobs\n",
    "from numpy.random import *\n",
    "\n",
    "X, _ = make_blobs(n_samples=100, n_features=2, centers=4, cluster_std=0.5, shuffle=True, random_state=0)"
   ]
  },
  {
   "cell_type": "code",
   "execution_count": 2,
   "metadata": {},
   "outputs": [
    {
     "name": "stdout",
     "output_type": "stream",
     "text": [
      "(100, 2)\n"
     ]
    }
   ],
   "source": [
    "print(X.shape)"
   ]
  },
  {
   "cell_type": "code",
   "execution_count": 3,
   "metadata": {},
   "outputs": [
    {
     "data": {
      "image/png": "[encoded data removed]",
      "text/plain": [
       "<Figure size 432x288 with 1 Axes>"
      ]
     },
     "metadata": {
      "needs_background": "light"
     },
     "output_type": "display_data"
    }
   ],
   "source": [
    "plt.scatter(X[:,0], X[:,1])\n",
    "plt.grid()\n",
    "plt.tight_layout()\n",
    "plt.show()"
   ]
  },
  {
   "cell_type": "markdown",
   "metadata": {},
   "source": [
    "# 雛形"
   ]
  },
  {
   "cell_type": "code",
   "execution_count": 5,
   "metadata": {},
   "outputs": [],
   "source": [
    "class ScratchKMeans():\n",
    "    \"\"\"\n",
    "    K-meansのスクラッチ実装\n",
    "\n",
    "    Parameters\n",
    "    ----------\n",
    "    n_clusters : int\n",
    "      クラスタ数\n",
    "    n_init : int\n",
    "      中心点の初期値を何回変えて計算するか\n",
    "    max_iter : int\n",
    "      1回の計算で最大何イテレーションするか\n",
    "    tol : float\n",
    "      イテレーションを終了する基準となる中心点と重心の許容誤差\n",
    "    verbose : bool\n",
    "      学習過程を出力する場合はTrue\n",
    "    \"\"\"\n",
    "\n",
    "    def __init__(self, n_clusters, n_init, max_iter, tol, verbose=False):\n",
    "        # ハイパーパラメータを属性として記録\n",
    "        self.n_clusters = n_clusters\n",
    "        self.n_init = n_init\n",
    "        self.max_iter = max_iter\n",
    "        self.tol = tol\n",
    "        self.verbose = verbose\n",
    "\n",
    "    def fit(self, X):\n",
    "        \"\"\"\n",
    "        K-meansによるクラスタリングを計算\n",
    "        Parameters\n",
    "        ----------\n",
    "        X : 次の形のndarray, shape (n_samples, n_features)\n",
    "            学習用データの特徴量\n",
    "        \"\"\"\n",
    "        # 学習を行うコード\n",
    "\n",
    "        #中心点の初期値\n",
    "        center = select_myu(X)\n",
    "\n",
    "        for i in range(self.maxiter):\n",
    "\n",
    "            ass_clu = self.assign_cluster(X, center) #centerでクラスタへの割り当て\n",
    "            center = self.center_gravity(X, ass_clu) #重心（移動した中心点）\n",
    "\n",
    "            copy_center = center.copy()\n",
    "            copy_ass_clu = ass_clu.copy()\n",
    "            #中心点と重心の差が指定した許容値以下に達したら終わり\n",
    "            if np.all(abs(center - copy_center) <= tol):\n",
    "                break\n",
    "            #更新前後でクラスタの割り当てが変わらなければ終わり\n",
    "            if ass_clu == copy_ass_clu:\n",
    "                break\n",
    "                if self.verbose:\n",
    "            #verboseをTrueにした際は学習過程を出力\n",
    "            if verbose == True:\n",
    "                print(center)\n",
    "        \n",
    "        \n",
    "        #print(ass_clu, center)\n",
    "        return \n",
    "\n",
    "    def predict(self, X):\n",
    "        \"\"\"\n",
    "        入力されたデータがどのクラスタに属するかを計算\n",
    "        \"\"\"\n",
    "\n",
    "        pass\n",
    "        return\n",
    "    \n",
    "    def _decision_myu(self, X): #中心点の初期値を決める関数を定義する\n",
    "        '''\n",
    "        X:ndarray(m_samples, n_features)\n",
    "        k:ndarray(1, n_fueatures)\n",
    "            特徴量ベクトル\n",
    "        '''\n",
    "        #seedを固定\n",
    "        #seed(100)\n",
    "        #m_smaples分（Xのインデックス）のリストを作る\n",
    "        index = np.arange(X.shape[0])\n",
    "\n",
    "        #listからクラスタ数分のインデックスを取得\n",
    "        num = np.random.choice(index, self.n_clusters)\n",
    "\n",
    "        #配列Xからクラスタ数分の要素を抽出する\n",
    "        self.myu = X[num]\n",
    "\n",
    "        return self.myu\n",
    "\n",
    "    #SSEを求める関数を定義する\n",
    "    def _sse_gain(self, X):\n",
    "        m = X.shape[0]\n",
    "        #r_nk = 1\n",
    "        sigma = [] #\n",
    "\n",
    "        for i in range(m):\n",
    "            sigma_1 = np.sum((X[i] - self.select_myu(X))**2, axis=1)\n",
    "            sigma_2 = np.amin(sigma_1, axis=0)\n",
    "            #sigma_2 = np.sum(r_nk * sigma_1, axis=0)\n",
    "            sigma.append(sigma_2)\n",
    "\n",
    "        self.sse = sum(sigma)\n",
    "\n",
    "        return self.sse\n",
    "    \n",
    "    #クラスタへの割り当てを決める関数\n",
    "    def _assign_cluster(self, X):\n",
    "        num =[]\n",
    "        for i in range(X.shape[0]):\n",
    "            ans = np.linalg.norm(X[i]-self.select_myu(X), axis=1, ord=2)\n",
    "            index = np.argmin(ans)\n",
    "            num.append(index)\n",
    "\n",
    "        return self.num\n",
    "    \n",
    "    #中心点の移動\n",
    "    def center_gravity(X, c):\n",
    "            \n",
    "        #各クラスタの重心点を初期化\n",
    "        c_gra_1 = np.empty((self.n_clusters,X.shape[1]))\n",
    "\n",
    "        #クラスタ分ループする\n",
    "        for i in range(self.n_clusters):\n",
    "\n",
    "            #各クラスタの配列Xに対するインデックスを取得\n",
    "            c_0 = np.where(c==[i])[0]\n",
    "\n",
    "            #各クラスタの重心を求める\n",
    "            c_1 = np.mean(X[c_0], axis=0)\n",
    "            c_gra_1[i] = np.array([c_1])\n",
    "\n",
    "        return c_gra_1"
   ]
  },
  {
   "cell_type": "markdown",
   "metadata": {},
   "source": [
    "# 【問題1】中心点の初期値を決める\n",
    "入力されたデータから \n",
    "K\n",
    " 個の中心点 \n",
    "μ\n",
    "1\n",
    " から \n",
    "μ\n",
    "K\n",
    " の初期値を決めるコードを作成してください。\n",
    "K\n",
    " は指定したクラスタ数です。\n",
    "\n",
    "最もシンプルな初期値の決定方法は、データ点 \n",
    "X\n",
    "n\n",
    " の中からランダムに \n",
    "K\n",
    " 個選ぶことです。今回はこれを実装してください。\n",
    "\n",
    "K-meansの学習結果は中心点 \n",
    "μ\n",
    " の初期値に影響を受けます。そのため、学習時には複数個の初期値で計算を行います。"
   ]
  },
  {
   "cell_type": "code",
   "execution_count": 6,
   "metadata": {},
   "outputs": [],
   "source": [
    "def decision_k(X):\n",
    "    '''\n",
    "    X:ndarray(m_samples, n_features)\n",
    "    k:ndarray(1, n_fueatures)\n",
    "        特徴量ベクトル\n",
    "    '''\n",
    "    #seedを固定\n",
    "    seed(100)\n",
    "    #m_smaples分（Xのインデックス）のリストを作る\n",
    "    index = np.arange(X.shape[0])\n",
    "\n",
    "    #listからクラスタ数分のインデックスを取得\n",
    "    num = np.random.choice(index, n_clusters)\n",
    "\n",
    "    #配列Xからクラスタ数分の要素を抽出する\n",
    "    k = X[num]\n",
    "    \n",
    "    return k\n",
    "    "
   ]
  },
  {
   "cell_type": "markdown",
   "metadata": {},
   "source": [
    "# 【問題2】SSEを求める関数の作成\n",
    "クラスタ内誤差平方和（SSE, Sum of Squared Errors）を計算する関数を作成してください。\n",
    "\n",
    "K-meansはこのSSEを最小化する \n",
    "r\n",
    "n\n",
    "k\n",
    " と \n",
    "μ\n",
    "k\n",
    " を求めることが目的となります。複数個の初期値で計算したクラスタリング結果から、どれを最終的に採用するかを決める際にこのSSEを求める関数を使用します。"
   ]
  },
  {
   "cell_type": "code",
   "execution_count": 7,
   "metadata": {},
   "outputs": [],
   "source": [
    "#SSEを求める関数を定義する\n",
    "def sse_gain(X):\n",
    "    m = X.shape[0]\n",
    "    #r_nk = 1\n",
    "    sse = 0\n",
    "\n",
    "    for i in range(m):\n",
    "        sigma_1 = np.sum((X[i] - select_myu(X))**2, axis=1)\n",
    "        sigma_2 = np.amin(sigma_1, axis=0)\n",
    "        #sigma_2 = np.sum(r_nk * sigma_1, axis=0)\n",
    "        sse += sigma_2\n",
    "        \n",
    "    return sse"
   ]
  },
  {
   "cell_type": "markdown",
   "metadata": {},
   "source": [
    "# 【問題3】クラスタへの割り当て\n",
    "全てのデータ点 \n",
    "X\n",
    "n\n",
    " を最も近い中心点 \n",
    "μ\n",
    "k\n",
    " に割り当てるコードを作成してください。\n",
    "\n",
    "K-menasにおける 近い とは点と点のユークリッド距離が小さくなることです。ユークリッド距離とはピタゴラスの定理（三平方の定理）で求められるものですが、ベクトル \n",
    "p\n",
    ",\n",
    "q\n",
    " に対しては以下の数式で表現できます。\n",
    "\n",
    "∥\n",
    "q\n",
    "−\n",
    "p\n",
    "∥\n",
    "=\n",
    "√\n",
    "(\n",
    "q\n",
    "−\n",
    "p\n",
    ")\n",
    "⋅\n",
    "(\n",
    "q\n",
    "−\n",
    "p\n",
    ")\n",
    "NumPyにはこの関数がnp.linalg.normとして用意されているため使用してください。\n",
    "\n",
    "numpy.linalg.norm — NumPy v1.17 Manual\n",
    "\n",
    "中心点 \n",
    "μ\n",
    "k\n",
    " を固定した上でSSEを最小化していることになりますが、SSE自体を求める必要はありません。"
   ]
  },
  {
   "cell_type": "code",
   "execution_count": null,
   "metadata": {},
   "outputs": [],
   "source": [
    "def assign_cluster(X):\n",
    "    num =[]\n",
    "    for i in range(X.shape[0]):\n",
    "        ans = np.linalg.norm(X[i]-select_myu(X), axis=1, ord=2)\n",
    "        index = np.argmin(ans)\n",
    "        num.append(index)\n",
    "    \n",
    "    return num"
   ]
  },
  {
   "cell_type": "markdown",
   "metadata": {},
   "source": [
    "# 【問題4】中心点の移動\n",
    "中心点 \n",
    "μ\n",
    "k\n",
    " を \n",
    "k\n",
    " 番目のクラスタに割り当てられる全てのデータ点 \n",
    "X\n",
    "n\n",
    " の平均値（重心）に移動するコードを作成してください。\n",
    "\n",
    "クラスタの割り当て \n",
    "r\n",
    "n\n",
    "k\n",
    " を固定した上でSSEを最小化していることになりますが、SSE自体を求める必要はありません。"
   ]
  },
  {
   "cell_type": "code",
   "execution_count": null,
   "metadata": {},
   "outputs": [],
   "source": [
    "#中心点の移動\n",
    "# c = assign_cluster(X, c_gra)\n",
    "def center_gravity(X, c):\n",
    "    #クラスタの割り当てを変数に格納\n",
    "\n",
    "    #各クラスタの重心点を初期化\n",
    "    c_gra_1 = np.empty((n_clusters,X.shape[1]))\n",
    "    \n",
    "    #クラスタ分ループする\n",
    "    for i in range(n_clusters):\n",
    "        \n",
    "        #各クラスタの配列Xに対するインデックスを取得\n",
    "        c_0 = np.where(c==[i])[0]\n",
    "        \n",
    "        #各クラスタの重心を求める\n",
    "        c_1 = np.mean(X[c_0], axis=0)\n",
    "        \n",
    "        c_gra_1[i] = np.array([c_1])\n",
    "\n",
    "    return c_gra_1"
   ]
  },
  {
   "cell_type": "code",
   "execution_count": null,
   "metadata": {},
   "outputs": [],
   "source": [
    "# def center_gravity(X):\n",
    "#     #クラスタの割り当てを変数に格納\n",
    "#     c = assign_cluster(X)\n",
    "#     #各クラスタの重心点を格納する配列\n",
    "#     c_gra = np.empty((n_clusters, X.shape[1]))\n",
    "    \n",
    "#     #クラスタ分ループする\n",
    "#     for i in range(n_clusters):\n",
    "        \n",
    "#         #各クラスタの配列Xに対するインデックスを取得\n",
    "#         c_0 = np.where(c==[i])[0]\n",
    "        \n",
    "#         #各クラスタの重心を求める\n",
    "#         c_1 = np.mean(X[c_0][:, 0])\n",
    "#         c_2 = np.mean(X[c_0][:, 1])\n",
    "        \n",
    "#         c_gra[i] = np.array([c_1, c_2])\n",
    "\n",
    "#     return c_gra"
   ]
  },
  {
   "cell_type": "markdown",
   "metadata": {},
   "source": [
    "# 【問題5】繰り返し\n",
    "クラスタへの割り当てと中心点の移動を繰り返すことで学習を行うコードを作成してください。\n",
    "\n",
    "次のどれかの条件を満たしたらこれを止めます。\n",
    "\n",
    "繰り返しが指定した回数に到達する。（雛形では引数max_iter）\n",
    "中心点 \n",
    "μ\n",
    "k\n",
    " と重心の差が指定した許容値以下になる。（雛形では引数tol）\n"
   ]
  },
  {
   "cell_type": "code",
   "execution_count": null,
   "metadata": {},
   "outputs": [],
   "source": [
    "# 学習を行うコード\n",
    "\n",
    "#中心点の初期値\n",
    "center = select_myu(X)\n",
    "\n",
    "for i in range(maxiter):\n",
    "\n",
    "    ass_clu = assign_cluster(X, center) #centerでクラスタへの割り当て\n",
    "    center = center_gravity(X, ass_clu) #重心（移動した中心点）\n",
    "    \n",
    "    copy_center = center.copy()\n",
    "    copy_ass_clu = ass_clu.copy()\n",
    "    #中心点と重心の差が指定した許容値以下に達したら終わり\n",
    "    if np.all(abs(center - copy_center) <= tol):\n",
    "        break\n",
    "    #更新前後でクラスタの割り当てが変わらなければ終わり\n",
    "    if ass_clu == copy_ass_clu:\n",
    "        break\n",
    "        \n",
    "print(ass_clu, center)"
   ]
  },
  {
   "cell_type": "markdown",
   "metadata": {},
   "source": [
    "# 【問題6】異なる初期値で計算\n",
    "問題5の繰り返しを、指定した回数初期値を変更して計算するコードを作成してください。回数は雛形では引数n_initで指定します。\n",
    "\n",
    "複数計算した中でSSEが最小になったものが最終的な学習結果となるため、その時の中心点 \n",
    "μ\n",
    "k\n",
    " を保持しておきます。"
   ]
  },
  {
   "cell_type": "code",
   "execution_count": null,
   "metadata": {},
   "outputs": [],
   "source": []
  },
  {
   "cell_type": "markdown",
   "metadata": {},
   "source": [
    "# 【問題7】推定\n",
    "新たなデータに対してどのクラスタに所属するかの推定の際は、学習時の1つ目のフェーズと同じことを行います。\n",
    "\n",
    "データ点 \n",
    "X\n",
    "n\n",
    " と学習で決まった中心点 \n",
    "μ\n",
    "k\n",
    " に対し、 \n",
    "S\n",
    "S\n",
    "E\n",
    " を最小化する \n",
    "r\n",
    "n\n",
    "k\n",
    " を選ぶ。\n",
    "具体的には次のことです。\n",
    "\n",
    "データ点 \n",
    "X\n",
    "n\n",
    " を最も近い \n",
    "μ\n",
    "k\n",
    " に割り当てる。"
   ]
  },
  {
   "cell_type": "code",
   "execution_count": null,
   "metadata": {},
   "outputs": [],
   "source": []
  },
  {
   "cell_type": "markdown",
   "metadata": {},
   "source": [
    "# 【問題8】エルボー法の実装\n",
    "K-meansにおいて中心点の個数 \n",
    "k\n",
    " は人為的に決める必要がありますが、その判断方法としてエルボー法があります。エルボー法により中心点の個数 \n",
    "k\n",
    " を検討するためのコードを作成してください。\n",
    "\n",
    "SSEを縦軸、クラスタ数 \n",
    "k\n",
    " を横軸にした折れ線グラフを表示します。このためにK-meansのインスタンスからはSSEを取得できるようにしてください。"
   ]
  },
  {
   "cell_type": "code",
   "execution_count": null,
   "metadata": {},
   "outputs": [],
   "source": []
  },
  {
   "cell_type": "markdown",
   "metadata": {},
   "source": [
    "# 【問題9】（アドバンス課題）シルエット図\n",
    "k\n",
    " を決める助けになるものとしてシルエット図もあります。シルエット図を表示するコードを作成してください。\n",
    "\n",
    "Matplotlibを使い図を表示するコードは用意しました。以下を与えてください。"
   ]
  },
  {
   "cell_type": "code",
   "execution_count": null,
   "metadata": {},
   "outputs": [],
   "source": []
  },
  {
   "cell_type": "markdown",
   "metadata": {},
   "source": [
    "# 【問題10】クラスタ数kの選択\n",
    "最適だと思われるクラスタ数 \n",
    "k\n",
    " を選択してください。エルボー法やシルエット図を活用する他、人間が後々どう利用したいのかも選択に関わってきます。選択した上で、なぜそれを選んだか説明してください。"
   ]
  },
  {
   "cell_type": "code",
   "execution_count": null,
   "metadata": {},
   "outputs": [],
   "source": []
  },
  {
   "cell_type": "markdown",
   "metadata": {},
   "source": [
    "# 【問題11】既知のグループとの比較\n",
    "RegionとChannelはK-meansに使用しなかったが、これれらは既知のグループです。クラスタとこれら既知のグループがどう違うかを確認し、説明してください。まずはそれぞれを可視化してください。"
   ]
  },
  {
   "cell_type": "code",
   "execution_count": null,
   "metadata": {},
   "outputs": [],
   "source": []
  },
  {
   "cell_type": "markdown",
   "metadata": {},
   "source": [
    "# 【問題12】卸売業者にとって有益な情報\n",
    "卸売業者にとって有益な情報を探し出し文章にまとめてください。\n",
    "\n",
    "《ヒント》\n",
    "\n",
    "前処理を行う前のデータを使い、各クラスタの要約統計量を見るなどしてみましょう。また、PCAで次元削減したデータに対してK-meansを使用しましたが、6個の特徴量をそのまま使ったり、一部の特徴量のみを使ったりということも試してみてください。既知のグループとの比較結果も参考にしてください。\n",
    "\n",
    "条件ごとにデータを見る際にはPandasのgroupbyが便利です。\n",
    "\n",
    "pandas.DataFrame.groupby — pandas 0.23.4 documentation"
   ]
  },
  {
   "cell_type": "code",
   "execution_count": null,
   "metadata": {},
   "outputs": [],
   "source": []
  },
  {
   "cell_type": "markdown",
   "metadata": {},
   "source": [
    "# 【問題13】（アドバンス課題）他の手法の調査\n",
    "今回扱ったK-means以外に非階層クラスタリングで有名な手法としては DBSCAN 、\n",
    "PCA以外に次元削減手法で有名な手法としては t-SNE や LLE があります。\n",
    "\n",
    "DBSCANのメリット・デメリット\n",
    "t-SNE、LLEのメリット・デメリット\n",
    "について記述してください。"
   ]
  },
  {
   "cell_type": "code",
   "execution_count": null,
   "metadata": {},
   "outputs": [],
   "source": []
  },
  {
   "cell_type": "markdown",
   "metadata": {},
   "source": [
    "# 【問題14】（アドバンス課題）t-SNEとDBSCANの利用\n",
    "Wholesale customersのデータに対して、PCAではなく、 t-SNE を用いて次元削減をしてください。さらにK-meansではなく、 DBSCAN を用いてクラスタリングしてください。\n",
    "\n",
    "そのクラスタリング結果をPCA+kmeansの場合の結果と比較してみましょう。実装にはscikit-learnを用いてください。\n",
    "\n",
    "sklearn.manifold.TSNE — scikit-learn 0.20.2 documentation\n",
    "\n",
    "sklearn.cluster.DBSCAN — scikit-learn 0.20.2 documentation\n",
    "\n",
    "《パラメーターチューニング》\n",
    "\n",
    "これらはK-meansやPCAに比べパラメーターチューニングが難しい手法です。scikit-learnのドキュメントと共に論文も参考にしながらパラメータの意味を確認することも大切になります。\n",
    "\n",
    "t-SNEの論文\n",
    "\n",
    "DBSCANの論文"
   ]
  }
 ],
 "metadata": {
  "kernelspec": {
   "display_name": "Python 3",
   "language": "python",
   "name": "python3"
  },
  "language_info": {
   "codemirror_mode": {
    "name": "ipython",
    "version": 3
   },
   "file_extension": ".py",
   "mimetype": "text/x-python",
   "name": "python",
   "nbconvert_exporter": "python",
   "pygments_lexer": "ipython3",
   "version": "3.7.3"
  },
  "toc": {
   "base_numbering": 1,
   "nav_menu": {
    "height": "299px",
    "width": "372px"
   },
   "number_sections": true,
   "sideBar": true,
   "skip_h1_title": false,
   "title_cell": "Table of Contents",
   "title_sidebar": "Contents",
   "toc_cell": false,
   "toc_position": {},
   "toc_section_display": true,
   "toc_window_display": false
  },
  "varInspector": {
   "cols": {
    "lenName": 16,
    "lenType": 16,
    "lenVar": 40
   },
   "kernels_config": {
    "python": {
     "delete_cmd_postfix": "",
     "delete_cmd_prefix": "del ",
     "library": "var_list.py",
     "varRefreshCmd": "print(var_dic_list())"
    },
    "r": {
     "delete_cmd_postfix": ") ",
     "delete_cmd_prefix": "rm(",
     "library": "var_list.r",
     "varRefreshCmd": "cat(var_dic_list()) "
    }
   },
   "types_to_exclude": [
    "module",
    "function",
    "builtin_function_or_method",
    "instance",
    "_Feature"
   ],
   "window_display": false
  }
 },
 "nbformat": 4,
 "nbformat_minor": 2
}
