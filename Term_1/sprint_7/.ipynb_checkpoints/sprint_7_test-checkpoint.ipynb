{
 "cells": [
  {
   "cell_type": "code",
   "execution_count": 1,
   "metadata": {},
   "outputs": [],
   "source": [
    "import matplotlib.pyplot as plt\n",
    "import numpy as np\n",
    "import pandas as pd\n",
    "from numpy.random import *\n",
    "from sklearn.datasets import make_blobs\n",
    "\n",
    "%matplotlib inline\n",
    "X, _ = make_blobs(n_samples=100, n_features=2, centers=4, cluster_std=0.5, shuffle=True, random_state=0)"
   ]
  },
  {
   "cell_type": "code",
   "execution_count": 2,
   "metadata": {},
   "outputs": [
    {
     "name": "stdout",
     "output_type": "stream",
     "text": [
      "(100, 2)\n",
      "[[ 0.72086751  3.71347124]\n",
      " [-1.89468423  7.96898545]\n",
      " [ 1.35678894  4.36462484]\n",
      " [ 1.05374379  4.49286859]\n",
      " [ 1.59141542  4.90497725]]\n"
     ]
    }
   ],
   "source": [
    "print(X.shape)\n",
    "print(X[:5])"
   ]
  },
  {
   "cell_type": "code",
   "execution_count": 3,
   "metadata": {
    "scrolled": true
   },
   "outputs": [
    {
     "data": {
      "image/png": "[encoded data removed]",
      "text/plain": [
       "<Figure size 432x288 with 1 Axes>"
      ]
     },
     "metadata": {
      "needs_background": "light"
     },
     "output_type": "display_data"
    }
   ],
   "source": [
    "plt.scatter(X[:,0], X[:,1])\n",
    "plt.grid()\n",
    "plt.tight_layout()\n",
    "plt.show()"
   ]
  },
  {
   "cell_type": "markdown",
   "metadata": {},
   "source": [
    "# 雛型"
   ]
  },
  {
   "cell_type": "code",
   "execution_count": 4,
   "metadata": {},
   "outputs": [],
   "source": [
    "class ScratchKMeans():\n",
    "    \"\"\"\n",
    "    K-meansのスクラッチ実装\n",
    "\n",
    "    Parameters\n",
    "    ----------\n",
    "    n_clusters : int\n",
    "      クラスタ数\n",
    "    n_init : int\n",
    "      中心点の初期値を何回変えて計算するか\n",
    "    max_iter : int\n",
    "      1回の計算で最大何イテレーションするか\n",
    "    tol : float\n",
    "      イテレーションを終了する基準となる中心点と重心の許容誤差\n",
    "    verbose : bool\n",
    "      学習過程を出力する場合はTrue\n",
    "    \"\"\"\n",
    "\n",
    "    def __init__(self, n_clusters, n_init, max_iter, tol, verbose=False):\n",
    "        # ハイパーパラメータを属性として記録\n",
    "        self.n_clusters = n_clusters #クラスタ数\n",
    "        self.n_init = n_init #初期値を変更する回数\n",
    "        self.max_iter = max_iter #繰り返し回数\n",
    "        self.tol = tol #中心点と重心の差\n",
    "        self.verbose = verbose\n",
    "\n",
    "    def fit(self, X):\n",
    "        \"\"\"\n",
    "        K-meansによるクラスタリングを計算\n",
    "        Parameters\n",
    "        ----------\n",
    "        X : 次の形のndarray, shape (n_samples, n_features)\n",
    "            学習用データの特徴量\n",
    "        \"\"\"\n",
    "\n",
    "        if self.verbose:\n",
    "            #verboseをTrueにした際は学習過程を出力\n",
    "            print()\n",
    "        pass\n",
    "\n",
    "    def predict(self, X):\n",
    "        \"\"\"\n",
    "        入力されたデータがどのクラスタに属するかを計算\n",
    "        \"\"\"\n",
    "\n",
    "        pass\n",
    "        return"
   ]
  },
  {
   "cell_type": "markdown",
   "metadata": {},
   "source": [
    "# 問題１"
   ]
  },
  {
   "cell_type": "code",
   "execution_count": 5,
   "metadata": {},
   "outputs": [
    {
     "data": {
      "text/plain": [
       "int"
      ]
     },
     "execution_count": 5,
     "metadata": {},
     "output_type": "execute_result"
    }
   ],
   "source": [
    "type(len(X))"
   ]
  },
  {
   "cell_type": "code",
   "execution_count": 6,
   "metadata": {},
   "outputs": [],
   "source": [
    "#クラスタ数を任意で指定\n",
    "n_clusters = 4"
   ]
  },
  {
   "cell_type": "code",
   "execution_count": 7,
   "metadata": {},
   "outputs": [
    {
     "name": "stdout",
     "output_type": "stream",
     "text": [
      "[ 0  1  2  3  4  5  6  7  8  9 10 11 12 13 14 15 16 17 18 19 20 21 22 23\n",
      " 24 25 26 27 28 29 30 31 32 33 34 35 36 37 38 39 40 41 42 43 44 45 46 47\n",
      " 48 49 50 51 52 53 54 55 56 57 58 59 60 61 62 63 64 65 66 67 68 69 70 71\n",
      " 72 73 74 75 76 77 78 79 80 81 82 83 84 85 86 87 88 89 90 91 92 93 94 95\n",
      " 96 97 98 99]\n",
      "[39 34 37 93]\n",
      "[[-1.89928142  2.50466299]\n",
      " [-1.21986433  3.3789856 ]\n",
      " [ 1.85367905  1.5088862 ]\n",
      " [-1.19075663  3.12161318]]\n",
      "[0.12313498 5.27917503]\n"
     ]
    }
   ],
   "source": [
    "# seed(100)\n",
    "#m_smaples分のリストを作る\n",
    "index = np.arange(X.shape[0])\n",
    "print(index)\n",
    "#listからクラスタ数分のインデックスを取得\n",
    "num = np.random.choice(index, n_clusters)\n",
    "print(num)\n",
    "#配列Xからクラスタ数分の要素を抽出する\n",
    "k = X[num]\n",
    "print(k)\n",
    "print(X[8])"
   ]
  },
  {
   "cell_type": "markdown",
   "metadata": {},
   "source": [
    "## 関数化"
   ]
  },
  {
   "cell_type": "code",
   "execution_count": 8,
   "metadata": {},
   "outputs": [],
   "source": [
    "#ランダムに中心点を求める関数\n",
    "def select_myu(X):\n",
    "    '''\n",
    "    X:ndarray(m_samples, n_features)\n",
    "    k:ndarray(1, n_fueatures)\n",
    "        特徴量ベクトル\n",
    "    '''\n",
    "    #seedを固定\n",
    "    #seed(100)\n",
    "    #m_smaples分（Xのインデックス）のリストを作る\n",
    "    index = np.arange(X.shape[0])\n",
    "\n",
    "    #listからクラスタ数分のインデックスを取得\n",
    "    num = np.random.choice(index, n_clusters)\n",
    "\n",
    "    #配列Xからクラスタ数分の要素（中心値）を抽出する\n",
    "    myu = X[num]\n",
    "    \n",
    "    return myu"
   ]
  },
  {
   "cell_type": "code",
   "execution_count": 9,
   "metadata": {},
   "outputs": [
    {
     "name": "stdout",
     "output_type": "stream",
     "text": [
      "select_myu(X)\n",
      "[[-2.18485772  2.68708996]\n",
      " [-1.8219901   7.61654999]\n",
      " [-1.26789718  7.25141327]\n",
      " [-1.86407034  2.93379754]]\n"
     ]
    }
   ],
   "source": [
    "print(\"select_myu(X)\\n{}\".format(select_myu(X)))\n",
    "# print(\"select_myu(X)[0]{}\".format(select_myu(X)[0]))\n",
    "# print(\"select_myu(X)[1]{}\".format(select_myu(X)[1]))\n",
    "# print(\"select_myu(X)[2]{}\".format(select_myu(X)[2]))\n",
    "myu_1 = select_myu(X)"
   ]
  },
  {
   "cell_type": "markdown",
   "metadata": {},
   "source": [
    "# 問題2"
   ]
  },
  {
   "cell_type": "code",
   "execution_count": 10,
   "metadata": {},
   "outputs": [
    {
     "data": {
      "text/plain": [
       "array([196, 121])"
      ]
     },
     "execution_count": 10,
     "metadata": {},
     "output_type": "execute_result"
    }
   ],
   "source": [
    "np.array([14*14, 11*11])"
   ]
  },
  {
   "cell_type": "code",
   "execution_count": 11,
   "metadata": {},
   "outputs": [],
   "source": [
    "myu = select_myu(X) #ndarray\n",
    "# r_nk = 0or1(未定)\n",
    "#n = X.shape[0]"
   ]
  },
  {
   "cell_type": "code",
   "execution_count": 12,
   "metadata": {},
   "outputs": [
    {
     "name": "stdout",
     "output_type": "stream",
     "text": [
      "[1 2]\n",
      "[13 11]\n"
     ]
    }
   ],
   "source": [
    "X_0 = np.array([[1, 2],\n",
    "                [3, 4],\n",
    "                [5, 6],\n",
    "                [7, 8],\n",
    "                [9, 10]])\n",
    "\n",
    "myu_0 = np.array([[13, 11],\n",
    "                  [15, 13],\n",
    "                  [17, 15],\n",
    "                  [19, 17]])\n",
    "print(X_0[0])\n",
    "print(myu_0[0])"
   ]
  },
  {
   "cell_type": "code",
   "execution_count": 13,
   "metadata": {},
   "outputs": [
    {
     "data": {
      "text/plain": [
       "array([[  1,   4],\n",
       "       [  9,  16],\n",
       "       [ 25,  36],\n",
       "       [ 49,  64],\n",
       "       [ 81, 100]], dtype=int32)"
      ]
     },
     "execution_count": 13,
     "metadata": {},
     "output_type": "execute_result"
    }
   ],
   "source": [
    "X_0**2"
   ]
  },
  {
   "cell_type": "code",
   "execution_count": 14,
   "metadata": {},
   "outputs": [
    {
     "name": "stdout",
     "output_type": "stream",
     "text": [
      "31.934372910577533\n"
     ]
    }
   ],
   "source": [
    "m = X.shape[0]\n",
    "sigma = []\n",
    "\n",
    "\n",
    "for i in range(5):\n",
    "    sigma_1 = np.sum((X[i] - select_myu(X))**2, axis=1)\n",
    "    sigma_2 = np.amin(sigma_1, axis=0)\n",
    "\n",
    "    sigma.append(sigma_2)\n",
    "    #print(sigma_2)\n",
    "\n",
    "sse = sum(sigma)\n",
    "print(sse)"
   ]
  },
  {
   "cell_type": "code",
   "execution_count": null,
   "metadata": {},
   "outputs": [],
   "source": []
  },
  {
   "cell_type": "code",
   "execution_count": 15,
   "metadata": {},
   "outputs": [
    {
     "name": "stdout",
     "output_type": "stream",
     "text": [
      "[[-0.32742435 -1.31745285]\n",
      " [-1.56723123  3.58392942]\n",
      " [-0.41193642 -0.16326822]\n",
      " [ 2.16443478  0.47807326]]\n"
     ]
    },
    {
     "data": {
      "text/plain": [
       "array([1.35753037, 3.91161908, 0.44311187, 2.21660369])"
      ]
     },
     "execution_count": 15,
     "metadata": {},
     "output_type": "execute_result"
    }
   ],
   "source": [
    "ane = X[0] - myu_1\n",
    "print(ane)\n",
    "dd = (ane[:,0]**2 + ane[:,1]**2)**0.5\n",
    "dd"
   ]
  },
  {
   "cell_type": "markdown",
   "metadata": {},
   "source": [
    "## 関数化"
   ]
  },
  {
   "cell_type": "code",
   "execution_count": 16,
   "metadata": {},
   "outputs": [],
   "source": [
    "#SSEを求める関数を定義する\n",
    "def sse_gain(X, myu):\n",
    "    m = X.shape[0]\n",
    "    sigma = []\n",
    "\n",
    "    for i in range(m): \n",
    "        sigma_1 = np.sum(((X[i] - myu)**2), axis=1)\n",
    "        sigma_2 = np.amin(sigma_1, axis=0)#sigam_1の最小値を求める\n",
    "        #sigma_2 = np.sum(r_nk * sigma_1, axis=0)\n",
    "        sigma.append(sigma_2)#最小値をリストに格納\n",
    "    \n",
    "    sse = sum(sigma)\n",
    "\n",
    "    return sse"
   ]
  },
  {
   "cell_type": "code",
   "execution_count": 17,
   "metadata": {},
   "outputs": [
    {
     "data": {
      "text/plain": [
       "342.3743907901459"
      ]
     },
     "execution_count": 17,
     "metadata": {},
     "output_type": "execute_result"
    }
   ],
   "source": [
    "sse_gain(X, select_myu(X))"
   ]
  },
  {
   "cell_type": "markdown",
   "metadata": {},
   "source": [
    "# 問題３"
   ]
  },
  {
   "cell_type": "code",
   "execution_count": 18,
   "metadata": {},
   "outputs": [
    {
     "data": {
      "text/plain": [
       "2"
      ]
     },
     "execution_count": 18,
     "metadata": {},
     "output_type": "execute_result"
    }
   ],
   "source": [
    "ans = np.linalg.norm(X[0]-select_myu(X), axis=1, ord=2)\n",
    "index = np.argmin(ans)\n",
    "index    "
   ]
  },
  {
   "cell_type": "code",
   "execution_count": 19,
   "metadata": {},
   "outputs": [
    {
     "name": "stdout",
     "output_type": "stream",
     "text": [
      "[0, 1, 1, 2, 0, 0, 0, 1, 1, 2, 2, 1, 2, 3, 1, 1, 2, 0, 2, 3, 3, 3, 0, 1, 3, 2, 0, 3, 0, 0, 2, 2, 0, 2, 2, 0, 2, 2, 2, 2, 1, 2, 1, 1, 2, 0, 2, 3, 0, 3, 3, 0, 2, 2, 2, 0, 2, 0, 0, 2, 1, 3, 3, 0, 1, 0, 2, 0, 3, 1, 2, 1, 2, 0, 3, 1, 3, 1, 3, 2, 1, 2, 1, 2, 0, 3, 0, 1, 0, 0, 1, 3, 2, 0, 0, 0, 2, 2, 3, 3]\n"
     ]
    }
   ],
   "source": [
    "num =[]\n",
    "\n",
    "for i in range(X.shape[0]):\n",
    "    ans = np.linalg.norm(X[i]-select_myu(X), axis=1, ord=2)\n",
    "    index = np.argmin(ans)\n",
    "    num.append(index)\n",
    "    \n",
    "    \n",
    "print(num)"
   ]
  },
  {
   "cell_type": "markdown",
   "metadata": {},
   "source": [
    "## 関数化　#クラスタへの割り当て"
   ]
  },
  {
   "cell_type": "code",
   "execution_count": 20,
   "metadata": {},
   "outputs": [],
   "source": [
    "# #クラスタへの割り当て\n",
    "# def assign_cluster(X):\n",
    "#     new_myu = select_myu(X)\n",
    "#     num =[]\n",
    "#     for i in range(X.shape[0]):\n",
    "#         ans = np.linalg.norm(X[i]-new_myu, axis=1, ord=2)\n",
    "#         index = np.argmin(ans)\n",
    "#         num.append(index)\n",
    "#     num =np.array(num)#.reshape(X.shape[0], 1)\n",
    "    \n",
    "#     return num"
   ]
  },
  {
   "cell_type": "code",
   "execution_count": 21,
   "metadata": {},
   "outputs": [],
   "source": [
    "#クラスタへの割り当て\n",
    "\n",
    "def assign_cluster(X, myu):\n",
    "    num =[]\n",
    "    for i in range(X.shape[0]):\n",
    "        ans = np.linalg.norm(X[i] - myu, axis=1, ord=2)\n",
    "        index = np.argmin(ans)\n",
    "        num.append(index)\n",
    "    num =np.array(num)\n",
    "    \n",
    "    return num"
   ]
  },
  {
   "cell_type": "code",
   "execution_count": 22,
   "metadata": {},
   "outputs": [
    {
     "data": {
      "text/plain": [
       "array([[ 1.04829186,  5.03092408],\n",
       "       [ 2.28809874,  0.12954182],\n",
       "       [ 1.13280393,  3.87673946],\n",
       "       [-1.44356727,  3.23539798]])"
      ]
     },
     "execution_count": 22,
     "metadata": {},
     "output_type": "execute_result"
    }
   ],
   "source": [
    "myu_1"
   ]
  },
  {
   "cell_type": "code",
   "execution_count": 23,
   "metadata": {},
   "outputs": [
    {
     "data": {
      "text/plain": [
       "array([2, 0, 2, 0, 0, 2, 3, 0, 0, 0, 0, 0, 0, 0, 0, 1, 1, 3, 3, 1, 2, 0,\n",
       "       3, 1, 0, 3, 3, 2, 1, 1, 1, 0, 1, 1, 3, 2, 0, 1, 0, 3, 0, 3, 0, 3,\n",
       "       3, 0, 1, 3, 2, 2, 0, 1, 3, 3, 3, 0, 0, 1, 1, 0, 0, 1, 1, 0, 1, 0,\n",
       "       3, 3, 1, 0, 0, 1, 0, 0, 2, 2, 3, 3, 1, 1, 1, 0, 3, 2, 1, 3, 1, 1,\n",
       "       2, 0, 0, 3, 2, 3, 3, 0, 0, 3, 0, 0], dtype=int64)"
      ]
     },
     "execution_count": 23,
     "metadata": {},
     "output_type": "execute_result"
    }
   ],
   "source": [
    "\n",
    "assign_cluster(X, myu_1)"
   ]
  },
  {
   "cell_type": "code",
   "execution_count": 24,
   "metadata": {},
   "outputs": [],
   "source": [
    "# [1 0 1 1 1 1 2 0 1 0 0 0 0 0 0 3 3 2 2 3 1 0 2 3 1 2 2 1 3 3 3 0 3 3 2 1 0\n",
    "#  3 0 2 1 2 0 2 2 0 3 2 1 1 1 3 2 2 2 0 0 3 3 0 0 3 3 1 3 0 2 2 3 1 0 3 1 0\n",
    "#  1 1 2 2 3 3 3 0 2 1 3 2 3 3 1 1 1 2 1 2 2 0 0 2 0 1]"
   ]
  },
  {
   "cell_type": "markdown",
   "metadata": {},
   "source": [
    "# 問題4"
   ]
  },
  {
   "cell_type": "code",
   "execution_count": null,
   "metadata": {},
   "outputs": [],
   "source": []
  },
  {
   "cell_type": "code",
   "execution_count": 25,
   "metadata": {},
   "outputs": [],
   "source": [
    "#Xのクラスタの割り当てを変数に格納\n",
    "c = assign_cluster(X, myu_1)\n",
    "#cの各クラスタのインデックスを取得\n",
    "c_0 = np.where(c==0)[0]\n",
    "c_1 = np.where(c==1)[0]\n",
    "c_2 = np.where(c==2)[0]\n",
    "c_3 = np.where(c==3)[0]\n",
    "#０クラスタにおける重心は\n",
    "X_mean_0 = np.mean(X[c_0][:,0])\n",
    "X_mean_1 = np.mean(X[c_0][:,1])\n"
   ]
  },
  {
   "cell_type": "code",
   "execution_count": 26,
   "metadata": {},
   "outputs": [
    {
     "name": "stdout",
     "output_type": "stream",
     "text": [
      "[-1.34851669 -0.40032746]\n",
      "c_1\n",
      "[-0.58029549  6.77335225]\n",
      "c_1\n",
      "[1.99186903 0.96561071]\n",
      "c_1\n",
      "[0.99327781 3.96919085]\n",
      "c_1\n",
      "[-1.47935679  3.11716896]\n",
      "[[-0.58029549  6.77335225]\n",
      " [ 1.99186903  0.96561071]\n",
      " [ 0.99327781  3.96919085]\n",
      " [-1.47935679  3.11716896]]\n"
     ]
    }
   ],
   "source": [
    "c = assign_cluster(X, myu_1)\n",
    "c_gra_0 = np.empty((n_clusters, X.shape[1]))\n",
    "print(c_gra_0[0])\n",
    "#クラスタ分ループする\n",
    "for i in range(n_clusters):\n",
    "    #各クラスタの配列Xに対するインデックスを取得\n",
    "    c_0 = np.where(c==[i])[0]\n",
    "    #各クラスタの重心を求める\n",
    "    c_1 = np.mean(X[c_0],axis=0)\n",
    "    print(\"c_1\\n{}\".format(c_1))\n",
    "#     c_2 = np.mean(X[c_0][:, 1])\n",
    "#     print(\"c_2\\n{}\".format(c_2))\n",
    "    c_gra_0[i] = np.array([c_1])\n",
    "    \n",
    "print(c_gra_0)"
   ]
  },
  {
   "cell_type": "code",
   "execution_count": 27,
   "metadata": {},
   "outputs": [
    {
     "name": "stdout",
     "output_type": "stream",
     "text": [
      "[2 0 2 0 0 2 3 0 0 0 0 0 0 0 0 1 1 3 3 1 2 0 3 1 0 3 3 2 1 1 1 0 1 1 3 2 0\n",
      " 1 0 3 0 3 0 3 3 0 1 3 2 2 0 1 3 3 3 0 0 1 1 0 0 1 1 0 1 0 3 3 1 0 0 1 0 0\n",
      " 2 2 3 3 1 1 1 0 3 2 1 3 1 1 2 0 0 3 2 3 3 0 0 3 0 0]\n",
      "[-1.34851669 -0.40032746]\n",
      "c_1\n",
      "-0.5802954873371843\n",
      "c_2\n",
      "6.773352253325371\n",
      "c_1\n",
      "1.9918690296485415\n",
      "c_2\n",
      "0.9656107096107793\n",
      "c_1\n",
      "0.993277809077044\n",
      "c_2\n",
      "3.9691908472780995\n",
      "c_1\n",
      "-1.4793567922695052\n",
      "c_2\n",
      "3.117168961022598\n",
      "[[-0.58029549  6.77335225]\n",
      " [ 1.99186903  0.96561071]\n",
      " [ 0.99327781  3.96919085]\n",
      " [-1.47935679  3.11716896]]\n"
     ]
    }
   ],
   "source": [
    "c = assign_cluster(X, myu_1)\n",
    "print(c)\n",
    "c_gra_0 = np.empty((n_clusters, X.shape[1]))\n",
    "print(c_gra_0[0])\n",
    "#クラスタ分ループする\n",
    "for i in range(n_clusters):\n",
    "    #各クラスタの配列Xに対するインデックスを取得\n",
    "    c_0 = np.where(c==[i])[0]\n",
    "    #各クラスタの重心を求める\n",
    "    c_1 = np.mean(X[c_0][:, 0])\n",
    "    print(\"c_1\\n{}\".format(c_1))\n",
    "    c_2 = np.mean(X[c_0][:, 1])\n",
    "    print(\"c_2\\n{}\".format(c_2))\n",
    "    c_gra_0[i] = np.array([c_1, c_2])\n",
    "    \n",
    "print(c_gra_0)"
   ]
  },
  {
   "cell_type": "markdown",
   "metadata": {},
   "source": [
    "## 関数化　#中心点の移動"
   ]
  },
  {
   "cell_type": "code",
   "execution_count": 28,
   "metadata": {
    "code_folding": []
   },
   "outputs": [],
   "source": [
    "#中心点の移動\n",
    "# c = assign_cluster(X, c_gra)\n",
    "def center_gravity(X, num_cluster):\n",
    "\n",
    "    #各クラスタの重心点を初期化\n",
    "    c_gra_1 = np.empty((n_clusters,X.shape[1]))\n",
    "    \n",
    "    #クラスタ分ループする\n",
    "    for i in range(n_clusters):\n",
    "        \n",
    "        #各クラスタの配列Xに対するインデックスを取得\n",
    "        c_0 = np.where(num_cluster==[i])[0]\n",
    "        #各クラスタの重心を求める\n",
    "        c_1 = np.mean(X[c_0], axis=0)\n",
    "        \n",
    "        c_gra_1[i] = np.array([c_1])\n",
    "\n",
    "    return c_gra_1"
   ]
  },
  {
   "cell_type": "code",
   "execution_count": 29,
   "metadata": {},
   "outputs": [
    {
     "data": {
      "text/plain": [
       "array([[ 1.04829186,  5.03092408],\n",
       "       [ 2.28809874,  0.12954182],\n",
       "       [ 1.13280393,  3.87673946],\n",
       "       [-1.44356727,  3.23539798]])"
      ]
     },
     "execution_count": 29,
     "metadata": {},
     "output_type": "execute_result"
    }
   ],
   "source": [
    "myu_1"
   ]
  },
  {
   "cell_type": "code",
   "execution_count": 30,
   "metadata": {},
   "outputs": [
    {
     "data": {
      "text/plain": [
       "array([[-0.58029549,  6.77335225],\n",
       "       [ 1.99186903,  0.96561071],\n",
       "       [ 0.99327781,  3.96919085],\n",
       "       [-1.47935679,  3.11716896]])"
      ]
     },
     "execution_count": 30,
     "metadata": {},
     "output_type": "execute_result"
    }
   ],
   "source": [
    "c_gra = myu_1\n",
    "c = assign_cluster(X, c_gra)\n",
    "center_gravity(X,c)"
   ]
  },
  {
   "cell_type": "markdown",
   "metadata": {},
   "source": [
    "# 問題５"
   ]
  },
  {
   "cell_type": "code",
   "execution_count": 31,
   "metadata": {},
   "outputs": [
    {
     "data": {
      "text/plain": [
       "array([[0., 0.],\n",
       "       [0., 0.],\n",
       "       [0., 0.],\n",
       "       [0., 0.]])"
      ]
     },
     "metadata": {},
     "output_type": "display_data"
    }
   ],
   "source": [
    "center = np.zeros((n_clusters, 2))\n",
    "display(center)"
   ]
  },
  {
   "cell_type": "code",
   "execution_count": 32,
   "metadata": {},
   "outputs": [
    {
     "data": {
      "text/plain": [
       "array([[0.23056766, 0.55962866],\n",
       "       [0.4897978 , 0.1728779 ],\n",
       "       [0.46611053, 0.08327689],\n",
       "       [0.69288304, 0.91681375]])"
      ]
     },
     "execution_count": 32,
     "metadata": {},
     "output_type": "execute_result"
    }
   ],
   "source": [
    "maxiter=30\n",
    "tol = np.random.rand(n_clusters, X.shape[1])\n",
    "tol"
   ]
  },
  {
   "cell_type": "code",
   "execution_count": 33,
   "metadata": {},
   "outputs": [
    {
     "name": "stdout",
     "output_type": "stream",
     "text": [
      "[[nan nan]\n",
      " [nan nan]\n",
      " [nan nan]\n",
      " [nan nan]]\n",
      "[[-1.26811733  7.76378266]\n",
      " [ 0.92578447  4.32475792]\n",
      " [-1.47935679  3.11716896]\n",
      " [ 1.99186903  0.96561071]]\n"
     ]
    },
    {
     "name": "stderr",
     "output_type": "stream",
     "text": [
      "C:\\Users\\ykenk\\Anaconda3\\lib\\site-packages\\numpy\\core\\fromnumeric.py:3118: RuntimeWarning: Mean of empty slice.\n",
      "  out=out, **kwargs)\n",
      "C:\\Users\\ykenk\\Anaconda3\\lib\\site-packages\\numpy\\core\\_methods.py:78: RuntimeWarning: invalid value encountered in true_divide\n",
      "  ret, rcount, out=ret, casting='unsafe', subok=False)\n"
     ]
    }
   ],
   "source": [
    "center_0 = center_gravity(X, myu_1)\n",
    "print(center_0)\n",
    "cc = np.array([[-1.26811733,7.76378266],\n",
    "              [ 0.92578447,4.32475792],\n",
    "              [-1.47935679,3.11716896],\n",
    "              [ 1.99186903,0.96561071]])\n",
    "center = cc\n",
    "print(center)"
   ]
  },
  {
   "cell_type": "code",
   "execution_count": 34,
   "metadata": {},
   "outputs": [
    {
     "name": "stdout",
     "output_type": "stream",
     "text": [
      "[2 0 2 2 2 2 3 0 2 0 0 0 0 0 0 1 1 2 3 1 2 0 3 1 2 3 2 2 1 1 1 0 1 1 3 2 0\n",
      " 1 0 3 2 3 0 3 3 0 1 3 2 2 2 1 3 3 3 0 0 1 1 0 0 1 1 2 1 0 3 3 1 2 0 1 2 0\n",
      " 2 2 3 3 1 1 1 0 3 2 1 3 1 1 2 2 2 3 2 3 3 0 0 3 0 2] [[-1.26811733  7.76378266]\n",
      " [ 1.99186903  0.96561071]\n",
      " [ 0.82384619  4.26545221]\n",
      " [-1.56883283  3.08178097]]\n"
     ]
    }
   ],
   "source": [
    "# 学習を行うコード\n",
    "\n",
    "#中心点の初期値\n",
    "center = select_myu(X)\n",
    "\n",
    "for i in range(maxiter):\n",
    "\n",
    "    ass_clu = assign_cluster(X, center) #centerでクラスタへの割り当て\n",
    "    center = center_gravity(X, ass_clu) #重心（移動した中心点）\n",
    "    \n",
    "    copy_center = center.copy()\n",
    "    #中心点と重心の差が指定した許容値以下に達したら終わり\n",
    "    if np.all(abs(center - copy_center) <= tol):\n",
    "        break\n",
    "        \n",
    "print(ass_clu, center)"
   ]
  },
  {
   "cell_type": "code",
   "execution_count": 35,
   "metadata": {},
   "outputs": [],
   "source": [
    "#中心点の初期値\n",
    "#center = select_myu(X)\n",
    "\n",
    "def move_center(X, myu):\n",
    "    # myu＝中心値\n",
    "    # 学習を行うコード\n",
    "\n",
    "    for i in range(maxiter):\n",
    "        ass_clu = assign_cluster(X, myu) #myuでクラスタへの割り当て\n",
    "        center = center_gravity(X, ass_clu) #重心（移動した中心点）\n",
    "\n",
    "        copy_center = center.copy()\n",
    "        \n",
    "        #中心点と重心の差が指定した許容値以下に達したらbreak\n",
    "        if np.all(abs(center - copy_center) <= tol):\n",
    "            break\n",
    "       \n",
    "\n",
    "    return ass_clu, center"
   ]
  },
  {
   "cell_type": "code",
   "execution_count": 36,
   "metadata": {},
   "outputs": [
    {
     "data": {
      "text/plain": [
       "(array([1, 3, 1, 1, 1, 1, 2, 3, 1, 3, 3, 3, 3, 3, 3, 0, 0, 0, 2, 0, 1, 3,\n",
       "        2, 0, 1, 2, 0, 1, 1, 0, 0, 3, 0, 0, 2, 1, 3, 0, 3, 2, 1, 2, 3, 2,\n",
       "        2, 3, 0, 2, 1, 0, 1, 0, 2, 2, 0, 3, 3, 0, 0, 3, 3, 0, 0, 1, 0, 3,\n",
       "        2, 2, 0, 1, 3, 0, 1, 3, 1, 1, 0, 2, 0, 0, 0, 3, 2, 1, 0, 2, 0, 0,\n",
       "        1, 1, 1, 2, 0, 2, 2, 3, 3, 2, 3, 0], dtype=int64),\n",
       " array([[ 1.4588388 ,  1.50417762],\n",
       "        [ 1.09825475,  4.27942575],\n",
       "        [-1.64411641,  3.10153054],\n",
       "        [-1.26811733,  7.76378266]]))"
      ]
     },
     "execution_count": 36,
     "metadata": {},
     "output_type": "execute_result"
    }
   ],
   "source": [
    "center_0 = select_myu(X)\n",
    "move_center(X, center_0)"
   ]
  },
  {
   "cell_type": "markdown",
   "metadata": {},
   "source": [
    "# 問題6"
   ]
  },
  {
   "cell_type": "code",
   "execution_count": 37,
   "metadata": {},
   "outputs": [
    {
     "name": "stdout",
     "output_type": "stream",
     "text": [
      "162.65491841039645\n",
      "[[-1.26789718  7.25141327]\n",
      " [-1.26789718  7.25141327]\n",
      " [ 2.64465731  0.80770124]\n",
      " [-0.33533163  3.390122  ]]\n"
     ]
    },
    {
     "name": "stderr",
     "output_type": "stream",
     "text": [
      "C:\\Users\\ykenk\\Anaconda3\\lib\\site-packages\\ipykernel_launcher.py:15: RuntimeWarning: invalid value encountered in less_equal\n",
      "  from ipykernel import kernelapp as app\n"
     ]
    }
   ],
   "source": [
    "n_init = 10\n",
    "#異なる初期値で計算するコード\n",
    "\n",
    "#sseの最小値とmyuを格納するリスト\n",
    "sse_list = []\n",
    "myu_list = []\n",
    "\n",
    "#μとsseを変更していく\n",
    "for i in range(n_init):\n",
    "    new_myu = select_myu(X) #中心点\n",
    "    m_c = move_center(X, new_myu)\n",
    "    new_sse = sse_gain(X, new_myu)\n",
    "    sse_list.append(new_sse)\n",
    "    myu_list.append(new_myu)\n",
    "#sseの最小値のインデックスを取得    \n",
    "min_sse_index = np.argmin(sse_list)\n",
    "\n",
    "print(sse_list[min_sse_index])\n",
    "print(myu_list[min_sse_index])"
   ]
  },
  {
   "cell_type": "code",
   "execution_count": null,
   "metadata": {},
   "outputs": [],
   "source": []
  },
  {
   "cell_type": "code",
   "execution_count": null,
   "metadata": {},
   "outputs": [],
   "source": []
  }
 ],
 "metadata": {
  "kernelspec": {
   "display_name": "Python 3",
   "language": "python",
   "name": "python3"
  },
  "language_info": {
   "codemirror_mode": {
    "name": "ipython",
    "version": 3
   },
   "file_extension": ".py",
   "mimetype": "text/x-python",
   "name": "python",
   "nbconvert_exporter": "python",
   "pygments_lexer": "ipython3",
   "version": "3.7.3"
  },
  "toc": {
   "base_numbering": 1,
   "nav_menu": {
    "height": "196px",
    "width": "370px"
   },
   "number_sections": true,
   "sideBar": true,
   "skip_h1_title": false,
   "title_cell": "Table of Contents",
   "title_sidebar": "Contents",
   "toc_cell": false,
   "toc_position": {
    "height": "calc(100% - 180px)",
    "left": "10px",
    "top": "150px",
    "width": "165px"
   },
   "toc_section_display": true,
   "toc_window_display": false
  },
  "varInspector": {
   "cols": {
    "lenName": 16,
    "lenType": 16,
    "lenVar": 40
   },
   "kernels_config": {
    "python": {
     "delete_cmd_postfix": "",
     "delete_cmd_prefix": "del ",
     "library": "var_list.py",
     "varRefreshCmd": "print(var_dic_list())"
    },
    "r": {
     "delete_cmd_postfix": ") ",
     "delete_cmd_prefix": "rm(",
     "library": "var_list.r",
     "varRefreshCmd": "cat(var_dic_list()) "
    }
   },
   "types_to_exclude": [
    "module",
    "function",
    "builtin_function_or_method",
    "instance",
    "_Feature"
   ],
   "window_display": false
  }
 },
 "nbformat": 4,
 "nbformat_minor": 2
}
